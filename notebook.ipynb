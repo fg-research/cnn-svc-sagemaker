{
 "cells": [
  {
   "cell_type": "markdown",
   "metadata": {},
   "source": [
    "# Train, tune, and deploy a custom ML model using the Time Series Classification (CNN-SVM) Algorithm from AWS Marketplace"
   ]
  },
  {
   "cell_type": "markdown",
   "metadata": {},
   "source": [
    "The [Time Series Classification (CNN-SVM) Algorithm from AWS Marketplace](placeholder) \n",
    "performs time series classification with an unsupervised convolutional neural network followed by a support vector classifier. \n",
    "It implements both training and inference from CSV data and supports both CPU and GPU instances.\n",
    "The training and inference Docker images were built by extending the PyTorch 2.0 Python 3.10 SageMaker containers.\n",
    "The Docker images include modifications of software licensed under the Apache License 2.0, see the [LICENSE](https://github.com/fg-research/cnn-svc-sagemaker/blob/master/LICENSE) and [NOTICE](https://github.com/fg-research/cnn-svc-sagemaker/blob/master/NOTICE).\n",
    "\n",
    "#### Model Overview  \n",
    "The model has two components: an encoder which extracts the relevant features, \n",
    "and a support vector classifier which takes as input the extracted features and predicts the class labels.\n",
    "\n",
    "The encoder includes a stack of exponentially dilated causal convolutional blocks, followed by an adaptive max pooling layer and a linear output layer.\n",
    "Each block consists of two causal convolutional layers with the same dilation rate, each followed by weight normalization and Leaky ReLU activation.\n",
    "A residual connection is applied between the input and the output of each block, where the input is transformed by an additional convolutional layer with a kernel size of 1 when its length does not match the one of the output.\n",
    "\n",
    "The encoder parameters are learned in an unsupervised manner by minimizing the triplet loss.\n",
    "The training procedure makes the extracted features of a given sequence (anchor) \n",
    "as close as possible to the extracted features of this same sequence's subsequences (positive samples) \n",
    "and as distant as possible from the extracted features of other subsequences (negative samples).\n",
    "\n",
    "The number of features extracted by the encoder is determined by the number of hidden units of the linear output layer.\n",
    "These features are used together with the class labels for training the support vector classifier. \n",
    "\n",
    "<img src=https://fg-research-assets.s3.eu-west-1.amazonaws.com/cnn-encoder-diagram.png style=\"width:80%;margin-top:30px;margin-bottom:20px\"/>\n",
    "\n",
    "*Encoder architecture (source: [doi.org/10.48550/arXiv.1901.10738](https://doi.org/10.48550/arXiv.1901.10738))*\n",
    "\n",
    "#### Model Resources \n",
    "- **Paper:** [Unsupervised scalable representation learning for multivariate time series](https://doi.org/10.48550/arXiv.1901.10738).\n",
    "\n",
    "This sample notebook shows you how to train a custom ML model using the [Time Series Classification (CNN-SVM) Algorithm from AWS Marketplace](placeholder).\n",
    "\n",
    "**Note: This is a reference notebook and it cannot run unless you make the changes suggested in the notebook.**"
   ]
  },
  {
   "cell_type": "markdown",
   "metadata": {},
   "source": [
    "## Pre-requisites\n",
    "1. This notebook contains elements which render correctly in Jupyter interface. Open this notebook from an Amazon SageMaker Notebook Instance or Amazon SageMaker Studio.\n",
    "1. Ensure that IAM role used has **AmazonSageMakerFullAccess**\n",
    "1. Some hands-on experience using [Amazon SageMaker](https://aws.amazon.com/sagemaker/).\n",
    "1. To use this algorithm successfully, ensure that:\n",
    "    1. Either your IAM role has these three permissions and you have authority to make AWS Marketplace subscriptions in the AWS account used: \n",
    "        1. **aws-marketplace:ViewSubscriptions**\n",
    "        1. **aws-marketplace:Unsubscribe**\n",
    "        1. **aws-marketplace:Subscribe**  \n",
    "    2. or your AWS account has a subscription to the [Time Series Classification (CNN-SVM) Algorithm from AWS Marketplace](placeholder)."
   ]
  },
  {
   "cell_type": "markdown",
   "metadata": {},
   "source": [
    "## Contents\n",
    "1. [Subscribe to the algorithm](#1.-Subscribe-to-the-algorithm)\n",
    "1. [Prepare dataset](#2.-Prepare-dataset)\n",
    "\t1. [Dataset format expected by the algorithm](#A.-Dataset-format-expected-by-the-algorithm)\n",
    "\t1. [Configure and visualize train and test dataset](#B.-Configure-and-visualize-train-and-test-dataset)\n",
    "\t1. [Upload datasets to Amazon S3](#C.-Upload-datasets-to-Amazon-S3)\n",
    "1. [Train a machine learning model](#3:-Train-a-machine-learning-model)\n",
    "\t1. [Set up environment](#3.1-Set-up-environment)\n",
    "\t1. [Train a model](#3.2-Train-a-model)\n",
    "1. [Deploy model and verify results](#4:-Deploy-model-and-verify-results)\n",
    "    1. [Deploy trained model](#A.-Deploy-trained-model)\n",
    "    1. [Create input payload](#B.-Create-input-payload)\n",
    "    1. [Perform real-time inference](#C.-Perform-real-time-inference)\n",
    "    1. [Visualize output](#D.-Visualize-output)\n",
    "    1. [Calculate relevant metrics](#E.-Calculate-relevant-metrics)\n",
    "    1. [Delete the endpoint](#F.-Delete-the-endpoint)\n",
    "1. [Tune your model! (optional)](#5:-Tune-your-model!-(optional))\n",
    "\t1. [Tuning Guidelines](#A.-Tuning-Guidelines)\n",
    "\t1. [Define Tuning configuration](#B.-Define-Tuning-configuration)\n",
    "\t1. [Run a model tuning job](#C.-Run-a-model-tuning-job)\n",
    "1. [Perform Batch inference](#6.-Perform-Batch-inference)\n",
    "1. [Clean-up](#7.-Clean-up)\n",
    "\t1. [Delete the model](#A.-Delete-the-model)\n",
    "\t1. [Unsubscribe to the listing (optional)](#B.-Unsubscribe-to-the-listing-(optional))\n",
    "\n",
    "\n",
    "## Usage instructions\n",
    "You can run this notebook one cell at a time (by using Shift+Enter for running a cell)."
   ]
  },
  {
   "cell_type": "markdown",
   "metadata": {},
   "source": [
    "## 1. Subscribe to the algorithm"
   ]
  },
  {
   "cell_type": "markdown",
   "metadata": {},
   "source": [
    "To subscribe to the algorithm:\n",
    "1. Open the algorithm listing page.\n",
    "1. On the AWS Marketplace listing, click on the **Continue to subscribe** button.\n",
    "1. On the **Subscribe to this software** page, review and click on **\"Accept Offer\"** if you agree with EULA, pricing, and support terms. \n",
    "1. Once you click on the **Continue to configuration** button and then choose a **region**, you will see a **Product ARN**. This is the algorithm ARN that you need to specify while training a custom ML model. **Copy the ARN corresponding to your region and specify the same in the following cell.**"
   ]
  },
  {
   "cell_type": "code",
   "execution_count": 1,
   "metadata": {
    "tags": []
   },
   "outputs": [],
   "source": [
    "algo_arn = \"arn:aws:sagemaker:eu-west-1:661670223746:algorithm/cnn-svc-algo-v1-1\""
   ]
  },
  {
   "cell_type": "markdown",
   "metadata": {},
   "source": [
    "## 2. Prepare dataset"
   ]
  },
  {
   "cell_type": "code",
   "execution_count": 2,
   "metadata": {
    "tags": []
   },
   "outputs": [],
   "source": [
    "import io\n",
    "import datetime\n",
    "import boto3\n",
    "import sagemaker\n",
    "import pandas as pd\n",
    "import numpy as np\n",
    "import matplotlib.pyplot as plt\n",
    "from sklearn.metrics import classification_report"
   ]
  },
  {
   "cell_type": "code",
   "execution_count": 3,
   "metadata": {
    "tags": []
   },
   "outputs": [
    {
     "data": {
      "text/plain": [
       "'sagemaker-eu-west-1-661670223746'"
      ]
     },
     "execution_count": 3,
     "metadata": {},
     "output_type": "execute_result"
    }
   ],
   "source": [
    "# S3 bucket\n",
    "sagemaker_session = sagemaker.Session()\n",
    "bucket = sagemaker_session.default_bucket()\n",
    "bucket"
   ]
  },
  {
   "cell_type": "code",
   "execution_count": 4,
   "metadata": {
    "tags": []
   },
   "outputs": [],
   "source": [
    "# EC2 instance\n",
    "instance_type = \"ml.m5.2xlarge\""
   ]
  },
  {
   "cell_type": "markdown",
   "metadata": {},
   "source": [
    "### A. Dataset format expected by the algorithm"
   ]
  },
  {
   "cell_type": "markdown",
   "metadata": {},
   "source": [
    "The training (and optionally, validation) dataset should be provided as a CSV file. \n",
    "The CSV file should not contain any index column or column headers. \n",
    "Each row of the CSV file represents a time series, while each column represents a time step.\n",
    "The class labels should be stored in the first column, while the time series should be stored in the subsequent columns.\n",
    "The time series can have different lengths and can contain missing values.\n",
    "The time series are scaled internally by the algorithm, there is no need to scale the time series beforehand.\n",
    "\n",
    "You can find more information about dataset format in the **Usage Information** section of the algorithm listing page."
   ]
  },
  {
   "cell_type": "markdown",
   "metadata": {},
   "source": [
    "### B. Configure and visualize train and test dataset"
   ]
  },
  {
   "cell_type": "markdown",
   "metadata": {},
   "source": [
    "The sample data provided in the algorithm's [GitHub repository](https://github.com/fg-research/cnn-svc-sagemaker) consists of three classes of artificially generated time series. The length of each time series is 50 time steps. The training dataset contains 160 time series, while the validation and test datasets contain 100 time series."
   ]
  },
  {
   "cell_type": "markdown",
   "metadata": {
    "tags": []
   },
   "source": [
    "**Training dataset:**"
   ]
  },
  {
   "cell_type": "code",
   "execution_count": 5,
   "metadata": {
    "tags": []
   },
   "outputs": [],
   "source": [
    "training_dataset = pd.read_csv(\n",
    "    \"https://raw.githubusercontent.com/fg-research/cnn-svc-sagemaker/master/data/training/train.csv\",\n",
    "    header=None,\n",
    "    index_col=None\n",
    ")"
   ]
  },
  {
   "cell_type": "code",
   "execution_count": 6,
   "metadata": {
    "tags": []
   },
   "outputs": [
    {
     "data": {
      "text/plain": [
       "(160, 51)"
      ]
     },
     "execution_count": 6,
     "metadata": {},
     "output_type": "execute_result"
    }
   ],
   "source": [
    "training_dataset.shape"
   ]
  },
  {
   "cell_type": "code",
   "execution_count": 7,
   "metadata": {
    "tags": []
   },
   "outputs": [
    {
     "data": {
      "text/html": [
       "<div>\n",
       "<style scoped>\n",
       "    .dataframe tbody tr th:only-of-type {\n",
       "        vertical-align: middle;\n",
       "    }\n",
       "\n",
       "    .dataframe tbody tr th {\n",
       "        vertical-align: top;\n",
       "    }\n",
       "\n",
       "    .dataframe thead th {\n",
       "        text-align: right;\n",
       "    }\n",
       "</style>\n",
       "<table border=\"1\" class=\"dataframe\">\n",
       "  <thead>\n",
       "    <tr style=\"text-align: right;\">\n",
       "      <th></th>\n",
       "      <th>0</th>\n",
       "      <th>1</th>\n",
       "      <th>2</th>\n",
       "      <th>3</th>\n",
       "      <th>4</th>\n",
       "      <th>5</th>\n",
       "      <th>6</th>\n",
       "      <th>7</th>\n",
       "      <th>8</th>\n",
       "      <th>9</th>\n",
       "      <th>...</th>\n",
       "      <th>41</th>\n",
       "      <th>42</th>\n",
       "      <th>43</th>\n",
       "      <th>44</th>\n",
       "      <th>45</th>\n",
       "      <th>46</th>\n",
       "      <th>47</th>\n",
       "      <th>48</th>\n",
       "      <th>49</th>\n",
       "      <th>50</th>\n",
       "    </tr>\n",
       "  </thead>\n",
       "  <tbody>\n",
       "    <tr>\n",
       "      <th>0</th>\n",
       "      <td>0.0</td>\n",
       "      <td>-0.797585</td>\n",
       "      <td>2.015231</td>\n",
       "      <td>12.426042</td>\n",
       "      <td>NaN</td>\n",
       "      <td>26.493112</td>\n",
       "      <td>38.159786</td>\n",
       "      <td>40.466293</td>\n",
       "      <td>38.075383</td>\n",
       "      <td>25.850376</td>\n",
       "      <td>...</td>\n",
       "      <td>23.001525</td>\n",
       "      <td>30.220322</td>\n",
       "      <td>37.840861</td>\n",
       "      <td>41.102358</td>\n",
       "      <td>38.377708</td>\n",
       "      <td>30.820642</td>\n",
       "      <td>19.199454</td>\n",
       "      <td>6.955922</td>\n",
       "      <td>3.554906</td>\n",
       "      <td>-1.670007</td>\n",
       "    </tr>\n",
       "    <tr>\n",
       "      <th>1</th>\n",
       "      <td>2.0</td>\n",
       "      <td>-2.316543</td>\n",
       "      <td>-19.907201</td>\n",
       "      <td>-6.582620</td>\n",
       "      <td>18.726430</td>\n",
       "      <td>47.665109</td>\n",
       "      <td>56.184751</td>\n",
       "      <td>34.659966</td>\n",
       "      <td>17.741448</td>\n",
       "      <td>11.521070</td>\n",
       "      <td>...</td>\n",
       "      <td>25.168604</td>\n",
       "      <td>49.202017</td>\n",
       "      <td>59.746818</td>\n",
       "      <td>37.288141</td>\n",
       "      <td>24.909200</td>\n",
       "      <td>NaN</td>\n",
       "      <td>NaN</td>\n",
       "      <td>NaN</td>\n",
       "      <td>NaN</td>\n",
       "      <td>NaN</td>\n",
       "    </tr>\n",
       "    <tr>\n",
       "      <th>2</th>\n",
       "      <td>1.0</td>\n",
       "      <td>19.879468</td>\n",
       "      <td>1.034652</td>\n",
       "      <td>2.002918</td>\n",
       "      <td>21.309871</td>\n",
       "      <td>35.672321</td>\n",
       "      <td>38.774849</td>\n",
       "      <td>20.410609</td>\n",
       "      <td>3.322058</td>\n",
       "      <td>-0.438325</td>\n",
       "      <td>...</td>\n",
       "      <td>22.336948</td>\n",
       "      <td>37.707969</td>\n",
       "      <td>38.714832</td>\n",
       "      <td>18.072289</td>\n",
       "      <td>1.328104</td>\n",
       "      <td>1.046517</td>\n",
       "      <td>24.852571</td>\n",
       "      <td>36.874760</td>\n",
       "      <td>37.457698</td>\n",
       "      <td>19.278949</td>\n",
       "    </tr>\n",
       "    <tr>\n",
       "      <th>3</th>\n",
       "      <td>1.0</td>\n",
       "      <td>17.377493</td>\n",
       "      <td>1.788119</td>\n",
       "      <td>1.596060</td>\n",
       "      <td>19.829005</td>\n",
       "      <td>37.144964</td>\n",
       "      <td>38.941167</td>\n",
       "      <td>26.985154</td>\n",
       "      <td>6.164213</td>\n",
       "      <td>-0.793006</td>\n",
       "      <td>...</td>\n",
       "      <td>26.791420</td>\n",
       "      <td>38.308387</td>\n",
       "      <td>34.270954</td>\n",
       "      <td>19.145544</td>\n",
       "      <td>0.303361</td>\n",
       "      <td>2.943842</td>\n",
       "      <td>20.928491</td>\n",
       "      <td>34.711154</td>\n",
       "      <td>38.872772</td>\n",
       "      <td>23.446747</td>\n",
       "    </tr>\n",
       "    <tr>\n",
       "      <th>4</th>\n",
       "      <td>1.0</td>\n",
       "      <td>21.649950</td>\n",
       "      <td>4.178282</td>\n",
       "      <td>0.173992</td>\n",
       "      <td>22.041793</td>\n",
       "      <td>34.671454</td>\n",
       "      <td>38.610631</td>\n",
       "      <td>27.262495</td>\n",
       "      <td>5.349270</td>\n",
       "      <td>3.558867</td>\n",
       "      <td>...</td>\n",
       "      <td>19.718359</td>\n",
       "      <td>39.542590</td>\n",
       "      <td>35.723505</td>\n",
       "      <td>16.157116</td>\n",
       "      <td>5.168295</td>\n",
       "      <td>0.320677</td>\n",
       "      <td>27.509420</td>\n",
       "      <td>39.633493</td>\n",
       "      <td>37.857850</td>\n",
       "      <td>14.985378</td>\n",
       "    </tr>\n",
       "  </tbody>\n",
       "</table>\n",
       "<p>5 rows × 51 columns</p>\n",
       "</div>"
      ],
      "text/plain": [
       "    0          1          2          3          4          5          6    \n",
       "0  0.0  -0.797585   2.015231  12.426042        NaN  26.493112  38.159786  \\\n",
       "1  2.0  -2.316543 -19.907201  -6.582620  18.726430  47.665109  56.184751   \n",
       "2  1.0  19.879468   1.034652   2.002918  21.309871  35.672321  38.774849   \n",
       "3  1.0  17.377493   1.788119   1.596060  19.829005  37.144964  38.941167   \n",
       "4  1.0  21.649950   4.178282   0.173992  22.041793  34.671454  38.610631   \n",
       "\n",
       "          7          8          9   ...         41         42         43   \n",
       "0  40.466293  38.075383  25.850376  ...  23.001525  30.220322  37.840861  \\\n",
       "1  34.659966  17.741448  11.521070  ...  25.168604  49.202017  59.746818   \n",
       "2  20.410609   3.322058  -0.438325  ...  22.336948  37.707969  38.714832   \n",
       "3  26.985154   6.164213  -0.793006  ...  26.791420  38.308387  34.270954   \n",
       "4  27.262495   5.349270   3.558867  ...  19.718359  39.542590  35.723505   \n",
       "\n",
       "          44         45         46         47         48         49         50  \n",
       "0  41.102358  38.377708  30.820642  19.199454   6.955922   3.554906  -1.670007  \n",
       "1  37.288141  24.909200        NaN        NaN        NaN        NaN        NaN  \n",
       "2  18.072289   1.328104   1.046517  24.852571  36.874760  37.457698  19.278949  \n",
       "3  19.145544   0.303361   2.943842  20.928491  34.711154  38.872772  23.446747  \n",
       "4  16.157116   5.168295   0.320677  27.509420  39.633493  37.857850  14.985378  \n",
       "\n",
       "[5 rows x 51 columns]"
      ]
     },
     "execution_count": 7,
     "metadata": {},
     "output_type": "execute_result"
    }
   ],
   "source": [
    "training_dataset.head()"
   ]
  },
  {
   "cell_type": "code",
   "execution_count": 8,
   "metadata": {
    "tags": []
   },
   "outputs": [
    {
     "data": {
      "text/plain": [
       "array([0., 1., 2.])"
      ]
     },
     "execution_count": 8,
     "metadata": {},
     "output_type": "execute_result"
    }
   ],
   "source": [
    "training_dataset.iloc[:, 0].sort_values().unique()"
   ]
  },
  {
   "cell_type": "code",
   "execution_count": 9,
   "metadata": {
    "tags": []
   },
   "outputs": [
    {
     "data": {
      "text/plain": [
       "0.0    54\n",
       "1.0    53\n",
       "2.0    53\n",
       "Name: count, dtype: int64"
      ]
     },
     "execution_count": 9,
     "metadata": {},
     "output_type": "execute_result"
    }
   ],
   "source": [
    "training_dataset.iloc[:, 0].rename(None).value_counts().sort_index()"
   ]
  },
  {
   "cell_type": "code",
   "execution_count": 10,
   "metadata": {
    "tags": []
   },
   "outputs": [
    {
     "data": {
      "image/png": "[encoded data removed]",
      "text/plain": [
       "<Figure size 500x600 with 3 Axes>"
      ]
     },
     "metadata": {},
     "output_type": "display_data"
    }
   ],
   "source": [
    "fig, axs = plt.subplots(nrows=training_dataset.iloc[:, 0].nunique(), ncols=1, sharex=True, figsize=(5, 6))\n",
    "for i, c in enumerate(training_dataset.iloc[:, 0].sort_values().unique()):\n",
    "    axs[i].plot(training_dataset[training_dataset.iloc[:, 0] == c].iloc[:, 1:].transpose(), color=\"#AFB8C1\", lw=0.6, alpha=0.3)\n",
    "    axs[i].plot(training_dataset[training_dataset.iloc[:, 0] == c].iloc[:, 1:].transpose().median(axis=1), color=\"#009ad3\", lw=1, label=\"Median\" if i == 0 else None)\n",
    "    axs[i].set_title(f\"Class {int(c)}\", size=10)\n",
    "    axs[i].set(xlabel=\"Time\", ylabel=\"Value\")\n",
    "    axs[i].xaxis.set_tick_params(labelbottom=True)\n",
    "    axs[i].tick_params(axis=\"both\", which=\"major\", labelsize=7)\n",
    "    axs[i].tick_params(axis=\"both\", which=\"minor\", labelsize=7)\n",
    "fig.suptitle(\"Training Dataset\")\n",
    "fig.legend(frameon=False)\n",
    "fig.tight_layout()\n",
    "fig.subplots_adjust(top=0.88)\n",
    "fig.show()"
   ]
  },
  {
   "cell_type": "markdown",
   "metadata": {},
   "source": [
    "**Validation dataset:**"
   ]
  },
  {
   "cell_type": "code",
   "execution_count": 11,
   "metadata": {
    "tags": []
   },
   "outputs": [],
   "source": [
    "validation_dataset = pd.read_csv(\n",
    "    \"https://raw.githubusercontent.com/fg-research/cnn-svc-sagemaker/master/data/training/valid.csv\",\n",
    "    header=None,\n",
    "    index_col=None\n",
    ")"
   ]
  },
  {
   "cell_type": "code",
   "execution_count": 12,
   "metadata": {
    "tags": []
   },
   "outputs": [
    {
     "data": {
      "text/plain": [
       "(100, 51)"
      ]
     },
     "execution_count": 12,
     "metadata": {},
     "output_type": "execute_result"
    }
   ],
   "source": [
    "validation_dataset.shape"
   ]
  },
  {
   "cell_type": "code",
   "execution_count": 13,
   "metadata": {
    "tags": []
   },
   "outputs": [
    {
     "data": {
      "text/html": [
       "<div>\n",
       "<style scoped>\n",
       "    .dataframe tbody tr th:only-of-type {\n",
       "        vertical-align: middle;\n",
       "    }\n",
       "\n",
       "    .dataframe tbody tr th {\n",
       "        vertical-align: top;\n",
       "    }\n",
       "\n",
       "    .dataframe thead th {\n",
       "        text-align: right;\n",
       "    }\n",
       "</style>\n",
       "<table border=\"1\" class=\"dataframe\">\n",
       "  <thead>\n",
       "    <tr style=\"text-align: right;\">\n",
       "      <th></th>\n",
       "      <th>0</th>\n",
       "      <th>1</th>\n",
       "      <th>2</th>\n",
       "      <th>3</th>\n",
       "      <th>4</th>\n",
       "      <th>5</th>\n",
       "      <th>6</th>\n",
       "      <th>7</th>\n",
       "      <th>8</th>\n",
       "      <th>9</th>\n",
       "      <th>...</th>\n",
       "      <th>41</th>\n",
       "      <th>42</th>\n",
       "      <th>43</th>\n",
       "      <th>44</th>\n",
       "      <th>45</th>\n",
       "      <th>46</th>\n",
       "      <th>47</th>\n",
       "      <th>48</th>\n",
       "      <th>49</th>\n",
       "      <th>50</th>\n",
       "    </tr>\n",
       "  </thead>\n",
       "  <tbody>\n",
       "    <tr>\n",
       "      <th>0</th>\n",
       "      <td>1.0</td>\n",
       "      <td>20.295466</td>\n",
       "      <td>5.223107</td>\n",
       "      <td>1.169853</td>\n",
       "      <td>18.653988</td>\n",
       "      <td>35.608982</td>\n",
       "      <td>NaN</td>\n",
       "      <td>22.162075</td>\n",
       "      <td>-4.576533</td>\n",
       "      <td>-0.325949</td>\n",
       "      <td>...</td>\n",
       "      <td>27.543584</td>\n",
       "      <td>38.034239</td>\n",
       "      <td>31.775313</td>\n",
       "      <td>15.547546</td>\n",
       "      <td>0.957798</td>\n",
       "      <td>8.482505</td>\n",
       "      <td>19.702106</td>\n",
       "      <td>31.063984</td>\n",
       "      <td>40.382783</td>\n",
       "      <td>17.037570</td>\n",
       "    </tr>\n",
       "    <tr>\n",
       "      <th>1</th>\n",
       "      <td>0.0</td>\n",
       "      <td>5.341879</td>\n",
       "      <td>2.766792</td>\n",
       "      <td>12.006425</td>\n",
       "      <td>18.327912</td>\n",
       "      <td>21.931373</td>\n",
       "      <td>39.353907</td>\n",
       "      <td>38.489319</td>\n",
       "      <td>42.215769</td>\n",
       "      <td>31.874020</td>\n",
       "      <td>...</td>\n",
       "      <td>24.209602</td>\n",
       "      <td>30.327661</td>\n",
       "      <td>38.814551</td>\n",
       "      <td>43.067362</td>\n",
       "      <td>NaN</td>\n",
       "      <td>NaN</td>\n",
       "      <td>NaN</td>\n",
       "      <td>NaN</td>\n",
       "      <td>NaN</td>\n",
       "      <td>NaN</td>\n",
       "    </tr>\n",
       "    <tr>\n",
       "      <th>2</th>\n",
       "      <td>2.0</td>\n",
       "      <td>2.927144</td>\n",
       "      <td>-12.435267</td>\n",
       "      <td>-12.184122</td>\n",
       "      <td>18.613749</td>\n",
       "      <td>46.504512</td>\n",
       "      <td>54.305264</td>\n",
       "      <td>42.224062</td>\n",
       "      <td>25.753400</td>\n",
       "      <td>6.655210</td>\n",
       "      <td>...</td>\n",
       "      <td>21.113072</td>\n",
       "      <td>45.599227</td>\n",
       "      <td>58.108288</td>\n",
       "      <td>37.987212</td>\n",
       "      <td>15.630178</td>\n",
       "      <td>9.572159</td>\n",
       "      <td>25.071954</td>\n",
       "      <td>32.052373</td>\n",
       "      <td>18.117028</td>\n",
       "      <td>-0.608891</td>\n",
       "    </tr>\n",
       "    <tr>\n",
       "      <th>3</th>\n",
       "      <td>0.0</td>\n",
       "      <td>3.886493</td>\n",
       "      <td>0.811233</td>\n",
       "      <td>12.632547</td>\n",
       "      <td>17.486188</td>\n",
       "      <td>28.484575</td>\n",
       "      <td>31.559220</td>\n",
       "      <td>40.087728</td>\n",
       "      <td>43.772191</td>\n",
       "      <td>31.701915</td>\n",
       "      <td>...</td>\n",
       "      <td>19.931390</td>\n",
       "      <td>33.053971</td>\n",
       "      <td>36.314061</td>\n",
       "      <td>42.515570</td>\n",
       "      <td>35.776251</td>\n",
       "      <td>31.828678</td>\n",
       "      <td>18.003085</td>\n",
       "      <td>5.619873</td>\n",
       "      <td>5.799750</td>\n",
       "      <td>0.490593</td>\n",
       "    </tr>\n",
       "    <tr>\n",
       "      <th>4</th>\n",
       "      <td>1.0</td>\n",
       "      <td>23.075897</td>\n",
       "      <td>3.579315</td>\n",
       "      <td>4.754499</td>\n",
       "      <td>23.445945</td>\n",
       "      <td>38.159160</td>\n",
       "      <td>40.313405</td>\n",
       "      <td>21.371599</td>\n",
       "      <td>4.089839</td>\n",
       "      <td>-5.001989</td>\n",
       "      <td>...</td>\n",
       "      <td>21.240097</td>\n",
       "      <td>40.296813</td>\n",
       "      <td>36.719782</td>\n",
       "      <td>17.961007</td>\n",
       "      <td>2.382493</td>\n",
       "      <td>4.782322</td>\n",
       "      <td>21.582301</td>\n",
       "      <td>34.471528</td>\n",
       "      <td>40.196193</td>\n",
       "      <td>18.567845</td>\n",
       "    </tr>\n",
       "  </tbody>\n",
       "</table>\n",
       "<p>5 rows × 51 columns</p>\n",
       "</div>"
      ],
      "text/plain": [
       "    0          1          2          3          4          5          6    \n",
       "0  1.0  20.295466   5.223107   1.169853  18.653988  35.608982        NaN  \\\n",
       "1  0.0   5.341879   2.766792  12.006425  18.327912  21.931373  39.353907   \n",
       "2  2.0   2.927144 -12.435267 -12.184122  18.613749  46.504512  54.305264   \n",
       "3  0.0   3.886493   0.811233  12.632547  17.486188  28.484575  31.559220   \n",
       "4  1.0  23.075897   3.579315   4.754499  23.445945  38.159160  40.313405   \n",
       "\n",
       "          7          8          9   ...         41         42         43   \n",
       "0  22.162075  -4.576533  -0.325949  ...  27.543584  38.034239  31.775313  \\\n",
       "1  38.489319  42.215769  31.874020  ...  24.209602  30.327661  38.814551   \n",
       "2  42.224062  25.753400   6.655210  ...  21.113072  45.599227  58.108288   \n",
       "3  40.087728  43.772191  31.701915  ...  19.931390  33.053971  36.314061   \n",
       "4  21.371599   4.089839  -5.001989  ...  21.240097  40.296813  36.719782   \n",
       "\n",
       "          44         45         46         47         48         49         50  \n",
       "0  15.547546   0.957798   8.482505  19.702106  31.063984  40.382783  17.037570  \n",
       "1  43.067362        NaN        NaN        NaN        NaN        NaN        NaN  \n",
       "2  37.987212  15.630178   9.572159  25.071954  32.052373  18.117028  -0.608891  \n",
       "3  42.515570  35.776251  31.828678  18.003085   5.619873   5.799750   0.490593  \n",
       "4  17.961007   2.382493   4.782322  21.582301  34.471528  40.196193  18.567845  \n",
       "\n",
       "[5 rows x 51 columns]"
      ]
     },
     "execution_count": 13,
     "metadata": {},
     "output_type": "execute_result"
    }
   ],
   "source": [
    "validation_dataset.head()"
   ]
  },
  {
   "cell_type": "code",
   "execution_count": 14,
   "metadata": {
    "tags": []
   },
   "outputs": [
    {
     "data": {
      "text/plain": [
       "array([0., 1., 2.])"
      ]
     },
     "execution_count": 14,
     "metadata": {},
     "output_type": "execute_result"
    }
   ],
   "source": [
    "validation_dataset.iloc[:, 0].sort_values().unique()"
   ]
  },
  {
   "cell_type": "code",
   "execution_count": 15,
   "metadata": {
    "tags": []
   },
   "outputs": [
    {
     "data": {
      "text/plain": [
       "0.0    33\n",
       "1.0    34\n",
       "2.0    33\n",
       "Name: count, dtype: int64"
      ]
     },
     "execution_count": 15,
     "metadata": {},
     "output_type": "execute_result"
    }
   ],
   "source": [
    "validation_dataset.iloc[:, 0].rename(None).value_counts().sort_index()"
   ]
  },
  {
   "cell_type": "code",
   "execution_count": 16,
   "metadata": {
    "tags": []
   },
   "outputs": [
    {
     "data": {
      "image/png": "[encoded data removed]",
      "text/plain": [
       "<Figure size 500x600 with 3 Axes>"
      ]
     },
     "metadata": {},
     "output_type": "display_data"
    }
   ],
   "source": [
    "fig, axs = plt.subplots(nrows=validation_dataset.iloc[:, 0].nunique(), ncols=1, sharex=True, figsize=(5, 6))\n",
    "for i, c in enumerate(validation_dataset.iloc[:, 0].sort_values().unique()):\n",
    "    axs[i].plot(validation_dataset[validation_dataset.iloc[:, 0] == c].iloc[:, 1:].transpose(), color=\"#AFB8C1\", lw=0.5, alpha=0.5)\n",
    "    axs[i].plot(validation_dataset[validation_dataset.iloc[:, 0] == c].iloc[:, 1:].transpose().median(axis=1), color=\"#009ad3\", lw=1, label=\"Median\" if i == 0 else None)\n",
    "    axs[i].set_title(f\"Class {int(c)}\", size=10)\n",
    "    axs[i].set(xlabel=\"Time\", ylabel=\"Value\")\n",
    "    axs[i].xaxis.set_tick_params(labelbottom=True)\n",
    "    axs[i].tick_params(axis=\"both\", which=\"major\", labelsize=7)\n",
    "    axs[i].tick_params(axis=\"both\", which=\"minor\", labelsize=7)\n",
    "fig.subplots_adjust(hspace=0.75)\n",
    "fig.suptitle(\"Validation Dataset\")\n",
    "fig.legend(frameon=False)\n",
    "fig.tight_layout()\n",
    "fig.subplots_adjust(top=0.88)\n",
    "fig.show()"
   ]
  },
  {
   "cell_type": "markdown",
   "metadata": {},
   "source": [
    "### C. Upload datasets to Amazon S3"
   ]
  },
  {
   "cell_type": "code",
   "execution_count": 17,
   "metadata": {
    "tags": []
   },
   "outputs": [],
   "source": [
    "training_data = sagemaker_session.upload_string_as_file_body(\n",
    "    body=training_dataset.to_csv(index=False, header=False),\n",
    "    bucket=bucket,\n",
    "    key=\"data/training/train.csv\"\n",
    ")"
   ]
  },
  {
   "cell_type": "code",
   "execution_count": 18,
   "metadata": {
    "tags": []
   },
   "outputs": [
    {
     "data": {
      "text/plain": [
       "'s3://sagemaker-eu-west-1-661670223746/data/training/train.csv'"
      ]
     },
     "execution_count": 18,
     "metadata": {},
     "output_type": "execute_result"
    }
   ],
   "source": [
    "training_data"
   ]
  },
  {
   "cell_type": "code",
   "execution_count": 19,
   "metadata": {
    "tags": []
   },
   "outputs": [],
   "source": [
    "validation_data = sagemaker_session.upload_string_as_file_body(\n",
    "    body=validation_dataset.to_csv(index=False, header=False),\n",
    "    bucket=bucket,\n",
    "    key=\"data/training/valid.csv\"\n",
    ")"
   ]
  },
  {
   "cell_type": "code",
   "execution_count": 20,
   "metadata": {
    "tags": []
   },
   "outputs": [
    {
     "data": {
      "text/plain": [
       "'s3://sagemaker-eu-west-1-661670223746/data/training/valid.csv'"
      ]
     },
     "execution_count": 20,
     "metadata": {},
     "output_type": "execute_result"
    }
   ],
   "source": [
    "validation_data"
   ]
  },
  {
   "cell_type": "markdown",
   "metadata": {},
   "source": [
    "## 3: Train a machine learning model"
   ]
  },
  {
   "cell_type": "markdown",
   "metadata": {},
   "source": [
    "Now that dataset is available in an accessible Amazon S3 bucket, we are ready to train a machine learning model. "
   ]
  },
  {
   "cell_type": "markdown",
   "metadata": {},
   "source": [
    "### 3.1 Set up environment"
   ]
  },
  {
   "cell_type": "code",
   "execution_count": 21,
   "metadata": {
    "tags": []
   },
   "outputs": [],
   "source": [
    "role = sagemaker.get_execution_role()"
   ]
  },
  {
   "cell_type": "markdown",
   "metadata": {},
   "source": [
    "### 3.2 Train a model"
   ]
  },
  {
   "cell_type": "markdown",
   "metadata": {},
   "source": [
    "You can find more information about the model's hyperparameters in the **Hyperparameters** section of the algorithm listing page."
   ]
  },
  {
   "cell_type": "code",
   "execution_count": 22,
   "metadata": {
    "tags": []
   },
   "outputs": [],
   "source": [
    "# define hyperparameters\n",
    "hyperparameters = {\n",
    "    \"penalty\": 0.1,\n",
    "    \"kernel\": \"rbf\",\n",
    "    \"blocks\": 2,\n",
    "    \"filters\": 16,\n",
    "    \"kernel-size\": 3,\n",
    "    \"reduced-size\": 10,\n",
    "    \"output-size\": 20,\n",
    "    \"negative-samples\": 10,\n",
    "    \"lr\": 0.001,\n",
    "    \"batch-size\": 64,\n",
    "    \"epochs\": 100,\n",
    "}"
   ]
  },
  {
   "cell_type": "markdown",
   "metadata": {},
   "source": [
    "For information on creating an `Estimator` object, see the [documentation](https://sagemaker.readthedocs.io/en/stable/api/training/estimators.html)."
   ]
  },
  {
   "cell_type": "code",
   "execution_count": 23,
   "metadata": {
    "tags": []
   },
   "outputs": [],
   "source": [
    "# create an estimator object for running a training job\n",
    "estimator = sagemaker.algorithm.AlgorithmEstimator(\n",
    "    algorithm_arn=algo_arn,\n",
    "    base_job_name=\"cnn-svc-training\",\n",
    "    role=role,\n",
    "    instance_count=1,\n",
    "    instance_type=instance_type,\n",
    "    input_mode=\"File\",\n",
    "    sagemaker_session=sagemaker_session,\n",
    "    hyperparameters=hyperparameters,\n",
    ")"
   ]
  },
  {
   "cell_type": "code",
   "execution_count": 24,
   "metadata": {
    "tags": []
   },
   "outputs": [
    {
     "name": "stderr",
     "output_type": "stream",
     "text": [
      "INFO:sagemaker:Creating training-job with name: cnn-svc-training-2023-08-13-17-11-13-054\n"
     ]
    },
    {
     "name": "stdout",
     "output_type": "stream",
     "text": [
      "2023-08-13 17:11:13 Starting - Starting the training job...\n",
      "2023-08-13 17:11:28 Starting - Preparing the instances for training......\n",
      "2023-08-13 17:12:17 Downloading - Downloading input data...\n",
      "2023-08-13 17:12:57 Training - Downloading the training image...............\n",
      "2023-08-13 17:15:43 Training - Training image download completed. Training in progress.....\u001b[34mbash: cannot set terminal process group (-1): Inappropriate ioctl for device\u001b[0m\n",
      "\u001b[34mbash: no job control in this shell\u001b[0m\n",
      "\u001b[34m2023-08-13 17:16:11,717 sagemaker-training-toolkit INFO     Imported framework sagemaker_pytorch_container.training\u001b[0m\n",
      "\u001b[34m2023-08-13 17:16:11,718 sagemaker-training-toolkit INFO     No GPUs detected (normal if no gpus installed)\u001b[0m\n",
      "\u001b[34m2023-08-13 17:16:11,718 sagemaker-training-toolkit INFO     No Neurons detected (normal if no neurons installed)\u001b[0m\n",
      "\u001b[34m2023-08-13 17:16:11,718 sagemaker-training-toolkit INFO     Failed to parse hyperparameter kernel value rbf to Json.\u001b[0m\n",
      "\u001b[34mReturning the value itself\u001b[0m\n",
      "\u001b[34m2023-08-13 17:16:11,727 sagemaker_pytorch_container.training INFO     Block until all host DNS lookups succeed.\u001b[0m\n",
      "\u001b[34m2023-08-13 17:16:11,729 sagemaker_pytorch_container.training INFO     Invoking user training script.\u001b[0m\n",
      "\u001b[34m2023-08-13 17:16:12,976 sagemaker-training-toolkit INFO     No GPUs detected (normal if no gpus installed)\u001b[0m\n",
      "\u001b[34m2023-08-13 17:16:12,976 sagemaker-training-toolkit INFO     No Neurons detected (normal if no neurons installed)\u001b[0m\n",
      "\u001b[34m2023-08-13 17:16:12,977 sagemaker-training-toolkit INFO     Failed to parse hyperparameter kernel value rbf to Json.\u001b[0m\n",
      "\u001b[34mReturning the value itself\u001b[0m\n",
      "\u001b[34m2023-08-13 17:16:12,987 sagemaker-training-toolkit INFO     No GPUs detected (normal if no gpus installed)\u001b[0m\n",
      "\u001b[34m2023-08-13 17:16:12,988 sagemaker-training-toolkit INFO     No Neurons detected (normal if no neurons installed)\u001b[0m\n",
      "\u001b[34m2023-08-13 17:16:12,988 sagemaker-training-toolkit INFO     Failed to parse hyperparameter kernel value rbf to Json.\u001b[0m\n",
      "\u001b[34mReturning the value itself\u001b[0m\n",
      "\u001b[34m2023-08-13 17:16:12,997 sagemaker-training-toolkit INFO     No GPUs detected (normal if no gpus installed)\u001b[0m\n",
      "\u001b[34m2023-08-13 17:16:12,998 sagemaker-training-toolkit INFO     No Neurons detected (normal if no neurons installed)\u001b[0m\n",
      "\u001b[34m2023-08-13 17:16:12,998 sagemaker-training-toolkit INFO     Failed to parse hyperparameter kernel value rbf to Json.\u001b[0m\n",
      "\u001b[34mReturning the value itself\u001b[0m\n",
      "\u001b[34m2023-08-13 17:16:13,007 sagemaker-training-toolkit INFO     Invoking user script\u001b[0m\n",
      "\u001b[34mTraining Env:\u001b[0m\n",
      "\u001b[34m{\n",
      "    \"additional_framework_parameters\": {},\n",
      "    \"channel_input_dirs\": {\n",
      "        \"training\": \"/opt/ml/input/data/training\",\n",
      "        \"validation\": \"/opt/ml/input/data/validation\"\n",
      "    },\n",
      "    \"current_host\": \"algo-1\",\n",
      "    \"current_instance_group\": \"homogeneousCluster\",\n",
      "    \"current_instance_group_hosts\": [\n",
      "        \"algo-1\"\n",
      "    ],\n",
      "    \"current_instance_type\": \"ml.m5.2xlarge\",\n",
      "    \"distribution_hosts\": [],\n",
      "    \"distribution_instance_groups\": [],\n",
      "    \"framework_module\": \"sagemaker_pytorch_container.training:main\",\n",
      "    \"hosts\": [\n",
      "        \"algo-1\"\n",
      "    ],\n",
      "    \"hyperparameters\": {\n",
      "        \"batch-size\": 64,\n",
      "        \"blocks\": 2,\n",
      "        \"epochs\": 100,\n",
      "        \"filters\": 16,\n",
      "        \"kernel\": \"rbf\",\n",
      "        \"kernel-size\": 3,\n",
      "        \"lr\": 0.001,\n",
      "        \"negative-samples\": 10,\n",
      "        \"output-size\": 20,\n",
      "        \"penalty\": 0.1,\n",
      "        \"reduced-size\": 10\n",
      "    },\n",
      "    \"input_config_dir\": \"/opt/ml/input/config\",\n",
      "    \"input_data_config\": {\n",
      "        \"training\": {\n",
      "            \"TrainingInputMode\": \"File\",\n",
      "            \"S3DistributionType\": \"FullyReplicated\",\n",
      "            \"RecordWrapperType\": \"None\"\n",
      "        },\n",
      "        \"validation\": {\n",
      "            \"TrainingInputMode\": \"File\",\n",
      "            \"S3DistributionType\": \"FullyReplicated\",\n",
      "            \"RecordWrapperType\": \"None\"\n",
      "        }\n",
      "    },\n",
      "    \"input_dir\": \"/opt/ml/input\",\n",
      "    \"instance_groups\": [\n",
      "        \"homogeneousCluster\"\n",
      "    ],\n",
      "    \"instance_groups_dict\": {\n",
      "        \"homogeneousCluster\": {\n",
      "            \"instance_group_name\": \"homogeneousCluster\",\n",
      "            \"instance_type\": \"ml.m5.2xlarge\",\n",
      "            \"hosts\": [\n",
      "                \"algo-1\"\n",
      "            ]\n",
      "        }\n",
      "    },\n",
      "    \"is_hetero\": false,\n",
      "    \"is_master\": true,\n",
      "    \"is_modelparallel_enabled\": null,\n",
      "    \"is_smddpmprun_installed\": true,\n",
      "    \"job_name\": \"cnn-svc-training-2023-08-13-17-11-13-054\",\n",
      "    \"log_level\": 20,\n",
      "    \"master_hostname\": \"algo-1\",\n",
      "    \"model_dir\": \"/opt/ml/model\",\n",
      "    \"module_dir\": \"/opt/ml/code\",\n",
      "    \"module_name\": \"training\",\n",
      "    \"network_interface_name\": \"eth0\",\n",
      "    \"num_cpus\": 8,\n",
      "    \"num_gpus\": 0,\n",
      "    \"num_neurons\": 0,\n",
      "    \"output_data_dir\": \"/opt/ml/output/data\",\n",
      "    \"output_dir\": \"/opt/ml/output\",\n",
      "    \"output_intermediate_dir\": \"/opt/ml/output/intermediate\",\n",
      "    \"resource_config\": {\n",
      "        \"current_host\": \"algo-1\",\n",
      "        \"current_instance_type\": \"ml.m5.2xlarge\",\n",
      "        \"current_group_name\": \"homogeneousCluster\",\n",
      "        \"hosts\": [\n",
      "            \"algo-1\"\n",
      "        ],\n",
      "        \"instance_groups\": [\n",
      "            {\n",
      "                \"instance_group_name\": \"homogeneousCluster\",\n",
      "                \"instance_type\": \"ml.m5.2xlarge\",\n",
      "                \"hosts\": [\n",
      "                    \"algo-1\"\n",
      "                ]\n",
      "            }\n",
      "        ],\n",
      "        \"network_interface_name\": \"eth0\"\n",
      "    },\n",
      "    \"user_entry_point\": \"training.py\"\u001b[0m\n",
      "\u001b[34m}\u001b[0m\n",
      "\u001b[34mEnvironment variables:\u001b[0m\n",
      "\u001b[34mSM_HOSTS=[\"algo-1\"]\u001b[0m\n",
      "\u001b[34mSM_NETWORK_INTERFACE_NAME=eth0\u001b[0m\n",
      "\u001b[34mSM_HPS={\"batch-size\":64,\"blocks\":2,\"epochs\":100,\"filters\":16,\"kernel\":\"rbf\",\"kernel-size\":3,\"lr\":0.001,\"negative-samples\":10,\"output-size\":20,\"penalty\":0.1,\"reduced-size\":10}\u001b[0m\n",
      "\u001b[34mSM_USER_ENTRY_POINT=training.py\u001b[0m\n",
      "\u001b[34mSM_FRAMEWORK_PARAMS={}\u001b[0m\n",
      "\u001b[34mSM_RESOURCE_CONFIG={\"current_group_name\":\"homogeneousCluster\",\"current_host\":\"algo-1\",\"current_instance_type\":\"ml.m5.2xlarge\",\"hosts\":[\"algo-1\"],\"instance_groups\":[{\"hosts\":[\"algo-1\"],\"instance_group_name\":\"homogeneousCluster\",\"instance_type\":\"ml.m5.2xlarge\"}],\"network_interface_name\":\"eth0\"}\u001b[0m\n",
      "\u001b[34mSM_INPUT_DATA_CONFIG={\"training\":{\"RecordWrapperType\":\"None\",\"S3DistributionType\":\"FullyReplicated\",\"TrainingInputMode\":\"File\"},\"validation\":{\"RecordWrapperType\":\"None\",\"S3DistributionType\":\"FullyReplicated\",\"TrainingInputMode\":\"File\"}}\u001b[0m\n",
      "\u001b[34mSM_OUTPUT_DATA_DIR=/opt/ml/output/data\u001b[0m\n",
      "\u001b[34mSM_CHANNELS=[\"training\",\"validation\"]\u001b[0m\n",
      "\u001b[34mSM_CURRENT_HOST=algo-1\u001b[0m\n",
      "\u001b[34mSM_CURRENT_INSTANCE_TYPE=ml.m5.2xlarge\u001b[0m\n",
      "\u001b[34mSM_CURRENT_INSTANCE_GROUP=homogeneousCluster\u001b[0m\n",
      "\u001b[34mSM_CURRENT_INSTANCE_GROUP_HOSTS=[\"algo-1\"]\u001b[0m\n",
      "\u001b[34mSM_INSTANCE_GROUPS=[\"homogeneousCluster\"]\u001b[0m\n",
      "\u001b[34mSM_INSTANCE_GROUPS_DICT={\"homogeneousCluster\":{\"hosts\":[\"algo-1\"],\"instance_group_name\":\"homogeneousCluster\",\"instance_type\":\"ml.m5.2xlarge\"}}\u001b[0m\n",
      "\u001b[34mSM_DISTRIBUTION_INSTANCE_GROUPS=[]\u001b[0m\n",
      "\u001b[34mSM_IS_HETERO=false\u001b[0m\n",
      "\u001b[34mSM_MODULE_NAME=training\u001b[0m\n",
      "\u001b[34mSM_LOG_LEVEL=20\u001b[0m\n",
      "\u001b[34mSM_FRAMEWORK_MODULE=sagemaker_pytorch_container.training:main\u001b[0m\n",
      "\u001b[34mSM_INPUT_DIR=/opt/ml/input\u001b[0m\n",
      "\u001b[34mSM_INPUT_CONFIG_DIR=/opt/ml/input/config\u001b[0m\n",
      "\u001b[34mSM_OUTPUT_DIR=/opt/ml/output\u001b[0m\n",
      "\u001b[34mSM_NUM_CPUS=8\u001b[0m\n",
      "\u001b[34mSM_NUM_GPUS=0\u001b[0m\n",
      "\u001b[34mSM_NUM_NEURONS=0\u001b[0m\n",
      "\u001b[34mSM_MODEL_DIR=/opt/ml/model\u001b[0m\n",
      "\u001b[34mSM_MODULE_DIR=/opt/ml/code\u001b[0m\n",
      "\u001b[34mSM_TRAINING_ENV={\"additional_framework_parameters\":{},\"channel_input_dirs\":{\"training\":\"/opt/ml/input/data/training\",\"validation\":\"/opt/ml/input/data/validation\"},\"current_host\":\"algo-1\",\"current_instance_group\":\"homogeneousCluster\",\"current_instance_group_hosts\":[\"algo-1\"],\"current_instance_type\":\"ml.m5.2xlarge\",\"distribution_hosts\":[],\"distribution_instance_groups\":[],\"framework_module\":\"sagemaker_pytorch_container.training:main\",\"hosts\":[\"algo-1\"],\"hyperparameters\":{\"batch-size\":64,\"blocks\":2,\"epochs\":100,\"filters\":16,\"kernel\":\"rbf\",\"kernel-size\":3,\"lr\":0.001,\"negative-samples\":10,\"output-size\":20,\"penalty\":0.1,\"reduced-size\":10},\"input_config_dir\":\"/opt/ml/input/config\",\"input_data_config\":{\"training\":{\"RecordWrapperType\":\"None\",\"S3DistributionType\":\"FullyReplicated\",\"TrainingInputMode\":\"File\"},\"validation\":{\"RecordWrapperType\":\"None\",\"S3DistributionType\":\"FullyReplicated\",\"TrainingInputMode\":\"File\"}},\"input_dir\":\"/opt/ml/input\",\"instance_groups\":[\"homogeneousCluster\"],\"instance_groups_dict\":{\"homogeneousCluster\":{\"hosts\":[\"algo-1\"],\"instance_group_name\":\"homogeneousCluster\",\"instance_type\":\"ml.m5.2xlarge\"}},\"is_hetero\":false,\"is_master\":true,\"is_modelparallel_enabled\":null,\"is_smddpmprun_installed\":true,\"job_name\":\"cnn-svc-training-2023-08-13-17-11-13-054\",\"log_level\":20,\"master_hostname\":\"algo-1\",\"model_dir\":\"/opt/ml/model\",\"module_dir\":\"/opt/ml/code\",\"module_name\":\"training\",\"network_interface_name\":\"eth0\",\"num_cpus\":8,\"num_gpus\":0,\"num_neurons\":0,\"output_data_dir\":\"/opt/ml/output/data\",\"output_dir\":\"/opt/ml/output\",\"output_intermediate_dir\":\"/opt/ml/output/intermediate\",\"resource_config\":{\"current_group_name\":\"homogeneousCluster\",\"current_host\":\"algo-1\",\"current_instance_type\":\"ml.m5.2xlarge\",\"hosts\":[\"algo-1\"],\"instance_groups\":[{\"hosts\":[\"algo-1\"],\"instance_group_name\":\"homogeneousCluster\",\"instance_type\":\"ml.m5.2xlarge\"}],\"network_interface_name\":\"eth0\"},\"user_entry_point\":\"training.py\"}\u001b[0m\n",
      "\u001b[34mSM_USER_ARGS=[\"--batch-size\",\"64\",\"--blocks\",\"2\",\"--epochs\",\"100\",\"--filters\",\"16\",\"--kernel\",\"rbf\",\"--kernel-size\",\"3\",\"--lr\",\"0.001\",\"--negative-samples\",\"10\",\"--output-size\",\"20\",\"--penalty\",\"0.1\",\"--reduced-size\",\"10\"]\u001b[0m\n",
      "\u001b[34mSM_OUTPUT_INTERMEDIATE_DIR=/opt/ml/output/intermediate\u001b[0m\n",
      "\u001b[34mSM_CHANNEL_TRAINING=/opt/ml/input/data/training\u001b[0m\n",
      "\u001b[34mSM_CHANNEL_VALIDATION=/opt/ml/input/data/validation\u001b[0m\n",
      "\u001b[34mSM_HP_BATCH-SIZE=64\u001b[0m\n",
      "\u001b[34mSM_HP_BLOCKS=2\u001b[0m\n",
      "\u001b[34mSM_HP_EPOCHS=100\u001b[0m\n",
      "\u001b[34mSM_HP_FILTERS=16\u001b[0m\n",
      "\u001b[34mSM_HP_KERNEL=rbf\u001b[0m\n",
      "\u001b[34mSM_HP_KERNEL-SIZE=3\u001b[0m\n",
      "\u001b[34mSM_HP_LR=0.001\u001b[0m\n",
      "\u001b[34mSM_HP_NEGATIVE-SAMPLES=10\u001b[0m\n",
      "\u001b[34mSM_HP_OUTPUT-SIZE=20\u001b[0m\n",
      "\u001b[34mSM_HP_PENALTY=0.1\u001b[0m\n",
      "\u001b[34mSM_HP_REDUCED-SIZE=10\u001b[0m\n",
      "\u001b[34mPYTHONPATH=/opt/ml/code:/opt/conda/bin:/opt/conda/lib/python310.zip:/opt/conda/lib/python3.10:/opt/conda/lib/python3.10/lib-dynload:/opt/conda/lib/python3.10/site-packages\u001b[0m\n",
      "\u001b[34mInvoking script with the following command:\u001b[0m\n",
      "\u001b[34m/opt/conda/bin/python3.10 training.py --batch-size 64 --blocks 2 --epochs 100 --filters 16 --kernel rbf --kernel-size 3 --lr 0.001 --negative-samples 10 --output-size 20 --penalty 0.1 --reduced-size 10\u001b[0m\n",
      "\u001b[34m2023-08-13 17:16:13,043 sagemaker-training-toolkit INFO     Exceptions not imported for SageMaker TF as Tensorflow is not installed.\u001b[0m\n",
      "\u001b[34m--------------------------------------\u001b[0m\n",
      "\u001b[34mTraining on 160 time series.\u001b[0m\n",
      "\u001b[34mTime series length: 50\u001b[0m\n",
      "\u001b[34mTime series labels: [0, 1, 2]\u001b[0m\n",
      "\u001b[34mMissing values: 9\u001b[0m\n",
      "\u001b[34m--------------------------------------\u001b[0m\n",
      "\u001b[34m--------------------------------------\u001b[0m\n",
      "\u001b[34mValidating on 100 time series.\u001b[0m\n",
      "\u001b[34mTime series length: 50\u001b[0m\n",
      "\u001b[34mTime series labels: [0, 1, 2]\u001b[0m\n",
      "\u001b[34mMissing values: 13\u001b[0m\n",
      "\u001b[34m--------------------------------------\u001b[0m\n",
      "\u001b[34m--------------------------------------\u001b[0m\n",
      "\u001b[34mTraining the model.\u001b[0m\n",
      "\u001b[34m--------------------------------------\u001b[0m\n",
      "\u001b[34mEpoch: 1, Training Loss: 0.03862036, Training Accuracy: 0.93750000, Validation Loss: 0.03521569, Validation Accuracy: 0.88000000\u001b[0m\n",
      "\u001b[34mEpoch: 2, Training Loss: 0.03156431, Training Accuracy: 0.94375000, Validation Loss: 0.03091594, Validation Accuracy: 0.84000000\u001b[0m\n",
      "\u001b[34mEpoch: 3, Training Loss: 0.02850992, Training Accuracy: 0.93750000, Validation Loss: 0.02923137, Validation Accuracy: 0.85000000\u001b[0m\n",
      "\u001b[34mEpoch: 4, Training Loss: 0.02734886, Training Accuracy: 0.97500000, Validation Loss: 0.02864464, Validation Accuracy: 0.88000000\u001b[0m\n",
      "\u001b[34mEpoch: 5, Training Loss: 0.02671198, Training Accuracy: 0.97500000, Validation Loss: 0.02847845, Validation Accuracy: 0.87000000\u001b[0m\n",
      "\u001b[34mEpoch: 6, Training Loss: 0.02658095, Training Accuracy: 0.98125000, Validation Loss: 0.02826132, Validation Accuracy: 0.90000000\u001b[0m\n",
      "\u001b[34mEpoch: 7, Training Loss: 0.02642053, Training Accuracy: 0.98125000, Validation Loss: 0.02797650, Validation Accuracy: 0.90000000\u001b[0m\n",
      "\u001b[34mEpoch: 8, Training Loss: 0.02620494, Training Accuracy: 0.98125000, Validation Loss: 0.02775451, Validation Accuracy: 0.90000000\u001b[0m\n",
      "\u001b[34mEpoch: 9, Training Loss: 0.02613417, Training Accuracy: 0.97500000, Validation Loss: 0.02839241, Validation Accuracy: 0.91000000\u001b[0m\n",
      "\u001b[34mEpoch: 10, Training Loss: 0.02609949, Training Accuracy: 0.96875000, Validation Loss: 0.02742308, Validation Accuracy: 0.91000000\u001b[0m\n",
      "\u001b[34mEpoch: 11, Training Loss: 0.02591081, Training Accuracy: 0.96250000, Validation Loss: 0.02738011, Validation Accuracy: 0.91000000\u001b[0m\n",
      "\u001b[34mEpoch: 12, Training Loss: 0.02581584, Training Accuracy: 0.96250000, Validation Loss: 0.02731745, Validation Accuracy: 0.90000000\u001b[0m\n",
      "\u001b[34mEpoch: 13, Training Loss: 0.02567861, Training Accuracy: 0.95625000, Validation Loss: 0.02734030, Validation Accuracy: 0.90000000\u001b[0m\n",
      "\u001b[34mEpoch: 14, Training Loss: 0.02564378, Training Accuracy: 0.95625000, Validation Loss: 0.02728331, Validation Accuracy: 0.90000000\u001b[0m\n",
      "\u001b[34mEpoch: 15, Training Loss: 0.02575548, Training Accuracy: 0.97500000, Validation Loss: 0.02721707, Validation Accuracy: 0.90000000\u001b[0m\n",
      "\u001b[34mEpoch: 16, Training Loss: 0.02576373, Training Accuracy: 0.97500000, Validation Loss: 0.02769865, Validation Accuracy: 0.91000000\u001b[0m\n",
      "\u001b[34mEpoch: 17, Training Loss: 0.02545174, Training Accuracy: 0.98125000, Validation Loss: 0.02697535, Validation Accuracy: 0.90000000\u001b[0m\n",
      "\u001b[34mEpoch: 18, Training Loss: 0.02544271, Training Accuracy: 0.98750000, Validation Loss: 0.02697447, Validation Accuracy: 0.93000000\u001b[0m\n",
      "\u001b[34mEpoch: 19, Training Loss: 0.02528081, Training Accuracy: 0.99375000, Validation Loss: 0.02722670, Validation Accuracy: 0.95000000\u001b[0m\n",
      "\u001b[34mEpoch: 20, Training Loss: 0.02542464, Training Accuracy: 0.99375000, Validation Loss: 0.02695628, Validation Accuracy: 0.96000000\u001b[0m\n",
      "\u001b[34mEpoch: 21, Training Loss: 0.02525539, Training Accuracy: 0.99375000, Validation Loss: 0.02658473, Validation Accuracy: 0.95000000\u001b[0m\n",
      "\u001b[34mEpoch: 22, Training Loss: 0.02527368, Training Accuracy: 0.99375000, Validation Loss: 0.02685771, Validation Accuracy: 0.96000000\u001b[0m\n",
      "\u001b[34mEpoch: 23, Training Loss: 0.02533653, Training Accuracy: 0.99375000, Validation Loss: 0.02669228, Validation Accuracy: 0.97000000\u001b[0m\n",
      "\u001b[34mEpoch: 24, Training Loss: 0.02510412, Training Accuracy: 0.99375000, Validation Loss: 0.02683016, Validation Accuracy: 0.97000000\u001b[0m\n",
      "\u001b[34mEpoch: 25, Training Loss: 0.02479798, Training Accuracy: 0.99375000, Validation Loss: 0.02666361, Validation Accuracy: 0.98000000\u001b[0m\n",
      "\u001b[34mEpoch: 26, Training Loss: 0.02482551, Training Accuracy: 1.00000000, Validation Loss: 0.02606519, Validation Accuracy: 0.96000000\u001b[0m\n",
      "\u001b[34mEpoch: 27, Training Loss: 0.02499300, Training Accuracy: 1.00000000, Validation Loss: 0.02670248, Validation Accuracy: 0.96000000\u001b[0m\n",
      "\u001b[34mEpoch: 28, Training Loss: 0.02455561, Training Accuracy: 1.00000000, Validation Loss: 0.02580082, Validation Accuracy: 0.97000000\u001b[0m\n",
      "\u001b[34mEpoch: 29, Training Loss: 0.02431358, Training Accuracy: 1.00000000, Validation Loss: 0.02580037, Validation Accuracy: 0.96000000\u001b[0m\n",
      "\u001b[34mEpoch: 30, Training Loss: 0.02422388, Training Accuracy: 1.00000000, Validation Loss: 0.02562173, Validation Accuracy: 0.96000000\u001b[0m\n",
      "\u001b[34mEpoch: 31, Training Loss: 0.02394853, Training Accuracy: 1.00000000, Validation Loss: 0.02586077, Validation Accuracy: 0.95000000\u001b[0m\n",
      "\u001b[34mEpoch: 32, Training Loss: 0.02334490, Training Accuracy: 1.00000000, Validation Loss: 0.02541952, Validation Accuracy: 0.95000000\u001b[0m\n",
      "\u001b[34mEpoch: 33, Training Loss: 0.02406660, Training Accuracy: 1.00000000, Validation Loss: 0.02501361, Validation Accuracy: 0.96000000\u001b[0m\n",
      "\u001b[34mEpoch: 34, Training Loss: 0.02312266, Training Accuracy: 1.00000000, Validation Loss: 0.02448486, Validation Accuracy: 0.96000000\u001b[0m\n",
      "\u001b[34mEpoch: 35, Training Loss: 0.02309760, Training Accuracy: 1.00000000, Validation Loss: 0.02470205, Validation Accuracy: 0.95000000\u001b[0m\n",
      "\u001b[34mEpoch: 36, Training Loss: 0.02307120, Training Accuracy: 1.00000000, Validation Loss: 0.02393500, Validation Accuracy: 0.96000000\u001b[0m\n",
      "\u001b[34mEpoch: 37, Training Loss: 0.02279829, Training Accuracy: 1.00000000, Validation Loss: 0.02426929, Validation Accuracy: 0.95000000\u001b[0m\n",
      "\u001b[34mEpoch: 38, Training Loss: 0.02208840, Training Accuracy: 1.00000000, Validation Loss: 0.02462524, Validation Accuracy: 0.95000000\u001b[0m\n",
      "\u001b[34mEpoch: 39, Training Loss: 0.02280529, Training Accuracy: 1.00000000, Validation Loss: 0.02433174, Validation Accuracy: 0.95000000\u001b[0m\n",
      "\u001b[34mEpoch: 40, Training Loss: 0.02185571, Training Accuracy: 1.00000000, Validation Loss: 0.02294779, Validation Accuracy: 0.95000000\u001b[0m\n",
      "\u001b[34mEpoch: 41, Training Loss: 0.02165819, Training Accuracy: 1.00000000, Validation Loss: 0.02349522, Validation Accuracy: 0.95000000\u001b[0m\n",
      "\u001b[34mEpoch: 42, Training Loss: 0.02238244, Training Accuracy: 1.00000000, Validation Loss: 0.02488802, Validation Accuracy: 0.95000000\u001b[0m\n",
      "\u001b[34mEpoch: 43, Training Loss: 0.02319282, Training Accuracy: 1.00000000, Validation Loss: 0.02370206, Validation Accuracy: 0.95000000\u001b[0m\n",
      "\u001b[34mEpoch: 44, Training Loss: 0.02243085, Training Accuracy: 1.00000000, Validation Loss: 0.02368359, Validation Accuracy: 0.95000000\u001b[0m\n",
      "\u001b[34mEpoch: 45, Training Loss: 0.02242216, Training Accuracy: 1.00000000, Validation Loss: 0.02325352, Validation Accuracy: 0.95000000\u001b[0m\n",
      "\u001b[34mEpoch: 46, Training Loss: 0.02169574, Training Accuracy: 1.00000000, Validation Loss: 0.02362735, Validation Accuracy: 0.95000000\u001b[0m\n",
      "\u001b[34mEpoch: 47, Training Loss: 0.02216410, Training Accuracy: 1.00000000, Validation Loss: 0.02296381, Validation Accuracy: 0.95000000\u001b[0m\n",
      "\u001b[34mEpoch: 48, Training Loss: 0.02174445, Training Accuracy: 1.00000000, Validation Loss: 0.02375504, Validation Accuracy: 0.95000000\u001b[0m\n",
      "\u001b[34mEpoch: 49, Training Loss: 0.02251851, Training Accuracy: 1.00000000, Validation Loss: 0.02427959, Validation Accuracy: 0.95000000\u001b[0m\n",
      "\u001b[34mEpoch: 50, Training Loss: 0.02151729, Training Accuracy: 1.00000000, Validation Loss: 0.02384167, Validation Accuracy: 0.95000000\u001b[0m\n",
      "\u001b[34mEpoch: 51, Training Loss: 0.02268425, Training Accuracy: 1.00000000, Validation Loss: 0.02325060, Validation Accuracy: 0.95000000\u001b[0m\n",
      "\u001b[34mEpoch: 52, Training Loss: 0.02175224, Training Accuracy: 1.00000000, Validation Loss: 0.02316793, Validation Accuracy: 0.95000000\u001b[0m\n",
      "\u001b[34mEpoch: 53, Training Loss: 0.02167853, Training Accuracy: 1.00000000, Validation Loss: 0.02399138, Validation Accuracy: 0.95000000\u001b[0m\n",
      "\u001b[34mEpoch: 54, Training Loss: 0.02245426, Training Accuracy: 1.00000000, Validation Loss: 0.02394445, Validation Accuracy: 0.95000000\u001b[0m\n",
      "\u001b[34mEpoch: 55, Training Loss: 0.02155365, Training Accuracy: 1.00000000, Validation Loss: 0.02392925, Validation Accuracy: 0.96000000\u001b[0m\n",
      "\u001b[34mEpoch: 56, Training Loss: 0.02294451, Training Accuracy: 1.00000000, Validation Loss: 0.02341910, Validation Accuracy: 0.96000000\u001b[0m\n",
      "\u001b[34mEpoch: 57, Training Loss: 0.02193285, Training Accuracy: 1.00000000, Validation Loss: 0.02337110, Validation Accuracy: 0.96000000\u001b[0m\n",
      "\u001b[34mEpoch: 58, Training Loss: 0.02210706, Training Accuracy: 1.00000000, Validation Loss: 0.02366911, Validation Accuracy: 0.96000000\u001b[0m\n",
      "\u001b[34mEpoch: 59, Training Loss: 0.02234266, Training Accuracy: 1.00000000, Validation Loss: 0.02399355, Validation Accuracy: 0.96000000\u001b[0m\n",
      "\u001b[34mEpoch: 60, Training Loss: 0.02187327, Training Accuracy: 1.00000000, Validation Loss: 0.02347936, Validation Accuracy: 0.96000000\u001b[0m\n",
      "\u001b[34mEpoch: 61, Training Loss: 0.02223315, Training Accuracy: 1.00000000, Validation Loss: 0.02389455, Validation Accuracy: 0.96000000\u001b[0m\n",
      "\u001b[34mEpoch: 62, Training Loss: 0.02200942, Training Accuracy: 1.00000000, Validation Loss: 0.02411488, Validation Accuracy: 0.96000000\u001b[0m\n",
      "\u001b[34mEpoch: 63, Training Loss: 0.02172578, Training Accuracy: 1.00000000, Validation Loss: 0.02421205, Validation Accuracy: 0.96000000\u001b[0m\n",
      "\u001b[34mEpoch: 64, Training Loss: 0.02147748, Training Accuracy: 1.00000000, Validation Loss: 0.02509606, Validation Accuracy: 0.96000000\u001b[0m\n",
      "\u001b[34mEpoch: 65, Training Loss: 0.02210161, Training Accuracy: 1.00000000, Validation Loss: 0.02364180, Validation Accuracy: 0.96000000\u001b[0m\n",
      "\u001b[34mEpoch: 66, Training Loss: 0.02208800, Training Accuracy: 1.00000000, Validation Loss: 0.02301675, Validation Accuracy: 0.96000000\u001b[0m\n",
      "\u001b[34mEpoch: 67, Training Loss: 0.02128122, Training Accuracy: 1.00000000, Validation Loss: 0.02260435, Validation Accuracy: 0.96000000\u001b[0m\n",
      "\u001b[34mEpoch: 68, Training Loss: 0.02128926, Training Accuracy: 1.00000000, Validation Loss: 0.02300625, Validation Accuracy: 0.96000000\u001b[0m\n",
      "\u001b[34mEpoch: 69, Training Loss: 0.02252193, Training Accuracy: 1.00000000, Validation Loss: 0.02399012, Validation Accuracy: 0.96000000\u001b[0m\n",
      "\u001b[34mEpoch: 70, Training Loss: 0.02233060, Training Accuracy: 1.00000000, Validation Loss: 0.02427269, Validation Accuracy: 0.96000000\u001b[0m\n",
      "\u001b[34mEpoch: 71, Training Loss: 0.02118853, Training Accuracy: 1.00000000, Validation Loss: 0.02300651, Validation Accuracy: 0.97000000\u001b[0m\n",
      "\u001b[34mEpoch: 72, Training Loss: 0.02131770, Training Accuracy: 1.00000000, Validation Loss: 0.02407044, Validation Accuracy: 0.97000000\u001b[0m\n",
      "\u001b[34mEpoch: 73, Training Loss: 0.02119032, Training Accuracy: 1.00000000, Validation Loss: 0.02517003, Validation Accuracy: 0.97000000\u001b[0m\n",
      "\u001b[34mEpoch: 74, Training Loss: 0.02140715, Training Accuracy: 1.00000000, Validation Loss: 0.02310527, Validation Accuracy: 0.97000000\u001b[0m\n",
      "\u001b[34mEpoch: 75, Training Loss: 0.02154680, Training Accuracy: 1.00000000, Validation Loss: 0.02310591, Validation Accuracy: 0.97000000\u001b[0m\n",
      "\u001b[34mEpoch: 76, Training Loss: 0.02115641, Training Accuracy: 1.00000000, Validation Loss: 0.02375966, Validation Accuracy: 0.97000000\u001b[0m\n",
      "\u001b[34mEpoch: 77, Training Loss: 0.02083901, Training Accuracy: 1.00000000, Validation Loss: 0.02315001, Validation Accuracy: 0.97000000\u001b[0m\n",
      "\u001b[34mEpoch: 78, Training Loss: 0.02114058, Training Accuracy: 1.00000000, Validation Loss: 0.02353517, Validation Accuracy: 0.97000000\u001b[0m\n",
      "\u001b[34mEpoch: 79, Training Loss: 0.02076342, Training Accuracy: 1.00000000, Validation Loss: 0.02283271, Validation Accuracy: 0.97000000\u001b[0m\n",
      "\u001b[34mEpoch: 80, Training Loss: 0.02135004, Training Accuracy: 1.00000000, Validation Loss: 0.02520033, Validation Accuracy: 0.97000000\u001b[0m\n",
      "\u001b[34mEpoch: 81, Training Loss: 0.02133404, Training Accuracy: 1.00000000, Validation Loss: 0.02308535, Validation Accuracy: 0.98000000\u001b[0m\n",
      "\u001b[34mEpoch: 82, Training Loss: 0.02057484, Training Accuracy: 1.00000000, Validation Loss: 0.02392336, Validation Accuracy: 0.98000000\u001b[0m\n",
      "\u001b[34mEpoch: 83, Training Loss: 0.02105961, Training Accuracy: 1.00000000, Validation Loss: 0.02325567, Validation Accuracy: 0.98000000\u001b[0m\n",
      "\u001b[34mEpoch: 84, Training Loss: 0.02106540, Training Accuracy: 1.00000000, Validation Loss: 0.02306536, Validation Accuracy: 0.98000000\u001b[0m\n",
      "\u001b[34mEpoch: 85, Training Loss: 0.02077673, Training Accuracy: 1.00000000, Validation Loss: 0.02329565, Validation Accuracy: 0.98000000\u001b[0m\n",
      "\u001b[34mEpoch: 86, Training Loss: 0.02135155, Training Accuracy: 1.00000000, Validation Loss: 0.02528972, Validation Accuracy: 0.98000000\u001b[0m\n",
      "\u001b[34mEpoch: 87, Training Loss: 0.02183507, Training Accuracy: 1.00000000, Validation Loss: 0.02353359, Validation Accuracy: 0.98000000\u001b[0m\n",
      "\u001b[34mEpoch: 88, Training Loss: 0.02148592, Training Accuracy: 1.00000000, Validation Loss: 0.02157308, Validation Accuracy: 0.98000000\u001b[0m\n",
      "\u001b[34mEpoch: 89, Training Loss: 0.02130872, Training Accuracy: 1.00000000, Validation Loss: 0.02306706, Validation Accuracy: 0.98000000\u001b[0m\n",
      "\u001b[34mEpoch: 90, Training Loss: 0.02089260, Training Accuracy: 1.00000000, Validation Loss: 0.02305106, Validation Accuracy: 0.98000000\u001b[0m\n",
      "\u001b[34mEpoch: 91, Training Loss: 0.02160634, Training Accuracy: 1.00000000, Validation Loss: 0.02402506, Validation Accuracy: 0.98000000\u001b[0m\n",
      "\u001b[34mEpoch: 92, Training Loss: 0.02136120, Training Accuracy: 1.00000000, Validation Loss: 0.02255462, Validation Accuracy: 0.98000000\u001b[0m\n",
      "\u001b[34mEpoch: 93, Training Loss: 0.02042990, Training Accuracy: 1.00000000, Validation Loss: 0.02497220, Validation Accuracy: 0.98000000\u001b[0m\n",
      "\u001b[34mEpoch: 94, Training Loss: 0.02080365, Training Accuracy: 1.00000000, Validation Loss: 0.02211839, Validation Accuracy: 0.98000000\u001b[0m\n",
      "\u001b[34mEpoch: 95, Training Loss: 0.02113790, Training Accuracy: 1.00000000, Validation Loss: 0.02157344, Validation Accuracy: 0.98000000\u001b[0m\n",
      "\u001b[34mEpoch: 96, Training Loss: 0.02033973, Training Accuracy: 1.00000000, Validation Loss: 0.02196699, Validation Accuracy: 0.98000000\u001b[0m\n",
      "\u001b[34mEpoch: 97, Training Loss: 0.02104840, Training Accuracy: 1.00000000, Validation Loss: 0.02335052, Validation Accuracy: 0.98000000\u001b[0m\n",
      "\u001b[34mEpoch: 98, Training Loss: 0.02052119, Training Accuracy: 1.00000000, Validation Loss: 0.02331210, Validation Accuracy: 0.98000000\u001b[0m\n",
      "\u001b[34mEpoch: 99, Training Loss: 0.02112653, Training Accuracy: 1.00000000, Validation Loss: 0.02218857, Validation Accuracy: 0.98000000\u001b[0m\n",
      "\u001b[34mEpoch: 100, Training Loss: 0.02069634, Training Accuracy: 1.00000000, Validation Loss: 0.02248344, Validation Accuracy: 0.98000000\u001b[0m\n",
      "\u001b[34m--------------------------------------\u001b[0m\n",
      "\u001b[34mScoring the model.\u001b[0m\n",
      "\u001b[34mtrain:loss 0.02069634\u001b[0m\n",
      "\u001b[34mtrain:acc 1.00000000\u001b[0m\n",
      "\u001b[34mvalid:loss 0.02248344\u001b[0m\n",
      "\u001b[34mvalid:acc 0.98000000\u001b[0m\n",
      "\u001b[34m--------------------------------------\u001b[0m\n",
      "\u001b[34m2023-08-13 17:24:47,624 sagemaker-training-toolkit INFO     Waiting for the process to finish and give a return code.\u001b[0m\n",
      "\u001b[34m2023-08-13 17:24:47,624 sagemaker-training-toolkit INFO     Done waiting for a return code. Received 0 from exiting process.\u001b[0m\n",
      "\u001b[34m2023-08-13 17:24:47,624 sagemaker-training-toolkit INFO     Reporting training SUCCESS\u001b[0m\n",
      "\n",
      "2023-08-13 17:25:06 Uploading - Uploading generated training model\n",
      "2023-08-13 17:25:06 Completed - Training job completed\n",
      "Training seconds: 769\n",
      "Billable seconds: 769\n"
     ]
    }
   ],
   "source": [
    "# run the training job\n",
    "estimator.fit({\"training\": training_data, \"validation\": validation_data})"
   ]
  },
  {
   "cell_type": "markdown",
   "metadata": {},
   "source": [
    "See this [blog-post](https://aws.amazon.com/blogs/machine-learning/easily-monitor-and-visualize-metrics-while-training-models-on-amazon-sagemaker/) for more information how to visualize metrics during the process. You can also open the training job from [Amazon SageMaker console](https://console.aws.amazon.com/sagemaker/home?#/jobs/) and monitor the metrics/logs in **Monitor** section."
   ]
  },
  {
   "cell_type": "markdown",
   "metadata": {},
   "source": [
    "## 4: Deploy model and verify results"
   ]
  },
  {
   "cell_type": "markdown",
   "metadata": {},
   "source": [
    "Now you can deploy the model for performing real-time inference."
   ]
  },
  {
   "cell_type": "markdown",
   "metadata": {},
   "source": [
    "### A. Deploy trained model"
   ]
  },
  {
   "cell_type": "code",
   "execution_count": 25,
   "metadata": {
    "tags": []
   },
   "outputs": [
    {
     "name": "stderr",
     "output_type": "stream",
     "text": [
      "INFO:sagemaker:Creating model package with name: cnn-svc-model-2023-08-13-17-25-18-986485\n"
     ]
    },
    {
     "name": "stdout",
     "output_type": "stream",
     "text": [
      "........."
     ]
    },
    {
     "name": "stderr",
     "output_type": "stream",
     "text": [
      "INFO:sagemaker:Creating model with name: cnn-svc-model-2023-08-13-17-25-18-986485\n"
     ]
    },
    {
     "name": "stdout",
     "output_type": "stream",
     "text": [
      "\n"
     ]
    },
    {
     "name": "stderr",
     "output_type": "stream",
     "text": [
      "INFO:sagemaker:Creating endpoint-config with name cnn-svc-endpoint-2023-08-13-17-25-18-986508\n",
      "INFO:sagemaker:Creating endpoint with name cnn-svc-endpoint-2023-08-13-17-25-18-986508\n"
     ]
    },
    {
     "name": "stdout",
     "output_type": "stream",
     "text": [
      "-------!"
     ]
    }
   ],
   "source": [
    "predictor = estimator.deploy(\n",
    "    initial_instance_count=1,\n",
    "    instance_type=instance_type,\n",
    "    serializer=sagemaker.serializers.CSVSerializer(content_type=\"text/csv\"),\n",
    "    model_name=f\"cnn-svc-model-{datetime.datetime.now().strftime(format='%Y-%m-%d-%H-%M-%S-%f')}\",\n",
    "    endpoint_name=f\"cnn-svc-endpoint-{datetime.datetime.now().strftime(format='%Y-%m-%d-%H-%M-%S-%f')}\",\n",
    ")"
   ]
  },
  {
   "cell_type": "markdown",
   "metadata": {},
   "source": [
    "Once the endpoint is in service, you can perform real-time inference."
   ]
  },
  {
   "cell_type": "markdown",
   "metadata": {},
   "source": [
    "### B. Create input payload"
   ]
  },
  {
   "cell_type": "markdown",
   "metadata": {},
   "source": [
    "The inference algorithm takes as input a CSV file containing the time series.\n",
    "The CSV file should not contain any index column or column headers.\n",
    "Each row of the CSV file represents a time series, while each column represents a time step.\n",
    "The time series can have different lengths and can contain missing values.\n",
    "The time series are scaled internally by the algorithm, there is no need to scale the time series beforehand."
   ]
  },
  {
   "cell_type": "markdown",
   "metadata": {},
   "source": [
    "**Test dataset:**"
   ]
  },
  {
   "cell_type": "code",
   "execution_count": 26,
   "metadata": {
    "tags": []
   },
   "outputs": [],
   "source": [
    "test_dataset = pd.read_csv(\n",
    "    \"https://raw.githubusercontent.com/fg-research/cnn-svc-sagemaker/master/data/inference/input/test_data.csv\",\n",
    "    header=None,\n",
    "    index_col=None\n",
    ")"
   ]
  },
  {
   "cell_type": "code",
   "execution_count": 27,
   "metadata": {
    "tags": []
   },
   "outputs": [
    {
     "data": {
      "text/plain": [
       "(100, 50)"
      ]
     },
     "execution_count": 27,
     "metadata": {},
     "output_type": "execute_result"
    }
   ],
   "source": [
    "test_dataset.shape"
   ]
  },
  {
   "cell_type": "code",
   "execution_count": 28,
   "metadata": {
    "tags": []
   },
   "outputs": [
    {
     "data": {
      "text/html": [
       "<div>\n",
       "<style scoped>\n",
       "    .dataframe tbody tr th:only-of-type {\n",
       "        vertical-align: middle;\n",
       "    }\n",
       "\n",
       "    .dataframe tbody tr th {\n",
       "        vertical-align: top;\n",
       "    }\n",
       "\n",
       "    .dataframe thead th {\n",
       "        text-align: right;\n",
       "    }\n",
       "</style>\n",
       "<table border=\"1\" class=\"dataframe\">\n",
       "  <thead>\n",
       "    <tr style=\"text-align: right;\">\n",
       "      <th></th>\n",
       "      <th>0</th>\n",
       "      <th>1</th>\n",
       "      <th>2</th>\n",
       "      <th>3</th>\n",
       "      <th>4</th>\n",
       "      <th>5</th>\n",
       "      <th>6</th>\n",
       "      <th>7</th>\n",
       "      <th>8</th>\n",
       "      <th>9</th>\n",
       "      <th>...</th>\n",
       "      <th>40</th>\n",
       "      <th>41</th>\n",
       "      <th>42</th>\n",
       "      <th>43</th>\n",
       "      <th>44</th>\n",
       "      <th>45</th>\n",
       "      <th>46</th>\n",
       "      <th>47</th>\n",
       "      <th>48</th>\n",
       "      <th>49</th>\n",
       "    </tr>\n",
       "  </thead>\n",
       "  <tbody>\n",
       "    <tr>\n",
       "      <th>0</th>\n",
       "      <td>1.961892</td>\n",
       "      <td>NaN</td>\n",
       "      <td>3.339272</td>\n",
       "      <td>15.918861</td>\n",
       "      <td>23.148579</td>\n",
       "      <td>37.920989</td>\n",
       "      <td>42.657312</td>\n",
       "      <td>39.429838</td>\n",
       "      <td>33.690162</td>\n",
       "      <td>22.605304</td>\n",
       "      <td>...</td>\n",
       "      <td>24.048562</td>\n",
       "      <td>32.525504</td>\n",
       "      <td>41.402378</td>\n",
       "      <td>42.836975</td>\n",
       "      <td>41.496963</td>\n",
       "      <td>27.778819</td>\n",
       "      <td>18.709208</td>\n",
       "      <td>10.120667</td>\n",
       "      <td>1.238937</td>\n",
       "      <td>2.138014</td>\n",
       "    </tr>\n",
       "    <tr>\n",
       "      <th>1</th>\n",
       "      <td>-4.938655</td>\n",
       "      <td>-12.823784</td>\n",
       "      <td>-7.292687</td>\n",
       "      <td>20.669545</td>\n",
       "      <td>42.735701</td>\n",
       "      <td>55.915914</td>\n",
       "      <td>38.594117</td>\n",
       "      <td>22.359637</td>\n",
       "      <td>11.747328</td>\n",
       "      <td>18.839520</td>\n",
       "      <td>...</td>\n",
       "      <td>17.230889</td>\n",
       "      <td>52.348960</td>\n",
       "      <td>NaN</td>\n",
       "      <td>NaN</td>\n",
       "      <td>NaN</td>\n",
       "      <td>NaN</td>\n",
       "      <td>NaN</td>\n",
       "      <td>NaN</td>\n",
       "      <td>NaN</td>\n",
       "      <td>NaN</td>\n",
       "    </tr>\n",
       "    <tr>\n",
       "      <th>2</th>\n",
       "      <td>16.324562</td>\n",
       "      <td>-0.911984</td>\n",
       "      <td>0.084071</td>\n",
       "      <td>17.243492</td>\n",
       "      <td>34.250183</td>\n",
       "      <td>32.900130</td>\n",
       "      <td>24.934774</td>\n",
       "      <td>4.566914</td>\n",
       "      <td>-0.284355</td>\n",
       "      <td>13.901008</td>\n",
       "      <td>...</td>\n",
       "      <td>22.829803</td>\n",
       "      <td>36.337895</td>\n",
       "      <td>36.367390</td>\n",
       "      <td>17.925076</td>\n",
       "      <td>5.983147</td>\n",
       "      <td>2.227726</td>\n",
       "      <td>24.776385</td>\n",
       "      <td>39.280989</td>\n",
       "      <td>44.358031</td>\n",
       "      <td>27.447368</td>\n",
       "    </tr>\n",
       "    <tr>\n",
       "      <th>3</th>\n",
       "      <td>4.048841</td>\n",
       "      <td>3.631466</td>\n",
       "      <td>8.029529</td>\n",
       "      <td>21.408056</td>\n",
       "      <td>28.154454</td>\n",
       "      <td>39.698886</td>\n",
       "      <td>42.561894</td>\n",
       "      <td>37.829814</td>\n",
       "      <td>33.623053</td>\n",
       "      <td>23.585831</td>\n",
       "      <td>...</td>\n",
       "      <td>19.686609</td>\n",
       "      <td>30.887575</td>\n",
       "      <td>35.843583</td>\n",
       "      <td>35.373759</td>\n",
       "      <td>42.271459</td>\n",
       "      <td>32.067364</td>\n",
       "      <td>20.043963</td>\n",
       "      <td>12.015558</td>\n",
       "      <td>0.571687</td>\n",
       "      <td>-4.735478</td>\n",
       "    </tr>\n",
       "    <tr>\n",
       "      <th>4</th>\n",
       "      <td>19.125505</td>\n",
       "      <td>6.351013</td>\n",
       "      <td>4.143251</td>\n",
       "      <td>21.228201</td>\n",
       "      <td>41.127726</td>\n",
       "      <td>37.257361</td>\n",
       "      <td>20.231339</td>\n",
       "      <td>-1.873699</td>\n",
       "      <td>4.155265</td>\n",
       "      <td>10.903046</td>\n",
       "      <td>...</td>\n",
       "      <td>17.572881</td>\n",
       "      <td>41.220214</td>\n",
       "      <td>37.232189</td>\n",
       "      <td>16.771593</td>\n",
       "      <td>2.364200</td>\n",
       "      <td>0.014795</td>\n",
       "      <td>22.367995</td>\n",
       "      <td>37.847592</td>\n",
       "      <td>39.319366</td>\n",
       "      <td>18.939293</td>\n",
       "    </tr>\n",
       "  </tbody>\n",
       "</table>\n",
       "<p>5 rows × 50 columns</p>\n",
       "</div>"
      ],
      "text/plain": [
       "          0          1         2          3          4          5          6    \n",
       "0   1.961892        NaN  3.339272  15.918861  23.148579  37.920989  42.657312  \\\n",
       "1  -4.938655 -12.823784 -7.292687  20.669545  42.735701  55.915914  38.594117   \n",
       "2  16.324562  -0.911984  0.084071  17.243492  34.250183  32.900130  24.934774   \n",
       "3   4.048841   3.631466  8.029529  21.408056  28.154454  39.698886  42.561894   \n",
       "4  19.125505   6.351013  4.143251  21.228201  41.127726  37.257361  20.231339   \n",
       "\n",
       "          7          8          9   ...         40         41         42   \n",
       "0  39.429838  33.690162  22.605304  ...  24.048562  32.525504  41.402378  \\\n",
       "1  22.359637  11.747328  18.839520  ...  17.230889  52.348960        NaN   \n",
       "2   4.566914  -0.284355  13.901008  ...  22.829803  36.337895  36.367390   \n",
       "3  37.829814  33.623053  23.585831  ...  19.686609  30.887575  35.843583   \n",
       "4  -1.873699   4.155265  10.903046  ...  17.572881  41.220214  37.232189   \n",
       "\n",
       "          43         44         45         46         47         48         49  \n",
       "0  42.836975  41.496963  27.778819  18.709208  10.120667   1.238937   2.138014  \n",
       "1        NaN        NaN        NaN        NaN        NaN        NaN        NaN  \n",
       "2  17.925076   5.983147   2.227726  24.776385  39.280989  44.358031  27.447368  \n",
       "3  35.373759  42.271459  32.067364  20.043963  12.015558   0.571687  -4.735478  \n",
       "4  16.771593   2.364200   0.014795  22.367995  37.847592  39.319366  18.939293  \n",
       "\n",
       "[5 rows x 50 columns]"
      ]
     },
     "execution_count": 28,
     "metadata": {},
     "output_type": "execute_result"
    }
   ],
   "source": [
    "test_dataset.head()"
   ]
  },
  {
   "cell_type": "code",
   "execution_count": 29,
   "metadata": {
    "tags": []
   },
   "outputs": [],
   "source": [
    "test_data = sagemaker_session.upload_string_as_file_body(\n",
    "    body=test_dataset.to_csv(index=False, header=False),\n",
    "    bucket=bucket,\n",
    "    key=\"data/inference/input/test_data.csv\"\n",
    ")"
   ]
  },
  {
   "cell_type": "code",
   "execution_count": 30,
   "metadata": {
    "tags": []
   },
   "outputs": [
    {
     "data": {
      "text/plain": [
       "'s3://sagemaker-eu-west-1-661670223746/data/inference/input/test_data.csv'"
      ]
     },
     "execution_count": 30,
     "metadata": {},
     "output_type": "execute_result"
    }
   ],
   "source": [
    "test_data"
   ]
  },
  {
   "cell_type": "code",
   "execution_count": 31,
   "metadata": {
    "tags": []
   },
   "outputs": [],
   "source": [
    "payload = sagemaker_session.read_s3_file(\n",
    "    bucket=bucket,\n",
    "    key_prefix=\"data/inference/input/test_data.csv\"\n",
    ")"
   ]
  },
  {
   "cell_type": "markdown",
   "metadata": {},
   "source": [
    "### C. Perform real-time inference"
   ]
  },
  {
   "cell_type": "code",
   "execution_count": 32,
   "metadata": {
    "tags": []
   },
   "outputs": [],
   "source": [
    "response = sagemaker_session.sagemaker_runtime_client.invoke_endpoint(\n",
    "    EndpointName=predictor.endpoint_name,\n",
    "    ContentType=\"text/csv\",\n",
    "    Body=payload\n",
    ")\n",
    "\n",
    "real_time_predictions = response[\"Body\"].read().decode(\"utf-8\").split(\"\\n\")[:-1]\n",
    "real_time_predictions = pd.DataFrame(real_time_predictions).astype(float)"
   ]
  },
  {
   "cell_type": "code",
   "execution_count": 33,
   "metadata": {
    "tags": []
   },
   "outputs": [
    {
     "data": {
      "text/plain": [
       "{'ResponseMetadata': {'RequestId': '835a33fd-126a-4df8-b8e7-5a08913f89d3',\n",
       "  'HTTPStatusCode': 200,\n",
       "  'HTTPHeaders': {'x-amzn-requestid': '835a33fd-126a-4df8-b8e7-5a08913f89d3',\n",
       "   'x-amzn-invoked-production-variant': 'AllTraffic',\n",
       "   'date': 'Sun, 13 Aug 2023 17:30:07 GMT',\n",
       "   'content-type': 'application/json',\n",
       "   'content-length': '400',\n",
       "   'connection': 'keep-alive'},\n",
       "  'RetryAttempts': 0},\n",
       " 'ContentType': 'application/json',\n",
       " 'InvokedProductionVariant': 'AllTraffic',\n",
       " 'Body': <botocore.response.StreamingBody at 0x7f8841843e80>}"
      ]
     },
     "execution_count": 33,
     "metadata": {},
     "output_type": "execute_result"
    }
   ],
   "source": [
    "response"
   ]
  },
  {
   "cell_type": "code",
   "execution_count": 34,
   "metadata": {
    "tags": []
   },
   "outputs": [],
   "source": [
    "real_time_results = sagemaker_session.upload_string_as_file_body(\n",
    "    body=real_time_predictions.to_csv(index=False, header=False),\n",
    "    bucket=bucket, \n",
    "    key=\"data/inference/output/real-time/real_time_predictions.csv\"\n",
    ")"
   ]
  },
  {
   "cell_type": "code",
   "execution_count": 35,
   "metadata": {
    "tags": []
   },
   "outputs": [
    {
     "data": {
      "text/plain": [
       "'s3://sagemaker-eu-west-1-661670223746/data/inference/output/real-time/real_time_predictions.csv'"
      ]
     },
     "execution_count": 35,
     "metadata": {},
     "output_type": "execute_result"
    }
   ],
   "source": [
    "real_time_results"
   ]
  },
  {
   "cell_type": "markdown",
   "metadata": {},
   "source": [
    "### D. Visualize output"
   ]
  },
  {
   "cell_type": "markdown",
   "metadata": {},
   "source": [
    "The inference algorithm outputs the predicted class labels, which are returned in CSV format."
   ]
  },
  {
   "cell_type": "code",
   "execution_count": 36,
   "metadata": {
    "tags": []
   },
   "outputs": [
    {
     "data": {
      "text/plain": [
       "(100, 1)"
      ]
     },
     "execution_count": 36,
     "metadata": {},
     "output_type": "execute_result"
    }
   ],
   "source": [
    "real_time_predictions.shape"
   ]
  },
  {
   "cell_type": "code",
   "execution_count": 37,
   "metadata": {
    "tags": []
   },
   "outputs": [
    {
     "data": {
      "text/html": [
       "<div>\n",
       "<style scoped>\n",
       "    .dataframe tbody tr th:only-of-type {\n",
       "        vertical-align: middle;\n",
       "    }\n",
       "\n",
       "    .dataframe tbody tr th {\n",
       "        vertical-align: top;\n",
       "    }\n",
       "\n",
       "    .dataframe thead th {\n",
       "        text-align: right;\n",
       "    }\n",
       "</style>\n",
       "<table border=\"1\" class=\"dataframe\">\n",
       "  <thead>\n",
       "    <tr style=\"text-align: right;\">\n",
       "      <th></th>\n",
       "      <th>0</th>\n",
       "    </tr>\n",
       "  </thead>\n",
       "  <tbody>\n",
       "    <tr>\n",
       "      <th>0</th>\n",
       "      <td>0.0</td>\n",
       "    </tr>\n",
       "    <tr>\n",
       "      <th>1</th>\n",
       "      <td>2.0</td>\n",
       "    </tr>\n",
       "    <tr>\n",
       "      <th>2</th>\n",
       "      <td>0.0</td>\n",
       "    </tr>\n",
       "    <tr>\n",
       "      <th>3</th>\n",
       "      <td>0.0</td>\n",
       "    </tr>\n",
       "    <tr>\n",
       "      <th>4</th>\n",
       "      <td>1.0</td>\n",
       "    </tr>\n",
       "  </tbody>\n",
       "</table>\n",
       "</div>"
      ],
      "text/plain": [
       "     0\n",
       "0  0.0\n",
       "1  2.0\n",
       "2  0.0\n",
       "3  0.0\n",
       "4  1.0"
      ]
     },
     "execution_count": 37,
     "metadata": {},
     "output_type": "execute_result"
    }
   ],
   "source": [
    "real_time_predictions.head()"
   ]
  },
  {
   "cell_type": "code",
   "execution_count": 38,
   "metadata": {
    "tags": []
   },
   "outputs": [
    {
     "data": {
      "text/plain": [
       "array([0., 1., 2.])"
      ]
     },
     "execution_count": 38,
     "metadata": {},
     "output_type": "execute_result"
    }
   ],
   "source": [
    "real_time_predictions.iloc[:, 0].sort_values().unique()"
   ]
  },
  {
   "cell_type": "code",
   "execution_count": 39,
   "metadata": {
    "tags": []
   },
   "outputs": [
    {
     "data": {
      "text/plain": [
       "0.0    34\n",
       "1.0    32\n",
       "2.0    34\n",
       "Name: count, dtype: int64"
      ]
     },
     "execution_count": 39,
     "metadata": {},
     "output_type": "execute_result"
    }
   ],
   "source": [
    "real_time_predictions.iloc[:, 0].rename(None).value_counts().sort_index()"
   ]
  },
  {
   "cell_type": "code",
   "execution_count": 40,
   "metadata": {
    "tags": []
   },
   "outputs": [
    {
     "data": {
      "image/png": "[encoded data removed]",
      "text/plain": [
       "<Figure size 500x600 with 3 Axes>"
      ]
     },
     "metadata": {},
     "output_type": "display_data"
    }
   ],
   "source": [
    "fig, axs = plt.subplots(nrows=real_time_predictions.iloc[:, 0].nunique(), ncols=1, sharex=True, figsize=(5, 6))\n",
    "for i, c in enumerate(real_time_predictions.iloc[:, 0].sort_values().unique()):\n",
    "    axs[i].plot(test_dataset[real_time_predictions.iloc[:, 0] == c].iloc[:, 1:].transpose(), color=\"#AFB8C1\", lw=0.5, alpha=0.5)\n",
    "    axs[i].plot(test_dataset[real_time_predictions.iloc[:, 0] == c].iloc[:, 1:].transpose().median(axis=1), color=\"#009ad3\", lw=1, label=\"Median\" if i == 0 else None)\n",
    "    axs[i].set_title(f\"Class {int(c)}\", size=10)\n",
    "    axs[i].set(xlabel=\"Time\", ylabel=\"Value\")\n",
    "    axs[i].xaxis.set_tick_params(labelbottom=True)\n",
    "    axs[i].tick_params(axis=\"both\", which=\"major\", labelsize=7)\n",
    "    axs[i].tick_params(axis=\"both\", which=\"minor\", labelsize=7)\n",
    "fig.subplots_adjust(hspace=0.75)\n",
    "fig.suptitle(\"Real-Time Predictions on Test Dataset\")\n",
    "fig.legend(frameon=False, bbox_to_anchor=(0, 0, 1.1, 1))\n",
    "fig.tight_layout()\n",
    "fig.subplots_adjust(top=0.88)\n",
    "fig.show()"
   ]
  },
  {
   "cell_type": "markdown",
   "metadata": {},
   "source": [
    "### E. Calculate relevant metrics"
   ]
  },
  {
   "cell_type": "markdown",
   "metadata": {},
   "source": [
    "In this section we assess the model's classification performance against the ground truth test labels. We use `scikit-learn`'s [`classification_report`](https://scikit-learn.org/stable/modules/generated/sklearn.metrics.classification_report.html) for calculating the main classification metrics for each class. "
   ]
  },
  {
   "cell_type": "code",
   "execution_count": 41,
   "metadata": {
    "tags": []
   },
   "outputs": [],
   "source": [
    "test_labels = pd.read_csv(\n",
    "    \"https://raw.githubusercontent.com/fg-research/cnn-svc-sagemaker/master/data/inference/output/test_labels.csv\",\n",
    "    header=None,\n",
    "    index_col=None\n",
    ")"
   ]
  },
  {
   "cell_type": "code",
   "execution_count": 42,
   "metadata": {
    "tags": []
   },
   "outputs": [
    {
     "data": {
      "text/plain": [
       "(100, 1)"
      ]
     },
     "execution_count": 42,
     "metadata": {},
     "output_type": "execute_result"
    }
   ],
   "source": [
    "test_labels.shape"
   ]
  },
  {
   "cell_type": "code",
   "execution_count": 43,
   "metadata": {
    "tags": []
   },
   "outputs": [
    {
     "data": {
      "text/html": [
       "<div>\n",
       "<style scoped>\n",
       "    .dataframe tbody tr th:only-of-type {\n",
       "        vertical-align: middle;\n",
       "    }\n",
       "\n",
       "    .dataframe tbody tr th {\n",
       "        vertical-align: top;\n",
       "    }\n",
       "\n",
       "    .dataframe thead th {\n",
       "        text-align: right;\n",
       "    }\n",
       "</style>\n",
       "<table border=\"1\" class=\"dataframe\">\n",
       "  <thead>\n",
       "    <tr style=\"text-align: right;\">\n",
       "      <th></th>\n",
       "      <th>0</th>\n",
       "    </tr>\n",
       "  </thead>\n",
       "  <tbody>\n",
       "    <tr>\n",
       "      <th>0</th>\n",
       "      <td>0.0</td>\n",
       "    </tr>\n",
       "    <tr>\n",
       "      <th>1</th>\n",
       "      <td>2.0</td>\n",
       "    </tr>\n",
       "    <tr>\n",
       "      <th>2</th>\n",
       "      <td>1.0</td>\n",
       "    </tr>\n",
       "    <tr>\n",
       "      <th>3</th>\n",
       "      <td>0.0</td>\n",
       "    </tr>\n",
       "    <tr>\n",
       "      <th>4</th>\n",
       "      <td>1.0</td>\n",
       "    </tr>\n",
       "  </tbody>\n",
       "</table>\n",
       "</div>"
      ],
      "text/plain": [
       "     0\n",
       "0  0.0\n",
       "1  2.0\n",
       "2  1.0\n",
       "3  0.0\n",
       "4  1.0"
      ]
     },
     "execution_count": 43,
     "metadata": {},
     "output_type": "execute_result"
    }
   ],
   "source": [
    "test_labels.head()"
   ]
  },
  {
   "cell_type": "code",
   "execution_count": 44,
   "metadata": {
    "tags": []
   },
   "outputs": [
    {
     "data": {
      "text/plain": [
       "array([0., 1., 2.])"
      ]
     },
     "execution_count": 44,
     "metadata": {},
     "output_type": "execute_result"
    }
   ],
   "source": [
    "test_labels.iloc[:, 0].sort_values().unique()"
   ]
  },
  {
   "cell_type": "code",
   "execution_count": 45,
   "metadata": {
    "tags": []
   },
   "outputs": [
    {
     "data": {
      "text/plain": [
       "0.0    33\n",
       "1.0    33\n",
       "2.0    34\n",
       "Name: count, dtype: int64"
      ]
     },
     "execution_count": 45,
     "metadata": {},
     "output_type": "execute_result"
    }
   ],
   "source": [
    "test_labels.iloc[:, 0].rename(None).value_counts().sort_index()"
   ]
  },
  {
   "cell_type": "code",
   "execution_count": 46,
   "metadata": {
    "tags": []
   },
   "outputs": [],
   "source": [
    "metrics = pd.DataFrame(classification_report(y_true=test_labels.iloc[:, 0], y_pred=real_time_predictions.iloc[:, 0], output_dict=True))"
   ]
  },
  {
   "cell_type": "code",
   "execution_count": 47,
   "metadata": {
    "tags": []
   },
   "outputs": [
    {
     "data": {
      "text/html": [
       "<div>\n",
       "<style scoped>\n",
       "    .dataframe tbody tr th:only-of-type {\n",
       "        vertical-align: middle;\n",
       "    }\n",
       "\n",
       "    .dataframe tbody tr th {\n",
       "        vertical-align: top;\n",
       "    }\n",
       "\n",
       "    .dataframe thead th {\n",
       "        text-align: right;\n",
       "    }\n",
       "</style>\n",
       "<table border=\"1\" class=\"dataframe\">\n",
       "  <thead>\n",
       "    <tr style=\"text-align: right;\">\n",
       "      <th></th>\n",
       "      <th>0.0</th>\n",
       "      <th>1.0</th>\n",
       "      <th>2.0</th>\n",
       "      <th>accuracy</th>\n",
       "      <th>macro avg</th>\n",
       "      <th>weighted avg</th>\n",
       "    </tr>\n",
       "  </thead>\n",
       "  <tbody>\n",
       "    <tr>\n",
       "      <th>precision</th>\n",
       "      <td>0.970588</td>\n",
       "      <td>1.000000</td>\n",
       "      <td>1.0</td>\n",
       "      <td>0.99</td>\n",
       "      <td>0.990196</td>\n",
       "      <td>0.990294</td>\n",
       "    </tr>\n",
       "    <tr>\n",
       "      <th>recall</th>\n",
       "      <td>1.000000</td>\n",
       "      <td>0.969697</td>\n",
       "      <td>1.0</td>\n",
       "      <td>0.99</td>\n",
       "      <td>0.989899</td>\n",
       "      <td>0.990000</td>\n",
       "    </tr>\n",
       "    <tr>\n",
       "      <th>f1-score</th>\n",
       "      <td>0.985075</td>\n",
       "      <td>0.984615</td>\n",
       "      <td>1.0</td>\n",
       "      <td>0.99</td>\n",
       "      <td>0.989897</td>\n",
       "      <td>0.989998</td>\n",
       "    </tr>\n",
       "    <tr>\n",
       "      <th>support</th>\n",
       "      <td>33.000000</td>\n",
       "      <td>33.000000</td>\n",
       "      <td>34.0</td>\n",
       "      <td>0.99</td>\n",
       "      <td>100.000000</td>\n",
       "      <td>100.000000</td>\n",
       "    </tr>\n",
       "  </tbody>\n",
       "</table>\n",
       "</div>"
      ],
      "text/plain": [
       "                 0.0        1.0   2.0  accuracy   macro avg  weighted avg\n",
       "precision   0.970588   1.000000   1.0      0.99    0.990196      0.990294\n",
       "recall      1.000000   0.969697   1.0      0.99    0.989899      0.990000\n",
       "f1-score    0.985075   0.984615   1.0      0.99    0.989897      0.989998\n",
       "support    33.000000  33.000000  34.0      0.99  100.000000    100.000000"
      ]
     },
     "execution_count": 47,
     "metadata": {},
     "output_type": "execute_result"
    }
   ],
   "source": [
    "metrics"
   ]
  },
  {
   "cell_type": "markdown",
   "metadata": {},
   "source": [
    "If [Amazon SageMaker Model Monitor](https://docs.aws.amazon.com/sagemaker/latest/dg/model-monitor.html) supports the type of problem you are trying to solve using this algorithm, use the following examples to add Model Monitor support to your product.\n",
    "For sample code to enable and monitor the model, see following notebooks:\n",
    "1. [Enable Amazon SageMaker Model Monitor](https://github.com/awslabs/amazon-sagemaker-examples/blob/master/sagemaker_model_monitor/enable_model_monitor/SageMaker-Enable-Model-Monitor.ipynb)\n",
    "2. [Amazon SageMaker Model Monitor - visualizing monitoring results](https://github.com/awslabs/amazon-sagemaker-examples/blob/master/sagemaker_model_monitor/visualization/SageMaker-Model-Monitor-Visualize.ipynb)"
   ]
  },
  {
   "cell_type": "markdown",
   "metadata": {},
   "source": [
    "### F. Delete the endpoint"
   ]
  },
  {
   "cell_type": "markdown",
   "metadata": {},
   "source": [
    "Now that you have successfully performed a real-time inference, you do not need the endpoint any more. You can terminate the same to avoid being charged."
   ]
  },
  {
   "cell_type": "code",
   "execution_count": 48,
   "metadata": {
    "tags": []
   },
   "outputs": [
    {
     "name": "stderr",
     "output_type": "stream",
     "text": [
      "INFO:sagemaker:Deleting endpoint configuration with name: cnn-svc-endpoint-2023-08-13-17-25-18-986508\n",
      "INFO:sagemaker:Deleting endpoint with name: cnn-svc-endpoint-2023-08-13-17-25-18-986508\n"
     ]
    }
   ],
   "source": [
    "predictor.delete_endpoint(delete_endpoint_config=True)"
   ]
  },
  {
   "cell_type": "markdown",
   "metadata": {},
   "source": [
    "Since this is an experiment, you do not need to run a hyperparameter tuning job. However, if you would like to see how to tune a model trained using a third-party algorithm with Amazon SageMaker's hyperparameter tuning functionality, you can run the optional tuning step."
   ]
  },
  {
   "cell_type": "markdown",
   "metadata": {},
   "source": [
    "## 5: Tune your model! (optional)"
   ]
  },
  {
   "cell_type": "markdown",
   "metadata": {},
   "source": [
    "### A. Tuning Guidelines"
   ]
  },
  {
   "cell_type": "markdown",
   "metadata": {},
   "source": [
    "The model has the following hyperparameters, all of which are tunable:\n",
    "- `penalty`: `float`. The regularization parameter of the support vector classifier\t(default = 0).\n",
    "- `kernel`: `str`. The kernel function of the support vector classifier\t(default = \"rbf\").\n",
    "- `blocks`: `int`. The number of blocks of convolutional layers\t(default = 10).\n",
    "- `filters`: `int`.\tThe number of filters of all but the last convolutional layers (default = 40).\n",
    "- `kernel-size`: `int`.\tThe size of the kernel of all non-residual convolutional layers (default = 3).\t\n",
    "- `reduced-size`: `int`. The number of filters of the last convolutional layer (default = 160).\t\n",
    "- `output-size`: `int`.\tThe number of hidden units of the linear output layer (default = 320).\n",
    "- `negative-samples`: `int`. The number of negative samples used for calculating the triplet loss (default = 10).\n",
    "- `lr`: `float`. The learning rate used for training (default = 0.001).\n",
    "- `batch-size`: `int`. The batch size used for training (default = 10).\n",
    "- `epochs`: `int`. The number of training epochs (default = 100)."
   ]
  },
  {
   "cell_type": "markdown",
   "metadata": {},
   "source": [
    "### B. Define Tuning configuration"
   ]
  },
  {
   "cell_type": "code",
   "execution_count": 49,
   "metadata": {
    "tags": []
   },
   "outputs": [],
   "source": [
    "hyperparameter_ranges = {\n",
    "    \"penalty\": sagemaker.parameter.ContinuousParameter(0, 1),\n",
    "    \"kernel\": sagemaker.parameter.CategoricalParameter([\"rbf\", \"linear\", \"sigmoid\", \"poly\"]),\n",
    "    \"blocks\": sagemaker.parameter.IntegerParameter(1, 10),\n",
    "    \"filters\": sagemaker.parameter.IntegerParameter(4, 40),\n",
    "    \"kernel-size\": sagemaker.parameter.CategoricalParameter([3, 5, 7]),\n",
    "    \"reduced-size\": sagemaker.parameter.IntegerParameter(10, 20),\n",
    "    \"output-size\": sagemaker.parameter.IntegerParameter(20, 40),\n",
    "    \"negative-samples\": sagemaker.parameter.CategoricalParameter([1, 5, 10]),\n",
    "    \"lr\": sagemaker.parameter.ContinuousParameter(0.0001, 0.01),\n",
    "    \"batch-size\": sagemaker.parameter.CategoricalParameter([64, 128]),\n",
    "    \"epochs\": sagemaker.parameter.CategoricalParameter([100, 200]),\n",
    "}"
   ]
  },
  {
   "cell_type": "markdown",
   "metadata": {},
   "source": [
    "We use the validation accuracy as the objective to be maximized."
   ]
  },
  {
   "cell_type": "code",
   "execution_count": 50,
   "metadata": {
    "tags": []
   },
   "outputs": [],
   "source": [
    "objective_metric_name = \"valid_accuracy\""
   ]
  },
  {
   "cell_type": "code",
   "execution_count": 51,
   "metadata": {
    "tags": []
   },
   "outputs": [],
   "source": [
    "objective_type = \"Maximize\""
   ]
  },
  {
   "cell_type": "markdown",
   "metadata": {},
   "source": [
    "### C. Run a model tuning job"
   ]
  },
  {
   "cell_type": "markdown",
   "metadata": {},
   "source": [
    "In the interest of time, we run the tuner only for a few iterations. "
   ]
  },
  {
   "cell_type": "code",
   "execution_count": 52,
   "metadata": {
    "tags": []
   },
   "outputs": [],
   "source": [
    "tuner = sagemaker.tuner.HyperparameterTuner(\n",
    "    estimator=estimator,\n",
    "    base_tuning_job_name=\"cnn-svc-tuning\",\n",
    "    objective_metric_name=objective_metric_name,\n",
    "    objective_type=objective_type,\n",
    "    hyperparameter_ranges=hyperparameter_ranges,\n",
    "    max_jobs=8,\n",
    "    max_parallel_jobs=8,\n",
    "    random_seed=0,\n",
    ")"
   ]
  },
  {
   "cell_type": "code",
   "execution_count": 53,
   "metadata": {
    "tags": []
   },
   "outputs": [
    {
     "name": "stderr",
     "output_type": "stream",
     "text": [
      "INFO:sagemaker:Creating hyperparameter tuning job with name: cnn-svc-tuning-230813-1730\n"
     ]
    },
    {
     "name": "stdout",
     "output_type": "stream",
     "text": [
      "...................................................................................................................................................................................................................................................................................................................................................................................................................................!\n"
     ]
    }
   ],
   "source": [
    "tuner.fit({\"training\": training_data, \"validation\": validation_data})"
   ]
  },
  {
   "cell_type": "code",
   "execution_count": 54,
   "metadata": {
    "tags": []
   },
   "outputs": [
    {
     "data": {
      "text/html": [
       "<div>\n",
       "<style scoped>\n",
       "    .dataframe tbody tr th:only-of-type {\n",
       "        vertical-align: middle;\n",
       "    }\n",
       "\n",
       "    .dataframe tbody tr th {\n",
       "        vertical-align: top;\n",
       "    }\n",
       "\n",
       "    .dataframe thead th {\n",
       "        text-align: right;\n",
       "    }\n",
       "</style>\n",
       "<table border=\"1\" class=\"dataframe\">\n",
       "  <thead>\n",
       "    <tr style=\"text-align: right;\">\n",
       "      <th></th>\n",
       "      <th>batch-size</th>\n",
       "      <th>blocks</th>\n",
       "      <th>epochs</th>\n",
       "      <th>filters</th>\n",
       "      <th>kernel</th>\n",
       "      <th>kernel-size</th>\n",
       "      <th>lr</th>\n",
       "      <th>negative-samples</th>\n",
       "      <th>output-size</th>\n",
       "      <th>penalty</th>\n",
       "      <th>reduced-size</th>\n",
       "      <th>TrainingJobName</th>\n",
       "      <th>TrainingJobStatus</th>\n",
       "      <th>FinalObjectiveValue</th>\n",
       "      <th>TrainingStartTime</th>\n",
       "      <th>TrainingEndTime</th>\n",
       "      <th>TrainingElapsedTimeSeconds</th>\n",
       "    </tr>\n",
       "  </thead>\n",
       "  <tbody>\n",
       "    <tr>\n",
       "      <th>0</th>\n",
       "      <td>128.0</td>\n",
       "      <td>3.0</td>\n",
       "      <td>200.0</td>\n",
       "      <td>22.0</td>\n",
       "      <td>rbf</td>\n",
       "      <td>7.0</td>\n",
       "      <td>0.002576</td>\n",
       "      <td>5.0</td>\n",
       "      <td>28.0</td>\n",
       "      <td>0.195591</td>\n",
       "      <td>20.0</td>\n",
       "      <td>cnn-svc-tuning-230813-1730-006-fee6f6f8</td>\n",
       "      <td>Completed</td>\n",
       "      <td>1.00</td>\n",
       "      <td>2023-08-13 17:31:24+00:00</td>\n",
       "      <td>2023-08-13 17:51:30+00:00</td>\n",
       "      <td>1206.0</td>\n",
       "    </tr>\n",
       "    <tr>\n",
       "      <th>1</th>\n",
       "      <td>64.0</td>\n",
       "      <td>6.0</td>\n",
       "      <td>100.0</td>\n",
       "      <td>25.0</td>\n",
       "      <td>linear</td>\n",
       "      <td>5.0</td>\n",
       "      <td>0.000450</td>\n",
       "      <td>10.0</td>\n",
       "      <td>40.0</td>\n",
       "      <td>0.601620</td>\n",
       "      <td>14.0</td>\n",
       "      <td>cnn-svc-tuning-230813-1730-003-647b644c</td>\n",
       "      <td>Completed</td>\n",
       "      <td>0.98</td>\n",
       "      <td>2023-08-13 17:31:28+00:00</td>\n",
       "      <td>2023-08-13 18:02:42+00:00</td>\n",
       "      <td>1874.0</td>\n",
       "    </tr>\n",
       "    <tr>\n",
       "      <th>2</th>\n",
       "      <td>64.0</td>\n",
       "      <td>7.0</td>\n",
       "      <td>100.0</td>\n",
       "      <td>19.0</td>\n",
       "      <td>poly</td>\n",
       "      <td>3.0</td>\n",
       "      <td>0.000395</td>\n",
       "      <td>1.0</td>\n",
       "      <td>23.0</td>\n",
       "      <td>0.090827</td>\n",
       "      <td>14.0</td>\n",
       "      <td>cnn-svc-tuning-230813-1730-004-a8f39cd6</td>\n",
       "      <td>Completed</td>\n",
       "      <td>0.97</td>\n",
       "      <td>2023-08-13 17:31:24+00:00</td>\n",
       "      <td>2023-08-13 17:42:03+00:00</td>\n",
       "      <td>639.0</td>\n",
       "    </tr>\n",
       "    <tr>\n",
       "      <th>3</th>\n",
       "      <td>64.0</td>\n",
       "      <td>5.0</td>\n",
       "      <td>100.0</td>\n",
       "      <td>25.0</td>\n",
       "      <td>poly</td>\n",
       "      <td>3.0</td>\n",
       "      <td>0.007993</td>\n",
       "      <td>10.0</td>\n",
       "      <td>27.0</td>\n",
       "      <td>0.942624</td>\n",
       "      <td>19.0</td>\n",
       "      <td>cnn-svc-tuning-230813-1730-002-3d7b965f</td>\n",
       "      <td>Completed</td>\n",
       "      <td>0.97</td>\n",
       "      <td>2023-08-13 17:31:20+00:00</td>\n",
       "      <td>2023-08-13 17:54:12+00:00</td>\n",
       "      <td>1372.0</td>\n",
       "    </tr>\n",
       "    <tr>\n",
       "      <th>4</th>\n",
       "      <td>128.0</td>\n",
       "      <td>3.0</td>\n",
       "      <td>200.0</td>\n",
       "      <td>7.0</td>\n",
       "      <td>poly</td>\n",
       "      <td>5.0</td>\n",
       "      <td>0.004862</td>\n",
       "      <td>1.0</td>\n",
       "      <td>21.0</td>\n",
       "      <td>0.491501</td>\n",
       "      <td>15.0</td>\n",
       "      <td>cnn-svc-tuning-230813-1730-007-d3096aaf</td>\n",
       "      <td>Completed</td>\n",
       "      <td>0.96</td>\n",
       "      <td>2023-08-13 17:31:33+00:00</td>\n",
       "      <td>2023-08-13 17:41:47+00:00</td>\n",
       "      <td>614.0</td>\n",
       "    </tr>\n",
       "    <tr>\n",
       "      <th>5</th>\n",
       "      <td>64.0</td>\n",
       "      <td>3.0</td>\n",
       "      <td>100.0</td>\n",
       "      <td>24.0</td>\n",
       "      <td>sigmoid</td>\n",
       "      <td>3.0</td>\n",
       "      <td>0.000209</td>\n",
       "      <td>10.0</td>\n",
       "      <td>23.0</td>\n",
       "      <td>0.794160</td>\n",
       "      <td>15.0</td>\n",
       "      <td>cnn-svc-tuning-230813-1730-001-113a15db</td>\n",
       "      <td>Completed</td>\n",
       "      <td>0.95</td>\n",
       "      <td>2023-08-13 17:31:16+00:00</td>\n",
       "      <td>2023-08-13 17:47:16+00:00</td>\n",
       "      <td>960.0</td>\n",
       "    </tr>\n",
       "    <tr>\n",
       "      <th>6</th>\n",
       "      <td>64.0</td>\n",
       "      <td>9.0</td>\n",
       "      <td>100.0</td>\n",
       "      <td>8.0</td>\n",
       "      <td>poly</td>\n",
       "      <td>3.0</td>\n",
       "      <td>0.002512</td>\n",
       "      <td>5.0</td>\n",
       "      <td>29.0</td>\n",
       "      <td>0.516518</td>\n",
       "      <td>13.0</td>\n",
       "      <td>cnn-svc-tuning-230813-1730-005-b6bfd2c2</td>\n",
       "      <td>Completed</td>\n",
       "      <td>0.92</td>\n",
       "      <td>2023-08-13 17:31:28+00:00</td>\n",
       "      <td>2023-08-13 17:51:24+00:00</td>\n",
       "      <td>1196.0</td>\n",
       "    </tr>\n",
       "    <tr>\n",
       "      <th>7</th>\n",
       "      <td>128.0</td>\n",
       "      <td>8.0</td>\n",
       "      <td>100.0</td>\n",
       "      <td>8.0</td>\n",
       "      <td>sigmoid</td>\n",
       "      <td>7.0</td>\n",
       "      <td>0.000786</td>\n",
       "      <td>10.0</td>\n",
       "      <td>30.0</td>\n",
       "      <td>0.146805</td>\n",
       "      <td>16.0</td>\n",
       "      <td>cnn-svc-tuning-230813-1730-008-ca2e579e</td>\n",
       "      <td>Completed</td>\n",
       "      <td>0.64</td>\n",
       "      <td>2023-08-13 17:31:26+00:00</td>\n",
       "      <td>2023-08-13 18:04:51+00:00</td>\n",
       "      <td>2005.0</td>\n",
       "    </tr>\n",
       "  </tbody>\n",
       "</table>\n",
       "</div>"
      ],
      "text/plain": [
       "   batch-size  blocks  epochs  filters   kernel  kernel-size        lr   \n",
       "0       128.0     3.0   200.0     22.0      rbf          7.0  0.002576  \\\n",
       "1        64.0     6.0   100.0     25.0   linear          5.0  0.000450   \n",
       "2        64.0     7.0   100.0     19.0     poly          3.0  0.000395   \n",
       "3        64.0     5.0   100.0     25.0     poly          3.0  0.007993   \n",
       "4       128.0     3.0   200.0      7.0     poly          5.0  0.004862   \n",
       "5        64.0     3.0   100.0     24.0  sigmoid          3.0  0.000209   \n",
       "6        64.0     9.0   100.0      8.0     poly          3.0  0.002512   \n",
       "7       128.0     8.0   100.0      8.0  sigmoid          7.0  0.000786   \n",
       "\n",
       "   negative-samples  output-size   penalty  reduced-size   \n",
       "0               5.0         28.0  0.195591          20.0  \\\n",
       "1              10.0         40.0  0.601620          14.0   \n",
       "2               1.0         23.0  0.090827          14.0   \n",
       "3              10.0         27.0  0.942624          19.0   \n",
       "4               1.0         21.0  0.491501          15.0   \n",
       "5              10.0         23.0  0.794160          15.0   \n",
       "6               5.0         29.0  0.516518          13.0   \n",
       "7              10.0         30.0  0.146805          16.0   \n",
       "\n",
       "                           TrainingJobName TrainingJobStatus   \n",
       "0  cnn-svc-tuning-230813-1730-006-fee6f6f8         Completed  \\\n",
       "1  cnn-svc-tuning-230813-1730-003-647b644c         Completed   \n",
       "2  cnn-svc-tuning-230813-1730-004-a8f39cd6         Completed   \n",
       "3  cnn-svc-tuning-230813-1730-002-3d7b965f         Completed   \n",
       "4  cnn-svc-tuning-230813-1730-007-d3096aaf         Completed   \n",
       "5  cnn-svc-tuning-230813-1730-001-113a15db         Completed   \n",
       "6  cnn-svc-tuning-230813-1730-005-b6bfd2c2         Completed   \n",
       "7  cnn-svc-tuning-230813-1730-008-ca2e579e         Completed   \n",
       "\n",
       "   FinalObjectiveValue         TrainingStartTime           TrainingEndTime   \n",
       "0                 1.00 2023-08-13 17:31:24+00:00 2023-08-13 17:51:30+00:00  \\\n",
       "1                 0.98 2023-08-13 17:31:28+00:00 2023-08-13 18:02:42+00:00   \n",
       "2                 0.97 2023-08-13 17:31:24+00:00 2023-08-13 17:42:03+00:00   \n",
       "3                 0.97 2023-08-13 17:31:20+00:00 2023-08-13 17:54:12+00:00   \n",
       "4                 0.96 2023-08-13 17:31:33+00:00 2023-08-13 17:41:47+00:00   \n",
       "5                 0.95 2023-08-13 17:31:16+00:00 2023-08-13 17:47:16+00:00   \n",
       "6                 0.92 2023-08-13 17:31:28+00:00 2023-08-13 17:51:24+00:00   \n",
       "7                 0.64 2023-08-13 17:31:26+00:00 2023-08-13 18:04:51+00:00   \n",
       "\n",
       "   TrainingElapsedTimeSeconds  \n",
       "0                      1206.0  \n",
       "1                      1874.0  \n",
       "2                       639.0  \n",
       "3                      1372.0  \n",
       "4                       614.0  \n",
       "5                       960.0  \n",
       "6                      1196.0  \n",
       "7                      2005.0  "
      ]
     },
     "execution_count": 54,
     "metadata": {},
     "output_type": "execute_result"
    }
   ],
   "source": [
    "tuner.analytics().dataframe().sort_values(by=\"FinalObjectiveValue\", ascending=False, ignore_index=True)"
   ]
  },
  {
   "cell_type": "code",
   "execution_count": 55,
   "metadata": {
    "tags": []
   },
   "outputs": [],
   "source": [
    "tuning_job_result = sagemaker_session.sagemaker_client.describe_hyper_parameter_tuning_job(\n",
    "    HyperParameterTuningJobName=tuner.latest_tuning_job.name\n",
    ")"
   ]
  },
  {
   "cell_type": "code",
   "execution_count": 56,
   "metadata": {
    "tags": []
   },
   "outputs": [
    {
     "name": "stdout",
     "output_type": "stream",
     "text": [
      "Best hyperparameters:\n"
     ]
    },
    {
     "data": {
      "text/plain": [
       "{'batch-size': '128',\n",
       " 'blocks': '3',\n",
       " 'epochs': '200',\n",
       " 'filters': '22',\n",
       " 'kernel': 'rbf',\n",
       " 'kernel-size': '7',\n",
       " 'lr': '0.002576010911335757',\n",
       " 'negative-samples': '5',\n",
       " 'output-size': '28',\n",
       " 'penalty': '0.19559081520180632',\n",
       " 'reduced-size': '20'}"
      ]
     },
     "execution_count": 56,
     "metadata": {},
     "output_type": "execute_result"
    }
   ],
   "source": [
    "print(\"Best hyperparameters:\")\n",
    "tuning_job_result[\"BestTrainingJob\"][\"TunedHyperParameters\"]"
   ]
  },
  {
   "cell_type": "code",
   "execution_count": 57,
   "metadata": {
    "tags": []
   },
   "outputs": [
    {
     "name": "stdout",
     "output_type": "stream",
     "text": [
      "Best score:\n"
     ]
    },
    {
     "data": {
      "text/plain": [
       "1.0"
      ]
     },
     "execution_count": 57,
     "metadata": {},
     "output_type": "execute_result"
    }
   ],
   "source": [
    "print(\"Best score:\")\n",
    "tuning_job_result[\"BestTrainingJob\"][\"FinalHyperParameterTuningJobObjectiveMetric\"][\"Value\"]"
   ]
  },
  {
   "cell_type": "markdown",
   "metadata": {},
   "source": [
    "Once you have completed a tuning job (or even while the job is still running), you can [clone and use this notebook](https://github.com/awslabs/amazon-sagemaker-examples/blob/master/hyperparameter_tuning/analyze_results/HPO_Analyze_TuningJob_Results.ipynb) to analyze the results to understand how each hyperparameter effects the quality of the model."
   ]
  },
  {
   "cell_type": "markdown",
   "metadata": {},
   "source": [
    "## 6. Perform Batch inference"
   ]
  },
  {
   "cell_type": "markdown",
   "metadata": {},
   "source": [
    "In this section, you will perform batch inference."
   ]
  },
  {
   "cell_type": "code",
   "execution_count": 58,
   "metadata": {
    "tags": []
   },
   "outputs": [
    {
     "name": "stderr",
     "output_type": "stream",
     "text": [
      "INFO:sagemaker:Creating model package with name: cnn-svc-algo-v1-1-2023-08-13-18-05-55-693\n"
     ]
    },
    {
     "name": "stdout",
     "output_type": "stream",
     "text": [
      "........."
     ]
    },
    {
     "name": "stderr",
     "output_type": "stream",
     "text": [
      "INFO:sagemaker:Creating model with name: cnn-svc-algo-v1-1-2023-08-13-18-05-55-6-2023-08-13-18-06-41-117\n"
     ]
    },
    {
     "name": "stdout",
     "output_type": "stream",
     "text": [
      "\n"
     ]
    }
   ],
   "source": [
    "transformer = estimator.transformer(\n",
    "    instance_count=1,\n",
    "    instance_type=instance_type,\n",
    ")"
   ]
  },
  {
   "cell_type": "code",
   "execution_count": 59,
   "metadata": {
    "tags": []
   },
   "outputs": [],
   "source": [
    "transformer.base_transform_job_name = \"cnn-svc-transform\""
   ]
  },
  {
   "cell_type": "code",
   "execution_count": 60,
   "metadata": {
    "tags": []
   },
   "outputs": [
    {
     "name": "stderr",
     "output_type": "stream",
     "text": [
      "INFO:sagemaker:Creating transform job with name: cnn-svc-transform-2023-08-13-18-06-41-933\n"
     ]
    },
    {
     "name": "stdout",
     "output_type": "stream",
     "text": [
      ".........................................\u001b[34mWarning: TorchServe is using non-default JVM parameters: -XX:-UseContainerSupport\u001b[0m\n",
      "\u001b[34mWARNING: sun.reflect.Reflection.getCallerClass is not supported. This will impact performance.\u001b[0m\n",
      "\u001b[34m2023-08-13T18:13:30,747 [INFO ] main org.pytorch.serve.servingsdk.impl.PluginsManager - Initializing plugins manager...\u001b[0m\n",
      "\u001b[34m2023-08-13T18:13:30,804 [INFO ] main org.pytorch.serve.metrics.configuration.MetricConfiguration - Successfully loaded metrics configuration from /opt/conda/lib/python3.10/site-packages/ts/configs/metrics.yaml\u001b[0m\n",
      "\u001b[34m2023-08-13T18:13:30,899 [INFO ] main org.pytorch.serve.ModelServer - \u001b[0m\n",
      "\u001b[34mTorchserve version: 0.8.1\u001b[0m\n",
      "\u001b[34mTS Home: /opt/conda/lib/python3.10/site-packages\u001b[0m\n",
      "\u001b[34mCurrent directory: /\u001b[0m\n",
      "\u001b[34mTemp directory: /home/model-server/tmp\u001b[0m\n",
      "\u001b[34mMetrics config path: /opt/conda/lib/python3.10/site-packages/ts/configs/metrics.yaml\u001b[0m\n",
      "\u001b[34mNumber of GPUs: 0\u001b[0m\n",
      "\u001b[34mNumber of CPUs: 8\u001b[0m\n",
      "\u001b[34mMax heap size: 7840 M\u001b[0m\n",
      "\u001b[34mPython executable: /opt/conda/bin/python3.10\u001b[0m\n",
      "\u001b[34mConfig file: /etc/sagemaker-ts.properties\u001b[0m\n",
      "\u001b[34mInference address: http://0.0.0.0:8080\u001b[0m\n",
      "\u001b[34mManagement address: http://0.0.0.0:8080\u001b[0m\n",
      "\u001b[34mMetrics address: http://127.0.0.1:8082\u001b[0m\n",
      "\u001b[34mModel Store: /.sagemaker/ts/models\u001b[0m\n",
      "\u001b[34mInitial Models: model=/opt/ml/model\u001b[0m\n",
      "\u001b[35mWarning: TorchServe is using non-default JVM parameters: -XX:-UseContainerSupport\u001b[0m\n",
      "\u001b[35mWARNING: sun.reflect.Reflection.getCallerClass is not supported. This will impact performance.\u001b[0m\n",
      "\u001b[35m2023-08-13T18:13:30,747 [INFO ] main org.pytorch.serve.servingsdk.impl.PluginsManager - Initializing plugins manager...\u001b[0m\n",
      "\u001b[35m2023-08-13T18:13:30,804 [INFO ] main org.pytorch.serve.metrics.configuration.MetricConfiguration - Successfully loaded metrics configuration from /opt/conda/lib/python3.10/site-packages/ts/configs/metrics.yaml\u001b[0m\n",
      "\u001b[35m2023-08-13T18:13:30,899 [INFO ] main org.pytorch.serve.ModelServer - \u001b[0m\n",
      "\u001b[35mTorchserve version: 0.8.1\u001b[0m\n",
      "\u001b[35mTS Home: /opt/conda/lib/python3.10/site-packages\u001b[0m\n",
      "\u001b[35mCurrent directory: /\u001b[0m\n",
      "\u001b[35mTemp directory: /home/model-server/tmp\u001b[0m\n",
      "\u001b[35mMetrics config path: /opt/conda/lib/python3.10/site-packages/ts/configs/metrics.yaml\u001b[0m\n",
      "\u001b[35mNumber of GPUs: 0\u001b[0m\n",
      "\u001b[35mNumber of CPUs: 8\u001b[0m\n",
      "\u001b[35mMax heap size: 7840 M\u001b[0m\n",
      "\u001b[35mPython executable: /opt/conda/bin/python3.10\u001b[0m\n",
      "\u001b[35mConfig file: /etc/sagemaker-ts.properties\u001b[0m\n",
      "\u001b[35mInference address: http://0.0.0.0:8080\u001b[0m\n",
      "\u001b[35mManagement address: http://0.0.0.0:8080\u001b[0m\n",
      "\u001b[35mMetrics address: http://127.0.0.1:8082\u001b[0m\n",
      "\u001b[35mModel Store: /.sagemaker/ts/models\u001b[0m\n",
      "\u001b[35mInitial Models: model=/opt/ml/model\u001b[0m\n",
      "\u001b[34mLog dir: /logs\u001b[0m\n",
      "\u001b[34mMetrics dir: /logs\u001b[0m\n",
      "\u001b[34mNetty threads: 0\u001b[0m\n",
      "\u001b[34mNetty client threads: 0\u001b[0m\n",
      "\u001b[34mDefault workers per model: 8\u001b[0m\n",
      "\u001b[34mBlacklist Regex: N/A\u001b[0m\n",
      "\u001b[34mMaximum Response Size: 6553500\u001b[0m\n",
      "\u001b[34mMaximum Request Size: 6553500\u001b[0m\n",
      "\u001b[34mLimit Maximum Image Pixels: true\u001b[0m\n",
      "\u001b[34mPrefer direct buffer: false\u001b[0m\n",
      "\u001b[34mAllowed Urls: [file://.*|http(s)?://.*]\u001b[0m\n",
      "\u001b[34mCustom python dependency for model allowed: false\u001b[0m\n",
      "\u001b[34mEnable metrics API: true\u001b[0m\n",
      "\u001b[34mMetrics mode: log\u001b[0m\n",
      "\u001b[34mDisable system metrics: true\u001b[0m\n",
      "\u001b[34mWorkflow Store: /.sagemaker/ts/models\u001b[0m\n",
      "\u001b[34mModel config: N/A\u001b[0m\n",
      "\u001b[34m2023-08-13T18:13:30,906 [INFO ] main org.pytorch.serve.servingsdk.impl.PluginsManager -  Loading snapshot serializer plugin...\u001b[0m\n",
      "\u001b[34m2023-08-13T18:13:30,925 [INFO ] main org.pytorch.serve.ModelServer - Loading initial models: /opt/ml/model\u001b[0m\n",
      "\u001b[34m2023-08-13T18:13:30,928 [WARN ] main org.pytorch.serve.archive.model.ModelArchive - Model archive version is not defined. Please upgrade to torch-model-archiver 0.2.0 or higher\u001b[0m\n",
      "\u001b[34m2023-08-13T18:13:30,928 [WARN ] main org.pytorch.serve.archive.model.ModelArchive - Model archive createdOn is not defined. Please upgrade to torch-model-archiver 0.2.0 or higher\u001b[0m\n",
      "\u001b[34m2023-08-13T18:13:30,930 [INFO ] main org.pytorch.serve.wlm.ModelManager - Model model loaded.\u001b[0m\n",
      "\u001b[34m2023-08-13T18:13:30,942 [INFO ] main org.pytorch.serve.ModelServer - Initialize Inference server with: EpollServerSocketChannel.\u001b[0m\n",
      "\u001b[34m2023-08-13T18:13:31,203 [INFO ] main org.pytorch.serve.ModelServer - Inference API bind to: http://0.0.0.0:8080\u001b[0m\n",
      "\u001b[34m2023-08-13T18:13:31,204 [INFO ] main org.pytorch.serve.ModelServer - Initialize Metrics server with: EpollServerSocketChannel.\u001b[0m\n",
      "\u001b[34m2023-08-13T18:13:31,242 [INFO ] main org.pytorch.serve.ModelServer - Metrics API bind to: http://127.0.0.1:8082\u001b[0m\n",
      "\u001b[34mModel server started.\u001b[0m\n",
      "\u001b[35mLog dir: /logs\u001b[0m\n",
      "\u001b[35mMetrics dir: /logs\u001b[0m\n",
      "\u001b[35mNetty threads: 0\u001b[0m\n",
      "\u001b[35mNetty client threads: 0\u001b[0m\n",
      "\u001b[35mDefault workers per model: 8\u001b[0m\n",
      "\u001b[35mBlacklist Regex: N/A\u001b[0m\n",
      "\u001b[35mMaximum Response Size: 6553500\u001b[0m\n",
      "\u001b[35mMaximum Request Size: 6553500\u001b[0m\n",
      "\u001b[35mLimit Maximum Image Pixels: true\u001b[0m\n",
      "\u001b[35mPrefer direct buffer: false\u001b[0m\n",
      "\u001b[35mAllowed Urls: [file://.*|http(s)?://.*]\u001b[0m\n",
      "\u001b[35mCustom python dependency for model allowed: false\u001b[0m\n",
      "\u001b[35mEnable metrics API: true\u001b[0m\n",
      "\u001b[35mMetrics mode: log\u001b[0m\n",
      "\u001b[35mDisable system metrics: true\u001b[0m\n",
      "\u001b[35mWorkflow Store: /.sagemaker/ts/models\u001b[0m\n",
      "\u001b[35mModel config: N/A\u001b[0m\n",
      "\u001b[35m2023-08-13T18:13:30,906 [INFO ] main org.pytorch.serve.servingsdk.impl.PluginsManager -  Loading snapshot serializer plugin...\u001b[0m\n",
      "\u001b[35m2023-08-13T18:13:30,925 [INFO ] main org.pytorch.serve.ModelServer - Loading initial models: /opt/ml/model\u001b[0m\n",
      "\u001b[35m2023-08-13T18:13:30,928 [WARN ] main org.pytorch.serve.archive.model.ModelArchive - Model archive version is not defined. Please upgrade to torch-model-archiver 0.2.0 or higher\u001b[0m\n",
      "\u001b[35m2023-08-13T18:13:30,928 [WARN ] main org.pytorch.serve.archive.model.ModelArchive - Model archive createdOn is not defined. Please upgrade to torch-model-archiver 0.2.0 or higher\u001b[0m\n",
      "\u001b[35m2023-08-13T18:13:30,930 [INFO ] main org.pytorch.serve.wlm.ModelManager - Model model loaded.\u001b[0m\n",
      "\u001b[35m2023-08-13T18:13:30,942 [INFO ] main org.pytorch.serve.ModelServer - Initialize Inference server with: EpollServerSocketChannel.\u001b[0m\n",
      "\u001b[35m2023-08-13T18:13:31,203 [INFO ] main org.pytorch.serve.ModelServer - Inference API bind to: http://0.0.0.0:8080\u001b[0m\n",
      "\u001b[35m2023-08-13T18:13:31,204 [INFO ] main org.pytorch.serve.ModelServer - Initialize Metrics server with: EpollServerSocketChannel.\u001b[0m\n",
      "\u001b[35m2023-08-13T18:13:31,242 [INFO ] main org.pytorch.serve.ModelServer - Metrics API bind to: http://127.0.0.1:8082\u001b[0m\n",
      "\u001b[35mModel server started.\u001b[0m\n",
      "\u001b[34m2023-08-13T18:13:33,404 [INFO ] W-9002-model_1.0-stdout MODEL_LOG - s_name_part0=/home/model-server/tmp/.ts.sock, s_name_part1=9002, pid=67\u001b[0m\n",
      "\u001b[34m2023-08-13T18:13:33,407 [INFO ] W-9002-model_1.0-stdout MODEL_LOG - Listening on port: /home/model-server/tmp/.ts.sock.9002\u001b[0m\n",
      "\u001b[34m2023-08-13T18:13:33,423 [INFO ] W-9002-model_1.0-stdout MODEL_LOG - Successfully loaded /opt/conda/lib/python3.10/site-packages/ts/configs/metrics.yaml.\u001b[0m\n",
      "\u001b[34m2023-08-13T18:13:33,423 [INFO ] W-9002-model_1.0-stdout MODEL_LOG - [PID]67\u001b[0m\n",
      "\u001b[34m2023-08-13T18:13:33,424 [INFO ] W-9002-model_1.0-stdout MODEL_LOG - Torch worker started.\u001b[0m\n",
      "\u001b[34m2023-08-13T18:13:33,425 [INFO ] W-9002-model_1.0-stdout MODEL_LOG - Python runtime: 3.10.9\u001b[0m\n",
      "\u001b[34m2023-08-13T18:13:33,432 [INFO ] W-9004-model_1.0-stdout MODEL_LOG - s_name_part0=/home/model-server/tmp/.ts.sock, s_name_part1=9004, pid=69\u001b[0m\n",
      "\u001b[34m2023-08-13T18:13:33,433 [INFO ] W-9004-model_1.0-stdout MODEL_LOG - Listening on port: /home/model-server/tmp/.ts.sock.9004\u001b[0m\n",
      "\u001b[34m2023-08-13T18:13:33,441 [INFO ] W-9002-model_1.0 org.pytorch.serve.wlm.WorkerThread - Connecting to: /home/model-server/tmp/.ts.sock.9002\u001b[0m\n",
      "\u001b[34m2023-08-13T18:13:33,462 [INFO ] W-9002-model_1.0-stdout MODEL_LOG - Connection accepted: /home/model-server/tmp/.ts.sock.9002.\u001b[0m\n",
      "\u001b[34m2023-08-13T18:13:33,467 [INFO ] W-9002-model_1.0 org.pytorch.serve.wlm.WorkerThread - Flushing req.cmd LOAD to backend at: 1691950413467\u001b[0m\n",
      "\u001b[34m2023-08-13T18:13:33,474 [INFO ] W-9004-model_1.0-stdout MODEL_LOG - Successfully loaded /opt/conda/lib/python3.10/site-packages/ts/configs/metrics.yaml.\u001b[0m\n",
      "\u001b[34m2023-08-13T18:13:33,474 [INFO ] W-9004-model_1.0-stdout MODEL_LOG - [PID]69\u001b[0m\n",
      "\u001b[34m2023-08-13T18:13:33,475 [INFO ] W-9004-model_1.0-stdout MODEL_LOG - Torch worker started.\u001b[0m\n",
      "\u001b[34m2023-08-13T18:13:33,475 [INFO ] W-9004-model_1.0 org.pytorch.serve.wlm.WorkerThread - Connecting to: /home/model-server/tmp/.ts.sock.9004\u001b[0m\n",
      "\u001b[34m2023-08-13T18:13:33,476 [INFO ] W-9004-model_1.0-stdout MODEL_LOG - Python runtime: 3.10.9\u001b[0m\n",
      "\u001b[34m2023-08-13T18:13:33,490 [INFO ] W-9004-model_1.0-stdout MODEL_LOG - Connection accepted: /home/model-server/tmp/.ts.sock.9004.\u001b[0m\n",
      "\u001b[34m2023-08-13T18:13:33,490 [INFO ] W-9004-model_1.0 org.pytorch.serve.wlm.WorkerThread - Flushing req.cmd LOAD to backend at: 1691950413490\u001b[0m\n",
      "\u001b[34m2023-08-13T18:13:33,522 [INFO ] W-9002-model_1.0-stdout MODEL_LOG - model_name: model, batchSize: 1\u001b[0m\n",
      "\u001b[34m2023-08-13T18:13:33,533 [INFO ] W-9004-model_1.0-stdout MODEL_LOG - model_name: model, batchSize: 1\u001b[0m\n",
      "\u001b[34m2023-08-13T18:13:33,545 [INFO ] W-9007-model_1.0-stdout MODEL_LOG - s_name_part0=/home/model-server/tmp/.ts.sock, s_name_part1=9007, pid=64\u001b[0m\n",
      "\u001b[34m2023-08-13T18:13:33,547 [INFO ] W-9007-model_1.0-stdout MODEL_LOG - Listening on port: /home/model-server/tmp/.ts.sock.9007\u001b[0m\n",
      "\u001b[34m2023-08-13T18:13:33,562 [INFO ] W-9007-model_1.0-stdout MODEL_LOG - Successfully loaded /opt/conda/lib/python3.10/site-packages/ts/configs/metrics.yaml.\u001b[0m\n",
      "\u001b[34m2023-08-13T18:13:33,562 [INFO ] W-9007-model_1.0-stdout MODEL_LOG - [PID]64\u001b[0m\n",
      "\u001b[35m2023-08-13T18:13:33,404 [INFO ] W-9002-model_1.0-stdout MODEL_LOG - s_name_part0=/home/model-server/tmp/.ts.sock, s_name_part1=9002, pid=67\u001b[0m\n",
      "\u001b[35m2023-08-13T18:13:33,407 [INFO ] W-9002-model_1.0-stdout MODEL_LOG - Listening on port: /home/model-server/tmp/.ts.sock.9002\u001b[0m\n",
      "\u001b[35m2023-08-13T18:13:33,423 [INFO ] W-9002-model_1.0-stdout MODEL_LOG - Successfully loaded /opt/conda/lib/python3.10/site-packages/ts/configs/metrics.yaml.\u001b[0m\n",
      "\u001b[35m2023-08-13T18:13:33,423 [INFO ] W-9002-model_1.0-stdout MODEL_LOG - [PID]67\u001b[0m\n",
      "\u001b[35m2023-08-13T18:13:33,424 [INFO ] W-9002-model_1.0-stdout MODEL_LOG - Torch worker started.\u001b[0m\n",
      "\u001b[35m2023-08-13T18:13:33,425 [INFO ] W-9002-model_1.0-stdout MODEL_LOG - Python runtime: 3.10.9\u001b[0m\n",
      "\u001b[35m2023-08-13T18:13:33,432 [INFO ] W-9004-model_1.0-stdout MODEL_LOG - s_name_part0=/home/model-server/tmp/.ts.sock, s_name_part1=9004, pid=69\u001b[0m\n",
      "\u001b[35m2023-08-13T18:13:33,433 [INFO ] W-9004-model_1.0-stdout MODEL_LOG - Listening on port: /home/model-server/tmp/.ts.sock.9004\u001b[0m\n",
      "\u001b[35m2023-08-13T18:13:33,441 [INFO ] W-9002-model_1.0 org.pytorch.serve.wlm.WorkerThread - Connecting to: /home/model-server/tmp/.ts.sock.9002\u001b[0m\n",
      "\u001b[35m2023-08-13T18:13:33,462 [INFO ] W-9002-model_1.0-stdout MODEL_LOG - Connection accepted: /home/model-server/tmp/.ts.sock.9002.\u001b[0m\n",
      "\u001b[35m2023-08-13T18:13:33,467 [INFO ] W-9002-model_1.0 org.pytorch.serve.wlm.WorkerThread - Flushing req.cmd LOAD to backend at: 1691950413467\u001b[0m\n",
      "\u001b[35m2023-08-13T18:13:33,474 [INFO ] W-9004-model_1.0-stdout MODEL_LOG - Successfully loaded /opt/conda/lib/python3.10/site-packages/ts/configs/metrics.yaml.\u001b[0m\n",
      "\u001b[35m2023-08-13T18:13:33,474 [INFO ] W-9004-model_1.0-stdout MODEL_LOG - [PID]69\u001b[0m\n",
      "\u001b[35m2023-08-13T18:13:33,475 [INFO ] W-9004-model_1.0-stdout MODEL_LOG - Torch worker started.\u001b[0m\n",
      "\u001b[35m2023-08-13T18:13:33,475 [INFO ] W-9004-model_1.0 org.pytorch.serve.wlm.WorkerThread - Connecting to: /home/model-server/tmp/.ts.sock.9004\u001b[0m\n",
      "\u001b[35m2023-08-13T18:13:33,476 [INFO ] W-9004-model_1.0-stdout MODEL_LOG - Python runtime: 3.10.9\u001b[0m\n",
      "\u001b[35m2023-08-13T18:13:33,490 [INFO ] W-9004-model_1.0-stdout MODEL_LOG - Connection accepted: /home/model-server/tmp/.ts.sock.9004.\u001b[0m\n",
      "\u001b[35m2023-08-13T18:13:33,490 [INFO ] W-9004-model_1.0 org.pytorch.serve.wlm.WorkerThread - Flushing req.cmd LOAD to backend at: 1691950413490\u001b[0m\n",
      "\u001b[35m2023-08-13T18:13:33,522 [INFO ] W-9002-model_1.0-stdout MODEL_LOG - model_name: model, batchSize: 1\u001b[0m\n",
      "\u001b[35m2023-08-13T18:13:33,533 [INFO ] W-9004-model_1.0-stdout MODEL_LOG - model_name: model, batchSize: 1\u001b[0m\n",
      "\u001b[35m2023-08-13T18:13:33,545 [INFO ] W-9007-model_1.0-stdout MODEL_LOG - s_name_part0=/home/model-server/tmp/.ts.sock, s_name_part1=9007, pid=64\u001b[0m\n",
      "\u001b[35m2023-08-13T18:13:33,547 [INFO ] W-9007-model_1.0-stdout MODEL_LOG - Listening on port: /home/model-server/tmp/.ts.sock.9007\u001b[0m\n",
      "\u001b[35m2023-08-13T18:13:33,562 [INFO ] W-9007-model_1.0-stdout MODEL_LOG - Successfully loaded /opt/conda/lib/python3.10/site-packages/ts/configs/metrics.yaml.\u001b[0m\n",
      "\u001b[35m2023-08-13T18:13:33,562 [INFO ] W-9007-model_1.0-stdout MODEL_LOG - [PID]64\u001b[0m\n",
      "\u001b[34m2023-08-13T18:13:33,563 [INFO ] W-9007-model_1.0-stdout MODEL_LOG - Torch worker started.\u001b[0m\n",
      "\u001b[34m2023-08-13T18:13:33,563 [INFO ] W-9007-model_1.0 org.pytorch.serve.wlm.WorkerThread - Connecting to: /home/model-server/tmp/.ts.sock.9007\u001b[0m\n",
      "\u001b[34m2023-08-13T18:13:33,564 [INFO ] W-9007-model_1.0-stdout MODEL_LOG - Python runtime: 3.10.9\u001b[0m\n",
      "\u001b[35m2023-08-13T18:13:33,563 [INFO ] W-9007-model_1.0-stdout MODEL_LOG - Torch worker started.\u001b[0m\n",
      "\u001b[35m2023-08-13T18:13:33,563 [INFO ] W-9007-model_1.0 org.pytorch.serve.wlm.WorkerThread - Connecting to: /home/model-server/tmp/.ts.sock.9007\u001b[0m\n",
      "\u001b[35m2023-08-13T18:13:33,564 [INFO ] W-9007-model_1.0-stdout MODEL_LOG - Python runtime: 3.10.9\u001b[0m\n",
      "\u001b[34m2023-08-13T18:13:33,579 [INFO ] W-9007-model_1.0-stdout MODEL_LOG - Connection accepted: /home/model-server/tmp/.ts.sock.9007.\u001b[0m\n",
      "\u001b[34m2023-08-13T18:13:33,579 [INFO ] W-9007-model_1.0 org.pytorch.serve.wlm.WorkerThread - Flushing req.cmd LOAD to backend at: 1691950413579\u001b[0m\n",
      "\u001b[34m2023-08-13T18:13:33,601 [INFO ] W-9005-model_1.0-stdout MODEL_LOG - s_name_part0=/home/model-server/tmp/.ts.sock, s_name_part1=9005, pid=63\u001b[0m\n",
      "\u001b[34m2023-08-13T18:13:33,602 [INFO ] W-9005-model_1.0-stdout MODEL_LOG - Listening on port: /home/model-server/tmp/.ts.sock.9005\u001b[0m\n",
      "\u001b[34m2023-08-13T18:13:33,618 [INFO ] W-9007-model_1.0-stdout MODEL_LOG - model_name: model, batchSize: 1\u001b[0m\n",
      "\u001b[34m2023-08-13T18:13:33,628 [INFO ] W-9005-model_1.0-stdout MODEL_LOG - Successfully loaded /opt/conda/lib/python3.10/site-packages/ts/configs/metrics.yaml.\u001b[0m\n",
      "\u001b[34m2023-08-13T18:13:33,629 [INFO ] W-9005-model_1.0-stdout MODEL_LOG - [PID]63\u001b[0m\n",
      "\u001b[34m2023-08-13T18:13:33,629 [INFO ] W-9005-model_1.0-stdout MODEL_LOG - Torch worker started.\u001b[0m\n",
      "\u001b[34m2023-08-13T18:13:33,630 [INFO ] W-9005-model_1.0 org.pytorch.serve.wlm.WorkerThread - Connecting to: /home/model-server/tmp/.ts.sock.9005\u001b[0m\n",
      "\u001b[34m2023-08-13T18:13:33,631 [INFO ] W-9005-model_1.0-stdout MODEL_LOG - Python runtime: 3.10.9\u001b[0m\n",
      "\u001b[34m2023-08-13T18:13:33,648 [INFO ] W-9005-model_1.0-stdout MODEL_LOG - Connection accepted: /home/model-server/tmp/.ts.sock.9005.\u001b[0m\n",
      "\u001b[34m2023-08-13T18:13:33,648 [INFO ] W-9005-model_1.0 org.pytorch.serve.wlm.WorkerThread - Flushing req.cmd LOAD to backend at: 1691950413648\u001b[0m\n",
      "\u001b[34m2023-08-13T18:13:33,727 [INFO ] W-9005-model_1.0-stdout MODEL_LOG - model_name: model, batchSize: 1\u001b[0m\n",
      "\u001b[34m2023-08-13T18:13:33,790 [INFO ] W-9000-model_1.0-stdout MODEL_LOG - s_name_part0=/home/model-server/tmp/.ts.sock, s_name_part1=9000, pid=62\u001b[0m\n",
      "\u001b[34m2023-08-13T18:13:33,791 [INFO ] W-9000-model_1.0-stdout MODEL_LOG - Listening on port: /home/model-server/tmp/.ts.sock.9000\u001b[0m\n",
      "\u001b[34m2023-08-13T18:13:33,830 [INFO ] W-9000-model_1.0-stdout MODEL_LOG - Successfully loaded /opt/conda/lib/python3.10/site-packages/ts/configs/metrics.yaml.\u001b[0m\n",
      "\u001b[34m2023-08-13T18:13:33,831 [INFO ] W-9000-model_1.0-stdout MODEL_LOG - [PID]62\u001b[0m\n",
      "\u001b[34m2023-08-13T18:13:33,831 [INFO ] W-9000-model_1.0-stdout MODEL_LOG - Torch worker started.\u001b[0m\n",
      "\u001b[34m2023-08-13T18:13:33,832 [INFO ] W-9000-model_1.0-stdout MODEL_LOG - Python runtime: 3.10.9\u001b[0m\n",
      "\u001b[34m2023-08-13T18:13:33,831 [INFO ] W-9000-model_1.0 org.pytorch.serve.wlm.WorkerThread - Connecting to: /home/model-server/tmp/.ts.sock.9000\u001b[0m\n",
      "\u001b[34m2023-08-13T18:13:33,847 [INFO ] W-9000-model_1.0-stdout MODEL_LOG - Connection accepted: /home/model-server/tmp/.ts.sock.9000.\u001b[0m\n",
      "\u001b[34m2023-08-13T18:13:33,847 [INFO ] W-9000-model_1.0 org.pytorch.serve.wlm.WorkerThread - Flushing req.cmd LOAD to backend at: 1691950413847\u001b[0m\n",
      "\u001b[34m2023-08-13T18:13:33,902 [INFO ] W-9000-model_1.0-stdout MODEL_LOG - model_name: model, batchSize: 1\u001b[0m\n",
      "\u001b[34m2023-08-13T18:13:33,973 [INFO ] W-9006-model_1.0-stdout MODEL_LOG - s_name_part0=/home/model-server/tmp/.ts.sock, s_name_part1=9006, pid=66\u001b[0m\n",
      "\u001b[35m2023-08-13T18:13:33,579 [INFO ] W-9007-model_1.0-stdout MODEL_LOG - Connection accepted: /home/model-server/tmp/.ts.sock.9007.\u001b[0m\n",
      "\u001b[35m2023-08-13T18:13:33,579 [INFO ] W-9007-model_1.0 org.pytorch.serve.wlm.WorkerThread - Flushing req.cmd LOAD to backend at: 1691950413579\u001b[0m\n",
      "\u001b[35m2023-08-13T18:13:33,601 [INFO ] W-9005-model_1.0-stdout MODEL_LOG - s_name_part0=/home/model-server/tmp/.ts.sock, s_name_part1=9005, pid=63\u001b[0m\n",
      "\u001b[35m2023-08-13T18:13:33,602 [INFO ] W-9005-model_1.0-stdout MODEL_LOG - Listening on port: /home/model-server/tmp/.ts.sock.9005\u001b[0m\n",
      "\u001b[35m2023-08-13T18:13:33,618 [INFO ] W-9007-model_1.0-stdout MODEL_LOG - model_name: model, batchSize: 1\u001b[0m\n",
      "\u001b[35m2023-08-13T18:13:33,628 [INFO ] W-9005-model_1.0-stdout MODEL_LOG - Successfully loaded /opt/conda/lib/python3.10/site-packages/ts/configs/metrics.yaml.\u001b[0m\n",
      "\u001b[35m2023-08-13T18:13:33,629 [INFO ] W-9005-model_1.0-stdout MODEL_LOG - [PID]63\u001b[0m\n",
      "\u001b[35m2023-08-13T18:13:33,629 [INFO ] W-9005-model_1.0-stdout MODEL_LOG - Torch worker started.\u001b[0m\n",
      "\u001b[35m2023-08-13T18:13:33,630 [INFO ] W-9005-model_1.0 org.pytorch.serve.wlm.WorkerThread - Connecting to: /home/model-server/tmp/.ts.sock.9005\u001b[0m\n",
      "\u001b[35m2023-08-13T18:13:33,631 [INFO ] W-9005-model_1.0-stdout MODEL_LOG - Python runtime: 3.10.9\u001b[0m\n",
      "\u001b[35m2023-08-13T18:13:33,648 [INFO ] W-9005-model_1.0-stdout MODEL_LOG - Connection accepted: /home/model-server/tmp/.ts.sock.9005.\u001b[0m\n",
      "\u001b[35m2023-08-13T18:13:33,648 [INFO ] W-9005-model_1.0 org.pytorch.serve.wlm.WorkerThread - Flushing req.cmd LOAD to backend at: 1691950413648\u001b[0m\n",
      "\u001b[35m2023-08-13T18:13:33,727 [INFO ] W-9005-model_1.0-stdout MODEL_LOG - model_name: model, batchSize: 1\u001b[0m\n",
      "\u001b[35m2023-08-13T18:13:33,790 [INFO ] W-9000-model_1.0-stdout MODEL_LOG - s_name_part0=/home/model-server/tmp/.ts.sock, s_name_part1=9000, pid=62\u001b[0m\n",
      "\u001b[35m2023-08-13T18:13:33,791 [INFO ] W-9000-model_1.0-stdout MODEL_LOG - Listening on port: /home/model-server/tmp/.ts.sock.9000\u001b[0m\n",
      "\u001b[35m2023-08-13T18:13:33,830 [INFO ] W-9000-model_1.0-stdout MODEL_LOG - Successfully loaded /opt/conda/lib/python3.10/site-packages/ts/configs/metrics.yaml.\u001b[0m\n",
      "\u001b[35m2023-08-13T18:13:33,831 [INFO ] W-9000-model_1.0-stdout MODEL_LOG - [PID]62\u001b[0m\n",
      "\u001b[35m2023-08-13T18:13:33,831 [INFO ] W-9000-model_1.0-stdout MODEL_LOG - Torch worker started.\u001b[0m\n",
      "\u001b[35m2023-08-13T18:13:33,832 [INFO ] W-9000-model_1.0-stdout MODEL_LOG - Python runtime: 3.10.9\u001b[0m\n",
      "\u001b[35m2023-08-13T18:13:33,831 [INFO ] W-9000-model_1.0 org.pytorch.serve.wlm.WorkerThread - Connecting to: /home/model-server/tmp/.ts.sock.9000\u001b[0m\n",
      "\u001b[35m2023-08-13T18:13:33,847 [INFO ] W-9000-model_1.0-stdout MODEL_LOG - Connection accepted: /home/model-server/tmp/.ts.sock.9000.\u001b[0m\n",
      "\u001b[35m2023-08-13T18:13:33,847 [INFO ] W-9000-model_1.0 org.pytorch.serve.wlm.WorkerThread - Flushing req.cmd LOAD to backend at: 1691950413847\u001b[0m\n",
      "\u001b[35m2023-08-13T18:13:33,902 [INFO ] W-9000-model_1.0-stdout MODEL_LOG - model_name: model, batchSize: 1\u001b[0m\n",
      "\u001b[35m2023-08-13T18:13:33,973 [INFO ] W-9006-model_1.0-stdout MODEL_LOG - s_name_part0=/home/model-server/tmp/.ts.sock, s_name_part1=9006, pid=66\u001b[0m\n",
      "\u001b[34m2023-08-13T18:13:33,974 [INFO ] W-9006-model_1.0-stdout MODEL_LOG - Listening on port: /home/model-server/tmp/.ts.sock.9006\u001b[0m\n",
      "\u001b[34m2023-08-13T18:13:33,990 [INFO ] W-9006-model_1.0-stdout MODEL_LOG - Successfully loaded /opt/conda/lib/python3.10/site-packages/ts/configs/metrics.yaml.\u001b[0m\n",
      "\u001b[34m2023-08-13T18:13:33,999 [INFO ] W-9006-model_1.0-stdout MODEL_LOG - [PID]66\u001b[0m\n",
      "\u001b[34m2023-08-13T18:13:33,999 [INFO ] W-9006-model_1.0-stdout MODEL_LOG - Torch worker started.\u001b[0m\n",
      "\u001b[34m2023-08-13T18:13:34,000 [INFO ] W-9006-model_1.0 org.pytorch.serve.wlm.WorkerThread - Connecting to: /home/model-server/tmp/.ts.sock.9006\u001b[0m\n",
      "\u001b[34m2023-08-13T18:13:34,001 [INFO ] W-9006-model_1.0-stdout MODEL_LOG - Python runtime: 3.10.9\u001b[0m\n",
      "\u001b[34m2023-08-13T18:13:34,002 [INFO ] W-9006-model_1.0 org.pytorch.serve.wlm.WorkerThread - Flushing req.cmd LOAD to backend at: 1691950414002\u001b[0m\n",
      "\u001b[34m2023-08-13T18:13:34,014 [INFO ] W-9006-model_1.0-stdout MODEL_LOG - Connection accepted: /home/model-server/tmp/.ts.sock.9006.\u001b[0m\n",
      "\u001b[34m2023-08-13T18:13:34,026 [INFO ] W-9003-model_1.0-stdout MODEL_LOG - s_name_part0=/home/model-server/tmp/.ts.sock, s_name_part1=9003, pid=65\u001b[0m\n",
      "\u001b[34m2023-08-13T18:13:34,028 [INFO ] W-9003-model_1.0-stdout MODEL_LOG - Listening on port: /home/model-server/tmp/.ts.sock.9003\u001b[0m\n",
      "\u001b[34m2023-08-13T18:13:34,042 [INFO ] W-9003-model_1.0-stdout MODEL_LOG - Successfully loaded /opt/conda/lib/python3.10/site-packages/ts/configs/metrics.yaml.\u001b[0m\n",
      "\u001b[34m2023-08-13T18:13:34,043 [INFO ] W-9003-model_1.0-stdout MODEL_LOG - [PID]65\u001b[0m\n",
      "\u001b[34m2023-08-13T18:13:34,043 [INFO ] W-9003-model_1.0-stdout MODEL_LOG - Torch worker started.\u001b[0m\n",
      "\u001b[34m2023-08-13T18:13:34,044 [INFO ] W-9003-model_1.0-stdout MODEL_LOG - Python runtime: 3.10.9\u001b[0m\n",
      "\u001b[34m2023-08-13T18:13:34,044 [INFO ] W-9003-model_1.0 org.pytorch.serve.wlm.WorkerThread - Connecting to: /home/model-server/tmp/.ts.sock.9003\u001b[0m\n",
      "\u001b[34m2023-08-13T18:13:34,054 [INFO ] W-9006-model_1.0-stdout MODEL_LOG - model_name: model, batchSize: 1\u001b[0m\n",
      "\u001b[34m2023-08-13T18:13:34,055 [INFO ] W-9003-model_1.0-stdout MODEL_LOG - Connection accepted: /home/model-server/tmp/.ts.sock.9003.\u001b[0m\n",
      "\u001b[34m2023-08-13T18:13:34,055 [INFO ] W-9003-model_1.0 org.pytorch.serve.wlm.WorkerThread - Flushing req.cmd LOAD to backend at: 1691950414055\u001b[0m\n",
      "\u001b[34m2023-08-13T18:13:34,097 [INFO ] W-9001-model_1.0-stdout MODEL_LOG - s_name_part0=/home/model-server/tmp/.ts.sock, s_name_part1=9001, pid=68\u001b[0m\n",
      "\u001b[34m2023-08-13T18:13:34,098 [INFO ] W-9001-model_1.0-stdout MODEL_LOG - Listening on port: /home/model-server/tmp/.ts.sock.9001\u001b[0m\n",
      "\u001b[34m2023-08-13T18:13:34,121 [INFO ] W-9001-model_1.0-stdout MODEL_LOG - Successfully loaded /opt/conda/lib/python3.10/site-packages/ts/configs/metrics.yaml.\u001b[0m\n",
      "\u001b[34m2023-08-13T18:13:34,124 [INFO ] W-9001-model_1.0-stdout MODEL_LOG - [PID]68\u001b[0m\n",
      "\u001b[34m2023-08-13T18:13:34,126 [INFO ] W-9003-model_1.0-stdout MODEL_LOG - model_name: model, batchSize: 1\u001b[0m\n",
      "\u001b[34m2023-08-13T18:13:34,128 [INFO ] W-9001-model_1.0-stdout MODEL_LOG - Torch worker started.\u001b[0m\n",
      "\u001b[34m2023-08-13T18:13:34,128 [INFO ] W-9001-model_1.0-stdout MODEL_LOG - Python runtime: 3.10.9\u001b[0m\n",
      "\u001b[34m2023-08-13T18:13:34,128 [INFO ] W-9001-model_1.0 org.pytorch.serve.wlm.WorkerThread - Connecting to: /home/model-server/tmp/.ts.sock.9001\u001b[0m\n",
      "\u001b[34m2023-08-13T18:13:34,151 [INFO ] W-9001-model_1.0 org.pytorch.serve.wlm.WorkerThread - Flushing req.cmd LOAD to backend at: 1691950414151\u001b[0m\n",
      "\u001b[34m2023-08-13T18:13:34,151 [INFO ] W-9001-model_1.0-stdout MODEL_LOG - Connection accepted: /home/model-server/tmp/.ts.sock.9001.\u001b[0m\n",
      "\u001b[35m2023-08-13T18:13:33,974 [INFO ] W-9006-model_1.0-stdout MODEL_LOG - Listening on port: /home/model-server/tmp/.ts.sock.9006\u001b[0m\n",
      "\u001b[35m2023-08-13T18:13:33,990 [INFO ] W-9006-model_1.0-stdout MODEL_LOG - Successfully loaded /opt/conda/lib/python3.10/site-packages/ts/configs/metrics.yaml.\u001b[0m\n",
      "\u001b[35m2023-08-13T18:13:33,999 [INFO ] W-9006-model_1.0-stdout MODEL_LOG - [PID]66\u001b[0m\n",
      "\u001b[35m2023-08-13T18:13:33,999 [INFO ] W-9006-model_1.0-stdout MODEL_LOG - Torch worker started.\u001b[0m\n",
      "\u001b[35m2023-08-13T18:13:34,000 [INFO ] W-9006-model_1.0 org.pytorch.serve.wlm.WorkerThread - Connecting to: /home/model-server/tmp/.ts.sock.9006\u001b[0m\n",
      "\u001b[35m2023-08-13T18:13:34,001 [INFO ] W-9006-model_1.0-stdout MODEL_LOG - Python runtime: 3.10.9\u001b[0m\n",
      "\u001b[35m2023-08-13T18:13:34,002 [INFO ] W-9006-model_1.0 org.pytorch.serve.wlm.WorkerThread - Flushing req.cmd LOAD to backend at: 1691950414002\u001b[0m\n",
      "\u001b[35m2023-08-13T18:13:34,014 [INFO ] W-9006-model_1.0-stdout MODEL_LOG - Connection accepted: /home/model-server/tmp/.ts.sock.9006.\u001b[0m\n",
      "\u001b[35m2023-08-13T18:13:34,026 [INFO ] W-9003-model_1.0-stdout MODEL_LOG - s_name_part0=/home/model-server/tmp/.ts.sock, s_name_part1=9003, pid=65\u001b[0m\n",
      "\u001b[35m2023-08-13T18:13:34,028 [INFO ] W-9003-model_1.0-stdout MODEL_LOG - Listening on port: /home/model-server/tmp/.ts.sock.9003\u001b[0m\n",
      "\u001b[35m2023-08-13T18:13:34,042 [INFO ] W-9003-model_1.0-stdout MODEL_LOG - Successfully loaded /opt/conda/lib/python3.10/site-packages/ts/configs/metrics.yaml.\u001b[0m\n",
      "\u001b[35m2023-08-13T18:13:34,043 [INFO ] W-9003-model_1.0-stdout MODEL_LOG - [PID]65\u001b[0m\n",
      "\u001b[35m2023-08-13T18:13:34,043 [INFO ] W-9003-model_1.0-stdout MODEL_LOG - Torch worker started.\u001b[0m\n",
      "\u001b[35m2023-08-13T18:13:34,044 [INFO ] W-9003-model_1.0-stdout MODEL_LOG - Python runtime: 3.10.9\u001b[0m\n",
      "\u001b[35m2023-08-13T18:13:34,044 [INFO ] W-9003-model_1.0 org.pytorch.serve.wlm.WorkerThread - Connecting to: /home/model-server/tmp/.ts.sock.9003\u001b[0m\n",
      "\u001b[35m2023-08-13T18:13:34,054 [INFO ] W-9006-model_1.0-stdout MODEL_LOG - model_name: model, batchSize: 1\u001b[0m\n",
      "\u001b[35m2023-08-13T18:13:34,055 [INFO ] W-9003-model_1.0-stdout MODEL_LOG - Connection accepted: /home/model-server/tmp/.ts.sock.9003.\u001b[0m\n",
      "\u001b[35m2023-08-13T18:13:34,055 [INFO ] W-9003-model_1.0 org.pytorch.serve.wlm.WorkerThread - Flushing req.cmd LOAD to backend at: 1691950414055\u001b[0m\n",
      "\u001b[35m2023-08-13T18:13:34,097 [INFO ] W-9001-model_1.0-stdout MODEL_LOG - s_name_part0=/home/model-server/tmp/.ts.sock, s_name_part1=9001, pid=68\u001b[0m\n",
      "\u001b[35m2023-08-13T18:13:34,098 [INFO ] W-9001-model_1.0-stdout MODEL_LOG - Listening on port: /home/model-server/tmp/.ts.sock.9001\u001b[0m\n",
      "\u001b[35m2023-08-13T18:13:34,121 [INFO ] W-9001-model_1.0-stdout MODEL_LOG - Successfully loaded /opt/conda/lib/python3.10/site-packages/ts/configs/metrics.yaml.\u001b[0m\n",
      "\u001b[35m2023-08-13T18:13:34,124 [INFO ] W-9001-model_1.0-stdout MODEL_LOG - [PID]68\u001b[0m\n",
      "\u001b[35m2023-08-13T18:13:34,126 [INFO ] W-9003-model_1.0-stdout MODEL_LOG - model_name: model, batchSize: 1\u001b[0m\n",
      "\u001b[35m2023-08-13T18:13:34,128 [INFO ] W-9001-model_1.0-stdout MODEL_LOG - Torch worker started.\u001b[0m\n",
      "\u001b[35m2023-08-13T18:13:34,128 [INFO ] W-9001-model_1.0-stdout MODEL_LOG - Python runtime: 3.10.9\u001b[0m\n",
      "\u001b[35m2023-08-13T18:13:34,128 [INFO ] W-9001-model_1.0 org.pytorch.serve.wlm.WorkerThread - Connecting to: /home/model-server/tmp/.ts.sock.9001\u001b[0m\n",
      "\u001b[35m2023-08-13T18:13:34,151 [INFO ] W-9001-model_1.0 org.pytorch.serve.wlm.WorkerThread - Flushing req.cmd LOAD to backend at: 1691950414151\u001b[0m\n",
      "\u001b[35m2023-08-13T18:13:34,151 [INFO ] W-9001-model_1.0-stdout MODEL_LOG - Connection accepted: /home/model-server/tmp/.ts.sock.9001.\u001b[0m\n",
      "\u001b[34m2023-08-13T18:13:34,240 [INFO ] W-9001-model_1.0-stdout MODEL_LOG - model_name: model, batchSize: 1\u001b[0m\n",
      "\u001b[34m2023-08-13T18:13:34,981 [INFO ] W-9007-model_1.0 org.pytorch.serve.wlm.WorkerThread - Backend response time: 1371\u001b[0m\n",
      "\u001b[34m2023-08-13T18:13:34,982 [INFO ] W-9007-model_1.0 TS_METRICS - WorkerLoadTime.Milliseconds:4043.0|#WorkerName:W-9007-model_1.0,Level:Host|#hostname:d1e8d1df194c,timestamp:1691950414\u001b[0m\n",
      "\u001b[34m2023-08-13T18:13:34,984 [INFO ] W-9007-model_1.0 TS_METRICS - WorkerThreadTime.Milliseconds:34.0|#Level:Host|#hostname:d1e8d1df194c,timestamp:1691950414\u001b[0m\n",
      "\u001b[34m2023-08-13T18:13:35,042 [INFO ] W-9005-model_1.0 org.pytorch.serve.wlm.WorkerThread - Backend response time: 1298\u001b[0m\n",
      "\u001b[34m2023-08-13T18:13:35,043 [INFO ] W-9005-model_1.0 TS_METRICS - WorkerLoadTime.Milliseconds:4104.0|#WorkerName:W-9005-model_1.0,Level:Host|#hostname:d1e8d1df194c,timestamp:1691950415\u001b[0m\n",
      "\u001b[34m2023-08-13T18:13:35,043 [INFO ] W-9005-model_1.0 TS_METRICS - WorkerThreadTime.Milliseconds:97.0|#Level:Host|#hostname:d1e8d1df194c,timestamp:1691950415\u001b[0m\n",
      "\u001b[34m2023-08-13T18:13:35,054 [INFO ] W-9004-model_1.0 org.pytorch.serve.wlm.WorkerThread - Backend response time: 1512\u001b[0m\n",
      "\u001b[34m2023-08-13T18:13:35,055 [INFO ] W-9004-model_1.0 TS_METRICS - WorkerLoadTime.Milliseconds:4116.0|#WorkerName:W-9004-model_1.0,Level:Host|#hostname:d1e8d1df194c,timestamp:1691950415\u001b[0m\n",
      "\u001b[34m2023-08-13T18:13:35,055 [INFO ] W-9004-model_1.0 TS_METRICS - WorkerThreadTime.Milliseconds:53.0|#Level:Host|#hostname:d1e8d1df194c,timestamp:1691950415\u001b[0m\n",
      "\u001b[35m2023-08-13T18:13:34,240 [INFO ] W-9001-model_1.0-stdout MODEL_LOG - model_name: model, batchSize: 1\u001b[0m\n",
      "\u001b[35m2023-08-13T18:13:34,981 [INFO ] W-9007-model_1.0 org.pytorch.serve.wlm.WorkerThread - Backend response time: 1371\u001b[0m\n",
      "\u001b[35m2023-08-13T18:13:34,982 [INFO ] W-9007-model_1.0 TS_METRICS - WorkerLoadTime.Milliseconds:4043.0|#WorkerName:W-9007-model_1.0,Level:Host|#hostname:d1e8d1df194c,timestamp:1691950414\u001b[0m\n",
      "\u001b[35m2023-08-13T18:13:34,984 [INFO ] W-9007-model_1.0 TS_METRICS - WorkerThreadTime.Milliseconds:34.0|#Level:Host|#hostname:d1e8d1df194c,timestamp:1691950414\u001b[0m\n",
      "\u001b[35m2023-08-13T18:13:35,042 [INFO ] W-9005-model_1.0 org.pytorch.serve.wlm.WorkerThread - Backend response time: 1298\u001b[0m\n",
      "\u001b[35m2023-08-13T18:13:35,043 [INFO ] W-9005-model_1.0 TS_METRICS - WorkerLoadTime.Milliseconds:4104.0|#WorkerName:W-9005-model_1.0,Level:Host|#hostname:d1e8d1df194c,timestamp:1691950415\u001b[0m\n",
      "\u001b[35m2023-08-13T18:13:35,043 [INFO ] W-9005-model_1.0 TS_METRICS - WorkerThreadTime.Milliseconds:97.0|#Level:Host|#hostname:d1e8d1df194c,timestamp:1691950415\u001b[0m\n",
      "\u001b[35m2023-08-13T18:13:35,054 [INFO ] W-9004-model_1.0 org.pytorch.serve.wlm.WorkerThread - Backend response time: 1512\u001b[0m\n",
      "\u001b[35m2023-08-13T18:13:35,055 [INFO ] W-9004-model_1.0 TS_METRICS - WorkerLoadTime.Milliseconds:4116.0|#WorkerName:W-9004-model_1.0,Level:Host|#hostname:d1e8d1df194c,timestamp:1691950415\u001b[0m\n",
      "\u001b[35m2023-08-13T18:13:35,055 [INFO ] W-9004-model_1.0 TS_METRICS - WorkerThreadTime.Milliseconds:53.0|#Level:Host|#hostname:d1e8d1df194c,timestamp:1691950415\u001b[0m\n",
      "\u001b[34m2023-08-13T18:13:35,254 [INFO ] W-9002-model_1.0 org.pytorch.serve.wlm.WorkerThread - Backend response time: 1721\u001b[0m\n",
      "\u001b[34m2023-08-13T18:13:35,255 [INFO ] W-9002-model_1.0 TS_METRICS - WorkerLoadTime.Milliseconds:4318.0|#WorkerName:W-9002-model_1.0,Level:Host|#hostname:d1e8d1df194c,timestamp:1691950415\u001b[0m\n",
      "\u001b[35m2023-08-13T18:13:35,254 [INFO ] W-9002-model_1.0 org.pytorch.serve.wlm.WorkerThread - Backend response time: 1721\u001b[0m\n",
      "\u001b[35m2023-08-13T18:13:35,255 [INFO ] W-9002-model_1.0 TS_METRICS - WorkerLoadTime.Milliseconds:4318.0|#WorkerName:W-9002-model_1.0,Level:Host|#hostname:d1e8d1df194c,timestamp:1691950415\u001b[0m\n",
      "\u001b[34m2023-08-13T18:13:35,255 [INFO ] W-9002-model_1.0 TS_METRICS - WorkerThreadTime.Milliseconds:67.0|#Level:Host|#hostname:d1e8d1df194c,timestamp:1691950415\u001b[0m\n",
      "\u001b[34m2023-08-13T18:13:35,317 [INFO ] W-9003-model_1.0 org.pytorch.serve.wlm.WorkerThread - Backend response time: 1179\u001b[0m\n",
      "\u001b[34m2023-08-13T18:13:35,318 [INFO ] W-9003-model_1.0 TS_METRICS - WorkerLoadTime.Milliseconds:4380.0|#WorkerName:W-9003-model_1.0,Level:Host|#hostname:d1e8d1df194c,timestamp:1691950415\u001b[0m\n",
      "\u001b[34m2023-08-13T18:13:35,319 [INFO ] W-9003-model_1.0 TS_METRICS - WorkerThreadTime.Milliseconds:85.0|#Level:Host|#hostname:d1e8d1df194c,timestamp:1691950415\u001b[0m\n",
      "\u001b[34m2023-08-13T18:13:35,467 [INFO ] W-9000-model_1.0 org.pytorch.serve.wlm.WorkerThread - Backend response time: 1542\u001b[0m\n",
      "\u001b[34m2023-08-13T18:13:35,468 [INFO ] W-9000-model_1.0 TS_METRICS - WorkerLoadTime.Milliseconds:4531.0|#WorkerName:W-9000-model_1.0,Level:Host|#hostname:d1e8d1df194c,timestamp:1691950415\u001b[0m\n",
      "\u001b[34m2023-08-13T18:13:35,468 [INFO ] W-9000-model_1.0 TS_METRICS - WorkerThreadTime.Milliseconds:79.0|#Level:Host|#hostname:d1e8d1df194c,timestamp:1691950415\u001b[0m\n",
      "\u001b[34m2023-08-13T18:13:35,605 [INFO ] W-9006-model_1.0 org.pytorch.serve.wlm.WorkerThread - Backend response time: 1544\u001b[0m\n",
      "\u001b[34m2023-08-13T18:13:35,606 [INFO ] W-9006-model_1.0 TS_METRICS - WorkerLoadTime.Milliseconds:4667.0|#WorkerName:W-9006-model_1.0,Level:Host|#hostname:d1e8d1df194c,timestamp:1691950415\u001b[0m\n",
      "\u001b[34m2023-08-13T18:13:35,607 [INFO ] W-9006-model_1.0 TS_METRICS - WorkerThreadTime.Milliseconds:61.0|#Level:Host|#hostname:d1e8d1df194c,timestamp:1691950415\u001b[0m\n",
      "\u001b[34m2023-08-13T18:13:35,624 [INFO ] W-9001-model_1.0 org.pytorch.serve.wlm.WorkerThread - Backend response time: 1386\u001b[0m\n",
      "\u001b[34m2023-08-13T18:13:35,625 [INFO ] W-9001-model_1.0 TS_METRICS - WorkerLoadTime.Milliseconds:4688.0|#WorkerName:W-9001-model_1.0,Level:Host|#hostname:d1e8d1df194c,timestamp:1691950415\u001b[0m\n",
      "\u001b[34m2023-08-13T18:13:35,625 [INFO ] W-9001-model_1.0 TS_METRICS - WorkerThreadTime.Milliseconds:88.0|#Level:Host|#hostname:d1e8d1df194c,timestamp:1691950415\u001b[0m\n",
      "\u001b[35m2023-08-13T18:13:35,255 [INFO ] W-9002-model_1.0 TS_METRICS - WorkerThreadTime.Milliseconds:67.0|#Level:Host|#hostname:d1e8d1df194c,timestamp:1691950415\u001b[0m\n",
      "\u001b[35m2023-08-13T18:13:35,317 [INFO ] W-9003-model_1.0 org.pytorch.serve.wlm.WorkerThread - Backend response time: 1179\u001b[0m\n",
      "\u001b[35m2023-08-13T18:13:35,318 [INFO ] W-9003-model_1.0 TS_METRICS - WorkerLoadTime.Milliseconds:4380.0|#WorkerName:W-9003-model_1.0,Level:Host|#hostname:d1e8d1df194c,timestamp:1691950415\u001b[0m\n",
      "\u001b[35m2023-08-13T18:13:35,319 [INFO ] W-9003-model_1.0 TS_METRICS - WorkerThreadTime.Milliseconds:85.0|#Level:Host|#hostname:d1e8d1df194c,timestamp:1691950415\u001b[0m\n",
      "\u001b[35m2023-08-13T18:13:35,467 [INFO ] W-9000-model_1.0 org.pytorch.serve.wlm.WorkerThread - Backend response time: 1542\u001b[0m\n",
      "\u001b[35m2023-08-13T18:13:35,468 [INFO ] W-9000-model_1.0 TS_METRICS - WorkerLoadTime.Milliseconds:4531.0|#WorkerName:W-9000-model_1.0,Level:Host|#hostname:d1e8d1df194c,timestamp:1691950415\u001b[0m\n",
      "\u001b[35m2023-08-13T18:13:35,468 [INFO ] W-9000-model_1.0 TS_METRICS - WorkerThreadTime.Milliseconds:79.0|#Level:Host|#hostname:d1e8d1df194c,timestamp:1691950415\u001b[0m\n",
      "\u001b[35m2023-08-13T18:13:35,605 [INFO ] W-9006-model_1.0 org.pytorch.serve.wlm.WorkerThread - Backend response time: 1544\u001b[0m\n",
      "\u001b[35m2023-08-13T18:13:35,606 [INFO ] W-9006-model_1.0 TS_METRICS - WorkerLoadTime.Milliseconds:4667.0|#WorkerName:W-9006-model_1.0,Level:Host|#hostname:d1e8d1df194c,timestamp:1691950415\u001b[0m\n",
      "\u001b[35m2023-08-13T18:13:35,607 [INFO ] W-9006-model_1.0 TS_METRICS - WorkerThreadTime.Milliseconds:61.0|#Level:Host|#hostname:d1e8d1df194c,timestamp:1691950415\u001b[0m\n",
      "\u001b[35m2023-08-13T18:13:35,624 [INFO ] W-9001-model_1.0 org.pytorch.serve.wlm.WorkerThread - Backend response time: 1386\u001b[0m\n",
      "\u001b[35m2023-08-13T18:13:35,625 [INFO ] W-9001-model_1.0 TS_METRICS - WorkerLoadTime.Milliseconds:4688.0|#WorkerName:W-9001-model_1.0,Level:Host|#hostname:d1e8d1df194c,timestamp:1691950415\u001b[0m\n",
      "\u001b[35m2023-08-13T18:13:35,625 [INFO ] W-9001-model_1.0 TS_METRICS - WorkerThreadTime.Milliseconds:88.0|#Level:Host|#hostname:d1e8d1df194c,timestamp:1691950415\u001b[0m\n",
      "\u001b[34m2023-08-13T18:13:37,140 [INFO ] pool-2-thread-9 ACCESS_LOG - /169.254.255.130:41594 \"GET /ping HTTP/1.1\" 200 27\u001b[0m\n",
      "\u001b[34m2023-08-13T18:13:37,141 [INFO ] pool-2-thread-9 TS_METRICS - Requests2XX.Count:1.0|#Level:Host|#hostname:d1e8d1df194c,timestamp:1691950417\u001b[0m\n",
      "\u001b[34m2023-08-13T18:13:37,161 [INFO ] epollEventLoopGroup-3-2 ACCESS_LOG - /169.254.255.130:41608 \"GET /execution-parameters HTTP/1.1\" 404 2\u001b[0m\n",
      "\u001b[34m2023-08-13T18:13:37,162 [INFO ] epollEventLoopGroup-3-2 TS_METRICS - Requests4XX.Count:1.0|#Level:Host|#hostname:d1e8d1df194c,timestamp:1691950417\u001b[0m\n",
      "\u001b[34m2023-08-13T18:13:37,202 [INFO ] epollEventLoopGroup-3-3 TS_METRICS - ts_inference_requests_total.Count:1.0|#model_name:model,model_version:default|#hostname:d1e8d1df194c,timestamp:1691950417\u001b[0m\n",
      "\u001b[34m2023-08-13T18:13:37,203 [INFO ] W-9007-model_1.0 org.pytorch.serve.wlm.WorkerThread - Flushing req.cmd PREDICT to backend at: 1691950417203\u001b[0m\n",
      "\u001b[34m2023-08-13T18:13:37,210 [INFO ] W-9007-model_1.0-stdout MODEL_LOG - Backend received inference at: 1691950417\u001b[0m\n",
      "\u001b[35m2023-08-13T18:13:37,140 [INFO ] pool-2-thread-9 ACCESS_LOG - /169.254.255.130:41594 \"GET /ping HTTP/1.1\" 200 27\u001b[0m\n",
      "\u001b[35m2023-08-13T18:13:37,141 [INFO ] pool-2-thread-9 TS_METRICS - Requests2XX.Count:1.0|#Level:Host|#hostname:d1e8d1df194c,timestamp:1691950417\u001b[0m\n",
      "\u001b[35m2023-08-13T18:13:37,161 [INFO ] epollEventLoopGroup-3-2 ACCESS_LOG - /169.254.255.130:41608 \"GET /execution-parameters HTTP/1.1\" 404 2\u001b[0m\n",
      "\u001b[35m2023-08-13T18:13:37,162 [INFO ] epollEventLoopGroup-3-2 TS_METRICS - Requests4XX.Count:1.0|#Level:Host|#hostname:d1e8d1df194c,timestamp:1691950417\u001b[0m\n",
      "\u001b[35m2023-08-13T18:13:37,202 [INFO ] epollEventLoopGroup-3-3 TS_METRICS - ts_inference_requests_total.Count:1.0|#model_name:model,model_version:default|#hostname:d1e8d1df194c,timestamp:1691950417\u001b[0m\n",
      "\u001b[35m2023-08-13T18:13:37,203 [INFO ] W-9007-model_1.0 org.pytorch.serve.wlm.WorkerThread - Flushing req.cmd PREDICT to backend at: 1691950417203\u001b[0m\n",
      "\u001b[35m2023-08-13T18:13:37,210 [INFO ] W-9007-model_1.0-stdout MODEL_LOG - Backend received inference at: 1691950417\u001b[0m\n",
      "\u001b[34m2023-08-13T18:13:37,310 [INFO ] W-9007-model_1.0-stdout MODEL_LOG - Running batch transform job on 100 records.\u001b[0m\n",
      "\u001b[34m2023-08-13T18:13:37,311 [INFO ] W-9007-model_1.0-stdout MODEL_LOG - Batch transform job returned 100 records.\u001b[0m\n",
      "\u001b[34m2023-08-13T18:13:37,311 [INFO ] W-9007-model_1.0-stdout org.pytorch.serve.wlm.WorkerLifeCycle - result=[METRICS]PredictionTime.Milliseconds:104.07|#ModelName:model,Level:Model|#hostname:d1e8d1df194c,1691950417,bbfe83af-a83d-4f70-86e8-3b73c0e37484, pattern=[METRICS]\u001b[0m\n",
      "\u001b[34m2023-08-13T18:13:37,311 [INFO ] W-9007-model_1.0 ACCESS_LOG - /169.254.255.130:41612 \"POST /invocations HTTP/1.1\" 200 112\u001b[0m\n",
      "\u001b[34m2023-08-13T18:13:37,312 [INFO ] W-9007-model_1.0 TS_METRICS - Requests2XX.Count:1.0|#Level:Host|#hostname:d1e8d1df194c,timestamp:1691950417\u001b[0m\n",
      "\u001b[34m2023-08-13T18:13:37,313 [INFO ] W-9007-model_1.0 TS_METRICS - ts_inference_latency_microseconds.Microseconds:108130.036|#model_name:model,model_version:default|#hostname:d1e8d1df194c,timestamp:1691950417\u001b[0m\n",
      "\u001b[34m2023-08-13T18:13:37,313 [INFO ] W-9007-model_1.0 TS_METRICS - ts_queue_latency_microseconds.Microseconds:189.213|#model_name:model,model_version:default|#hostname:d1e8d1df194c,timestamp:1691950417\u001b[0m\n",
      "\u001b[34m2023-08-13T18:13:37,313 [INFO ] W-9007-model_1.0-stdout MODEL_METRICS - PredictionTime.ms:104.07|#ModelName:model,Level:Model|#hostname:d1e8d1df194c,requestID:bbfe83af-a83d-4f70-86e8-3b73c0e37484,timestamp:1691950417\u001b[0m\n",
      "\u001b[34m2023-08-13T18:13:37,314 [INFO ] W-9007-model_1.0 TS_METRICS - QueueTime.Milliseconds:0.0|#Level:Host|#hostname:d1e8d1df194c,timestamp:1691950417\u001b[0m\n",
      "\u001b[34m2023-08-13T18:13:37,315 [INFO ] W-9007-model_1.0 org.pytorch.serve.wlm.WorkerThread - Backend response time: 106\u001b[0m\n",
      "\u001b[34m2023-08-13T18:13:37,316 [INFO ] W-9007-model_1.0 TS_METRICS - WorkerThreadTime.Milliseconds:7.0|#Level:Host|#hostname:d1e8d1df194c,timestamp:1691950417\u001b[0m\n",
      "\u001b[35m2023-08-13T18:13:37,310 [INFO ] W-9007-model_1.0-stdout MODEL_LOG - Running batch transform job on 100 records.\u001b[0m\n",
      "\u001b[35m2023-08-13T18:13:37,311 [INFO ] W-9007-model_1.0-stdout MODEL_LOG - Batch transform job returned 100 records.\u001b[0m\n",
      "\u001b[35m2023-08-13T18:13:37,311 [INFO ] W-9007-model_1.0-stdout org.pytorch.serve.wlm.WorkerLifeCycle - result=[METRICS]PredictionTime.Milliseconds:104.07|#ModelName:model,Level:Model|#hostname:d1e8d1df194c,1691950417,bbfe83af-a83d-4f70-86e8-3b73c0e37484, pattern=[METRICS]\u001b[0m\n",
      "\u001b[35m2023-08-13T18:13:37,311 [INFO ] W-9007-model_1.0 ACCESS_LOG - /169.254.255.130:41612 \"POST /invocations HTTP/1.1\" 200 112\u001b[0m\n",
      "\u001b[35m2023-08-13T18:13:37,312 [INFO ] W-9007-model_1.0 TS_METRICS - Requests2XX.Count:1.0|#Level:Host|#hostname:d1e8d1df194c,timestamp:1691950417\u001b[0m\n",
      "\u001b[35m2023-08-13T18:13:37,313 [INFO ] W-9007-model_1.0 TS_METRICS - ts_inference_latency_microseconds.Microseconds:108130.036|#model_name:model,model_version:default|#hostname:d1e8d1df194c,timestamp:1691950417\u001b[0m\n",
      "\u001b[35m2023-08-13T18:13:37,313 [INFO ] W-9007-model_1.0 TS_METRICS - ts_queue_latency_microseconds.Microseconds:189.213|#model_name:model,model_version:default|#hostname:d1e8d1df194c,timestamp:1691950417\u001b[0m\n",
      "\u001b[35m2023-08-13T18:13:37,313 [INFO ] W-9007-model_1.0-stdout MODEL_METRICS - PredictionTime.ms:104.07|#ModelName:model,Level:Model|#hostname:d1e8d1df194c,requestID:bbfe83af-a83d-4f70-86e8-3b73c0e37484,timestamp:1691950417\u001b[0m\n",
      "\u001b[35m2023-08-13T18:13:37,314 [INFO ] W-9007-model_1.0 TS_METRICS - QueueTime.Milliseconds:0.0|#Level:Host|#hostname:d1e8d1df194c,timestamp:1691950417\u001b[0m\n",
      "\u001b[35m2023-08-13T18:13:37,315 [INFO ] W-9007-model_1.0 org.pytorch.serve.wlm.WorkerThread - Backend response time: 106\u001b[0m\n",
      "\u001b[35m2023-08-13T18:13:37,316 [INFO ] W-9007-model_1.0 TS_METRICS - WorkerThreadTime.Milliseconds:7.0|#Level:Host|#hostname:d1e8d1df194c,timestamp:1691950417\u001b[0m\n",
      "\n",
      "\u001b[32m2023-08-13T18:13:37.169:[sagemaker logs]: MaxConcurrentTransforms=1, MaxPayloadInMB=6, BatchStrategy=MULTI_RECORD\u001b[0m\n"
     ]
    }
   ],
   "source": [
    "transformer.transform(\n",
    "    data=test_data,\n",
    "    content_type=\"text/csv\",\n",
    ")"
   ]
  },
  {
   "cell_type": "code",
   "execution_count": 61,
   "metadata": {
    "tags": []
   },
   "outputs": [],
   "source": [
    "batch_predictions = sagemaker_session.read_s3_file(\n",
    "    bucket=bucket,\n",
    "    key_prefix=f\"{transformer.latest_transform_job.name}/test_data.csv.out\"\n",
    ")\n",
    "\n",
    "batch_predictions = batch_predictions.split(\"\\n\")[:-1]\n",
    "batch_predictions = pd.DataFrame(batch_predictions).astype(float)"
   ]
  },
  {
   "cell_type": "code",
   "execution_count": 62,
   "metadata": {},
   "outputs": [
    {
     "data": {
      "text/plain": [
       "(100, 1)"
      ]
     },
     "execution_count": 62,
     "metadata": {},
     "output_type": "execute_result"
    }
   ],
   "source": [
    "batch_predictions.shape"
   ]
  },
  {
   "cell_type": "code",
   "execution_count": 63,
   "metadata": {},
   "outputs": [
    {
     "data": {
      "text/html": [
       "<div>\n",
       "<style scoped>\n",
       "    .dataframe tbody tr th:only-of-type {\n",
       "        vertical-align: middle;\n",
       "    }\n",
       "\n",
       "    .dataframe tbody tr th {\n",
       "        vertical-align: top;\n",
       "    }\n",
       "\n",
       "    .dataframe thead th {\n",
       "        text-align: right;\n",
       "    }\n",
       "</style>\n",
       "<table border=\"1\" class=\"dataframe\">\n",
       "  <thead>\n",
       "    <tr style=\"text-align: right;\">\n",
       "      <th></th>\n",
       "      <th>0</th>\n",
       "    </tr>\n",
       "  </thead>\n",
       "  <tbody>\n",
       "    <tr>\n",
       "      <th>0</th>\n",
       "      <td>0.0</td>\n",
       "    </tr>\n",
       "    <tr>\n",
       "      <th>1</th>\n",
       "      <td>2.0</td>\n",
       "    </tr>\n",
       "    <tr>\n",
       "      <th>2</th>\n",
       "      <td>0.0</td>\n",
       "    </tr>\n",
       "    <tr>\n",
       "      <th>3</th>\n",
       "      <td>0.0</td>\n",
       "    </tr>\n",
       "    <tr>\n",
       "      <th>4</th>\n",
       "      <td>1.0</td>\n",
       "    </tr>\n",
       "  </tbody>\n",
       "</table>\n",
       "</div>"
      ],
      "text/plain": [
       "     0\n",
       "0  0.0\n",
       "1  2.0\n",
       "2  0.0\n",
       "3  0.0\n",
       "4  1.0"
      ]
     },
     "execution_count": 63,
     "metadata": {},
     "output_type": "execute_result"
    }
   ],
   "source": [
    "batch_predictions.head()"
   ]
  },
  {
   "cell_type": "code",
   "execution_count": 64,
   "metadata": {
    "tags": []
   },
   "outputs": [
    {
     "data": {
      "text/plain": [
       "array([0., 1., 2.])"
      ]
     },
     "execution_count": 64,
     "metadata": {},
     "output_type": "execute_result"
    }
   ],
   "source": [
    "batch_predictions.iloc[:, 0].sort_values().unique()"
   ]
  },
  {
   "cell_type": "code",
   "execution_count": 65,
   "metadata": {},
   "outputs": [
    {
     "data": {
      "text/plain": [
       "0.0    34\n",
       "1.0    32\n",
       "2.0    34\n",
       "Name: count, dtype: int64"
      ]
     },
     "execution_count": 65,
     "metadata": {},
     "output_type": "execute_result"
    }
   ],
   "source": [
    "batch_predictions.iloc[:, 0].rename(None).value_counts().sort_index()"
   ]
  },
  {
   "cell_type": "code",
   "execution_count": 66,
   "metadata": {},
   "outputs": [
    {
     "data": {
      "image/png": "[encoded data removed]",
      "text/plain": [
       "<Figure size 500x600 with 3 Axes>"
      ]
     },
     "metadata": {},
     "output_type": "display_data"
    }
   ],
   "source": [
    "fig, axs = plt.subplots(nrows=batch_predictions.iloc[:, 0].nunique(), ncols=1, sharex=True, figsize=(5, 6))\n",
    "for i, c in enumerate(batch_predictions.iloc[:, 0].sort_values().unique()):\n",
    "    axs[i].plot(test_dataset[batch_predictions.iloc[:, 0] == c].iloc[:, 1:].transpose(), color=\"#AFB8C1\", lw=0.5, alpha=0.5)\n",
    "    axs[i].plot(test_dataset[batch_predictions.iloc[:, 0] == c].iloc[:, 1:].transpose().median(axis=1), color=\"#009ad3\", lw=1, label=\"Median\" if i == 0 else None)\n",
    "    axs[i].set_title(f\"Class {int(c)}\", size=10)\n",
    "    axs[i].set(xlabel=\"Time\", ylabel=\"Value\")\n",
    "    axs[i].xaxis.set_tick_params(labelbottom=True)\n",
    "    axs[i].tick_params(axis=\"both\", which=\"major\", labelsize=7)\n",
    "    axs[i].tick_params(axis=\"both\", which=\"minor\", labelsize=7)\n",
    "fig.subplots_adjust(hspace=0.75)\n",
    "fig.suptitle(\"Batch Predictions on Test Dataset\")\n",
    "fig.legend(frameon=False, bbox_to_anchor=(0, 0, 1.1, 1))\n",
    "fig.tight_layout()\n",
    "fig.subplots_adjust(top=0.88)\n",
    "fig.show()"
   ]
  },
  {
   "cell_type": "code",
   "execution_count": 67,
   "metadata": {
    "tags": []
   },
   "outputs": [
    {
     "data": {
      "text/plain": [
       "True"
      ]
     },
     "execution_count": 67,
     "metadata": {},
     "output_type": "execute_result"
    }
   ],
   "source": [
    "np.all(batch_predictions.values == real_time_predictions.values)"
   ]
  },
  {
   "cell_type": "code",
   "execution_count": 68,
   "metadata": {
    "tags": []
   },
   "outputs": [],
   "source": [
    "batch_results = sagemaker_session.upload_string_as_file_body(\n",
    "    body=batch_predictions.to_csv(index=False, header=False),\n",
    "    bucket=bucket,\n",
    "    key=\"data/inference/output/batch/batch_predictions.csv\"\n",
    ")"
   ]
  },
  {
   "cell_type": "code",
   "execution_count": 69,
   "metadata": {
    "tags": []
   },
   "outputs": [
    {
     "data": {
      "text/plain": [
       "'s3://sagemaker-eu-west-1-661670223746/data/inference/output/batch/batch_predictions.csv'"
      ]
     },
     "execution_count": 69,
     "metadata": {},
     "output_type": "execute_result"
    }
   ],
   "source": [
    "batch_results"
   ]
  },
  {
   "cell_type": "markdown",
   "metadata": {},
   "source": [
    "## 7. Clean-up"
   ]
  },
  {
   "cell_type": "markdown",
   "metadata": {},
   "source": [
    "### A. Delete the model"
   ]
  },
  {
   "cell_type": "code",
   "execution_count": 70,
   "metadata": {
    "tags": []
   },
   "outputs": [
    {
     "name": "stderr",
     "output_type": "stream",
     "text": [
      "INFO:sagemaker:Deleting model with name: cnn-svc-algo-v1-1-2023-08-13-18-05-55-6-2023-08-13-18-06-41-117\n"
     ]
    }
   ],
   "source": [
    "transformer.delete_model()"
   ]
  },
  {
   "cell_type": "markdown",
   "metadata": {},
   "source": [
    "### B. Unsubscribe to the listing (optional)"
   ]
  },
  {
   "cell_type": "markdown",
   "metadata": {},
   "source": [
    "If you would like to unsubscribe to the algorithm, follow these steps. Before you cancel the subscription, ensure that you do not have any [deployable model](https://console.aws.amazon.com/sagemaker/home#/models) created from the model package or using the algorithm. Note - You can find this information by looking at the container name associated with the model. \n",
    "\n",
    "**Steps to unsubscribe to product from AWS Marketplace**:\n",
    "1. Navigate to __Machine Learning__ tab on [__Your Software subscriptions page__](https://aws.amazon.com/marketplace/ai/library?productType=ml&ref_=mlmp_gitdemo_indust)\n",
    "2. Locate the listing that you want to cancel the subscription for, and then choose __Cancel Subscription__  to cancel the subscription.\n",
    "\n"
   ]
  }
 ],
 "metadata": {
  "kernelspec": {
   "display_name": "conda_python3",
   "language": "python",
   "name": "conda_python3"
  },
  "language_info": {
   "codemirror_mode": {
    "name": "ipython",
    "version": 3
   },
   "file_extension": ".py",
   "mimetype": "text/x-python",
   "name": "python",
   "nbconvert_exporter": "python",
   "pygments_lexer": "ipython3",
   "version": "3.10.10"
  }
 },
 "nbformat": 4,
 "nbformat_minor": 4
}
